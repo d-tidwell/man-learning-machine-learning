{
  "cells": [
    {
      "cell_type": "markdown",
      "metadata": {
        "colab_type": "text",
        "id": "view-in-github"
      },
      "source": [
        "<a href=\"https://colab.research.google.com/github/chefdarek/DS-Unit-1-Sprint-4-Statistical-Tests-and-Experiments/blob/master/DS_Unit_1_Sprint_Challenge_3_Darek.ipynb\" target=\"_parent\"><img src=\"https://colab.research.google.com/assets/colab-badge.svg\" alt=\"Open In Colab\"/></a>"
      ]
    },
    {
      "attachments": {},
      "cell_type": "markdown",
      "metadata": {
        "colab_type": "text",
        "id": "NooAiTdnafkz"
      },
      "source": [
        "\n",
        "\n",
        "## Exploring Data, Testing Hypotheses\n",
        "\n",
        "Looking at a dataset of people being approved or rejected for credit.\n",
        "\n",
        "https://archive.ics.uci.edu/ml/datasets/Credit+Approval\n",
        "\n",
        "Data Set Information: This file concerns credit card applications. All attribute names and values have been changed to meaningless symbols to protect confidentiality of the data. This dataset is interesting because there is a good mix of attributes -- continuous, nominal with small numbers of values, and nominal with larger numbers of values. There are also a few missing values.\n",
        "\n",
        "Attribute Information:\n",
        "- A1: b, a.\n",
        "- A2: continuous.\n",
        "- A3: continuous.\n",
        "- A4: u, y, l, t.\n",
        "- A5: g, p, gg.\n",
        "- A6: c, d, cc, i, j, k, m, r, q, w, x, e, aa, ff.\n",
        "- A7: v, h, bb, j, n, z, dd, ff, o.\n",
        "- A8: continuous.\n",
        "- A9: t, f.\n",
        "- A10: t, f.\n",
        "- A11: continuous.\n",
        "- A12: t, f.\n",
        "- A13: g, p, s.\n",
        "- A14: continuous.\n",
        "- A15: continuous.\n",
        "- A16: +,- (class attribute)\n",
        "\n",
        "Yes, most of that doesn't mean anything. A16 (the class attribute) is the most interesting, as it separates the 307 approved cases from the 383 rejected cases. The remaining variables have been obfuscated for privacy - a challenge you may have to deal with in your data science career.\n"
      ]
    },
    {
      "cell_type": "code",
      "execution_count": null,
      "metadata": {
        "colab": {},
        "colab_type": "code",
        "id": "zsIKJtlIRBTJ",
        "vscode": {
          "languageId": "python"
        }
      },
      "outputs": [],
      "source": [
        "!pip freeze\n",
        "!pip install pandas==0.23.4\n",
        "import pandas as pd\n",
        "import matplotlib.pyplot as plt\n",
        "import numpy as np\n",
        "import seaborn as sns\n",
        "pd.set_option('display.max_rows', 500)\n",
        "pd.set_option('display.max_columns', 500)\n",
        "pd.set_option('display.width', 1000)"
      ]
    },
    {
      "cell_type": "code",
      "execution_count": null,
      "metadata": {
        "colab": {},
        "colab_type": "code",
        "id": "sJX22OXtU0QT",
        "vscode": {
          "languageId": "python"
        }
      },
      "outputs": [],
      "source": [
        "import scipy.stats as stats\n"
      ]
    },
    {
      "attachments": {},
      "cell_type": "markdown",
      "metadata": {
        "colab_type": "text",
        "id": "5wch6ksCbJtZ"
      },
      "source": [
        "## Part 1 - Load and validate the data\n",
        "\n",
        "- Load the data as a `pandas` data frame.\n",
        "- Validate that it has the appropriate number of observations (you can check the raw file, and also read the dataset description from UCI).\n",
        "- UCI says there should be missing data - check, and if necessary change the data so pandas recognizes it as na\n",
        "- Make sure that the loaded features are of the types described above (continuous values should be treated as float), and correct as necessary"
      ]
    },
    {
      "cell_type": "code",
      "execution_count": null,
      "metadata": {
        "colab": {},
        "colab_type": "code",
        "id": "Q79xDLckzibS",
        "vscode": {
          "languageId": "python"
        }
      },
      "outputs": [],
      "source": [
        "df = pd.read_csv(\"https://archive.ics.uci.edu/ml/machine-learning-databases/credit-screening/crx.data\")"
      ]
    },
    {
      "cell_type": "code",
      "execution_count": 4,
      "metadata": {
        "colab": {
          "base_uri": "https://localhost:8080/",
          "height": 195
        },
        "colab_type": "code",
        "id": "lgFJZW8pNza4",
        "outputId": "fd05ee84-4aa9-4d5d-9304-fb0a5723998c",
        "vscode": {
          "languageId": "python"
        }
      },
      "outputs": [
        {
          "data": {
            "text/html": [
              "<div>\n",
              "<style scoped>\n",
              "    .dataframe tbody tr th:only-of-type {\n",
              "        vertical-align: middle;\n",
              "    }\n",
              "\n",
              "    .dataframe tbody tr th {\n",
              "        vertical-align: top;\n",
              "    }\n",
              "\n",
              "    .dataframe thead th {\n",
              "        text-align: right;\n",
              "    }\n",
              "</style>\n",
              "<table border=\"1\" class=\"dataframe\">\n",
              "  <thead>\n",
              "    <tr style=\"text-align: right;\">\n",
              "      <th></th>\n",
              "      <th>b</th>\n",
              "      <th>30.83</th>\n",
              "      <th>0</th>\n",
              "      <th>u</th>\n",
              "      <th>g</th>\n",
              "      <th>w</th>\n",
              "      <th>v</th>\n",
              "      <th>1.25</th>\n",
              "      <th>t</th>\n",
              "      <th>t.1</th>\n",
              "      <th>01</th>\n",
              "      <th>f</th>\n",
              "      <th>g.1</th>\n",
              "      <th>00202</th>\n",
              "      <th>0.1</th>\n",
              "      <th>+</th>\n",
              "    </tr>\n",
              "  </thead>\n",
              "  <tbody>\n",
              "    <tr>\n",
              "      <th>0</th>\n",
              "      <td>a</td>\n",
              "      <td>58.67</td>\n",
              "      <td>4.460</td>\n",
              "      <td>u</td>\n",
              "      <td>g</td>\n",
              "      <td>q</td>\n",
              "      <td>h</td>\n",
              "      <td>3.04</td>\n",
              "      <td>t</td>\n",
              "      <td>t</td>\n",
              "      <td>6</td>\n",
              "      <td>f</td>\n",
              "      <td>g</td>\n",
              "      <td>00043</td>\n",
              "      <td>560</td>\n",
              "      <td>+</td>\n",
              "    </tr>\n",
              "    <tr>\n",
              "      <th>1</th>\n",
              "      <td>a</td>\n",
              "      <td>24.50</td>\n",
              "      <td>0.500</td>\n",
              "      <td>u</td>\n",
              "      <td>g</td>\n",
              "      <td>q</td>\n",
              "      <td>h</td>\n",
              "      <td>1.50</td>\n",
              "      <td>t</td>\n",
              "      <td>f</td>\n",
              "      <td>0</td>\n",
              "      <td>f</td>\n",
              "      <td>g</td>\n",
              "      <td>00280</td>\n",
              "      <td>824</td>\n",
              "      <td>+</td>\n",
              "    </tr>\n",
              "    <tr>\n",
              "      <th>2</th>\n",
              "      <td>b</td>\n",
              "      <td>27.83</td>\n",
              "      <td>1.540</td>\n",
              "      <td>u</td>\n",
              "      <td>g</td>\n",
              "      <td>w</td>\n",
              "      <td>v</td>\n",
              "      <td>3.75</td>\n",
              "      <td>t</td>\n",
              "      <td>t</td>\n",
              "      <td>5</td>\n",
              "      <td>t</td>\n",
              "      <td>g</td>\n",
              "      <td>00100</td>\n",
              "      <td>3</td>\n",
              "      <td>+</td>\n",
              "    </tr>\n",
              "    <tr>\n",
              "      <th>3</th>\n",
              "      <td>b</td>\n",
              "      <td>20.17</td>\n",
              "      <td>5.625</td>\n",
              "      <td>u</td>\n",
              "      <td>g</td>\n",
              "      <td>w</td>\n",
              "      <td>v</td>\n",
              "      <td>1.71</td>\n",
              "      <td>t</td>\n",
              "      <td>f</td>\n",
              "      <td>0</td>\n",
              "      <td>f</td>\n",
              "      <td>s</td>\n",
              "      <td>00120</td>\n",
              "      <td>0</td>\n",
              "      <td>+</td>\n",
              "    </tr>\n",
              "    <tr>\n",
              "      <th>4</th>\n",
              "      <td>b</td>\n",
              "      <td>32.08</td>\n",
              "      <td>4.000</td>\n",
              "      <td>u</td>\n",
              "      <td>g</td>\n",
              "      <td>m</td>\n",
              "      <td>v</td>\n",
              "      <td>2.50</td>\n",
              "      <td>t</td>\n",
              "      <td>f</td>\n",
              "      <td>0</td>\n",
              "      <td>t</td>\n",
              "      <td>g</td>\n",
              "      <td>00360</td>\n",
              "      <td>0</td>\n",
              "      <td>+</td>\n",
              "    </tr>\n",
              "  </tbody>\n",
              "</table>\n",
              "</div>"
            ],
            "text/plain": [
              "   b  30.83      0  u  g  w  v  1.25  t t.1  01  f g.1  00202  0.1  +\n",
              "0  a  58.67  4.460  u  g  q  h  3.04  t   t   6  f   g  00043  560  +\n",
              "1  a  24.50  0.500  u  g  q  h  1.50  t   f   0  f   g  00280  824  +\n",
              "2  b  27.83  1.540  u  g  w  v  3.75  t   t   5  t   g  00100    3  +\n",
              "3  b  20.17  5.625  u  g  w  v  1.71  t   f   0  f   s  00120    0  +\n",
              "4  b  32.08  4.000  u  g  m  v  2.50  t   f   0  t   g  00360    0  +"
            ]
          },
          "execution_count": 4,
          "metadata": {
            "tags": []
          },
          "output_type": "execute_result"
        }
      ],
      "source": [
        "df.head()"
      ]
    },
    {
      "cell_type": "code",
      "execution_count": 5,
      "metadata": {
        "colab": {
          "base_uri": "https://localhost:8080/",
          "height": 166
        },
        "colab_type": "code",
        "id": "dZ-8h0d8N3x5",
        "outputId": "203891af-d38e-42c3-8d8c-c2ee7d77af2e",
        "vscode": {
          "languageId": "python"
        }
      },
      "outputs": [
        {
          "data": {
            "text/html": [
              "<div>\n",
              "<style scoped>\n",
              "    .dataframe tbody tr th:only-of-type {\n",
              "        vertical-align: middle;\n",
              "    }\n",
              "\n",
              "    .dataframe tbody tr th {\n",
              "        vertical-align: top;\n",
              "    }\n",
              "\n",
              "    .dataframe thead th {\n",
              "        text-align: right;\n",
              "    }\n",
              "</style>\n",
              "<table border=\"1\" class=\"dataframe\">\n",
              "  <thead>\n",
              "    <tr style=\"text-align: right;\">\n",
              "      <th></th>\n",
              "      <th>b</th>\n",
              "      <th>30.83</th>\n",
              "      <th>u</th>\n",
              "      <th>g</th>\n",
              "      <th>w</th>\n",
              "      <th>v</th>\n",
              "      <th>t</th>\n",
              "      <th>t.1</th>\n",
              "      <th>f</th>\n",
              "      <th>g.1</th>\n",
              "      <th>00202</th>\n",
              "      <th>+</th>\n",
              "    </tr>\n",
              "  </thead>\n",
              "  <tbody>\n",
              "    <tr>\n",
              "      <th>count</th>\n",
              "      <td>689</td>\n",
              "      <td>689</td>\n",
              "      <td>689</td>\n",
              "      <td>689</td>\n",
              "      <td>689</td>\n",
              "      <td>689</td>\n",
              "      <td>689</td>\n",
              "      <td>689</td>\n",
              "      <td>689</td>\n",
              "      <td>689</td>\n",
              "      <td>689</td>\n",
              "      <td>689</td>\n",
              "    </tr>\n",
              "    <tr>\n",
              "      <th>unique</th>\n",
              "      <td>3</td>\n",
              "      <td>349</td>\n",
              "      <td>4</td>\n",
              "      <td>4</td>\n",
              "      <td>15</td>\n",
              "      <td>10</td>\n",
              "      <td>2</td>\n",
              "      <td>2</td>\n",
              "      <td>2</td>\n",
              "      <td>3</td>\n",
              "      <td>170</td>\n",
              "      <td>2</td>\n",
              "    </tr>\n",
              "    <tr>\n",
              "      <th>top</th>\n",
              "      <td>b</td>\n",
              "      <td>?</td>\n",
              "      <td>u</td>\n",
              "      <td>g</td>\n",
              "      <td>c</td>\n",
              "      <td>v</td>\n",
              "      <td>t</td>\n",
              "      <td>f</td>\n",
              "      <td>f</td>\n",
              "      <td>g</td>\n",
              "      <td>00000</td>\n",
              "      <td>-</td>\n",
              "    </tr>\n",
              "    <tr>\n",
              "      <th>freq</th>\n",
              "      <td>467</td>\n",
              "      <td>12</td>\n",
              "      <td>518</td>\n",
              "      <td>518</td>\n",
              "      <td>137</td>\n",
              "      <td>398</td>\n",
              "      <td>360</td>\n",
              "      <td>395</td>\n",
              "      <td>373</td>\n",
              "      <td>624</td>\n",
              "      <td>132</td>\n",
              "      <td>383</td>\n",
              "    </tr>\n",
              "  </tbody>\n",
              "</table>\n",
              "</div>"
            ],
            "text/plain": [
              "          b 30.83    u    g    w    v    t  t.1    f  g.1  00202    +\n",
              "count   689   689  689  689  689  689  689  689  689  689    689  689\n",
              "unique    3   349    4    4   15   10    2    2    2    3    170    2\n",
              "top       b     ?    u    g    c    v    t    f    f    g  00000    -\n",
              "freq    467    12  518  518  137  398  360  395  373  624    132  383"
            ]
          },
          "execution_count": 5,
          "metadata": {
            "tags": []
          },
          "output_type": "execute_result"
        }
      ],
      "source": [
        "df.describe(include='object')"
      ]
    },
    {
      "cell_type": "code",
      "execution_count": null,
      "metadata": {
        "colab": {},
        "colab_type": "code",
        "id": "5i62f8jvMjwM",
        "vscode": {
          "languageId": "python"
        }
      },
      "outputs": [],
      "source": [
        "def missing_values(data):\n",
        "   total = data.isnull().sum()\n",
        "   percent = data.isnull().sum().sort_values(ascending = False)/len(data)*100\n",
        "   tp = pd.concat([total, percent], axis=1, keys=['Total', '%'])\n",
        "   return(np.transpose(tp))"
      ]
    },
    {
      "cell_type": "code",
      "execution_count": 7,
      "metadata": {
        "colab": {
          "base_uri": "https://localhost:8080/",
          "height": 241
        },
        "colab_type": "code",
        "id": "43tfPoAUSVzd",
        "outputId": "4fe0a6e3-64ba-4779-c28a-6f5324b6eef8",
        "vscode": {
          "languageId": "python"
        }
      },
      "outputs": [
        {
          "name": "stderr",
          "output_type": "stream",
          "text": [
            "/usr/local/lib/python3.6/dist-packages/ipykernel_launcher.py:4: FutureWarning: Sorting because non-concatenation axis is not aligned. A future version\n",
            "of pandas will change to not sort by default.\n",
            "\n",
            "To accept the future behavior, pass 'sort=False'.\n",
            "\n",
            "To retain the current behavior and silence the warning, pass 'sort=True'.\n",
            "\n",
            "  after removing the cwd from sys.path.\n"
          ]
        },
        {
          "data": {
            "text/html": [
              "<div>\n",
              "<style scoped>\n",
              "    .dataframe tbody tr th:only-of-type {\n",
              "        vertical-align: middle;\n",
              "    }\n",
              "\n",
              "    .dataframe tbody tr th {\n",
              "        vertical-align: top;\n",
              "    }\n",
              "\n",
              "    .dataframe thead th {\n",
              "        text-align: right;\n",
              "    }\n",
              "</style>\n",
              "<table border=\"1\" class=\"dataframe\">\n",
              "  <thead>\n",
              "    <tr style=\"text-align: right;\">\n",
              "      <th></th>\n",
              "      <th>+</th>\n",
              "      <th>0</th>\n",
              "      <th>0.1</th>\n",
              "      <th>00202</th>\n",
              "      <th>01</th>\n",
              "      <th>1.25</th>\n",
              "      <th>30.83</th>\n",
              "      <th>b</th>\n",
              "      <th>f</th>\n",
              "      <th>g</th>\n",
              "      <th>g.1</th>\n",
              "      <th>t</th>\n",
              "      <th>t.1</th>\n",
              "      <th>u</th>\n",
              "      <th>v</th>\n",
              "      <th>w</th>\n",
              "    </tr>\n",
              "  </thead>\n",
              "  <tbody>\n",
              "    <tr>\n",
              "      <th>Total</th>\n",
              "      <td>0.0</td>\n",
              "      <td>0.0</td>\n",
              "      <td>0.0</td>\n",
              "      <td>0.0</td>\n",
              "      <td>0.0</td>\n",
              "      <td>0.0</td>\n",
              "      <td>0.0</td>\n",
              "      <td>0.0</td>\n",
              "      <td>0.0</td>\n",
              "      <td>0.0</td>\n",
              "      <td>0.0</td>\n",
              "      <td>0.0</td>\n",
              "      <td>0.0</td>\n",
              "      <td>0.0</td>\n",
              "      <td>0.0</td>\n",
              "      <td>0.0</td>\n",
              "    </tr>\n",
              "    <tr>\n",
              "      <th>%</th>\n",
              "      <td>0.0</td>\n",
              "      <td>0.0</td>\n",
              "      <td>0.0</td>\n",
              "      <td>0.0</td>\n",
              "      <td>0.0</td>\n",
              "      <td>0.0</td>\n",
              "      <td>0.0</td>\n",
              "      <td>0.0</td>\n",
              "      <td>0.0</td>\n",
              "      <td>0.0</td>\n",
              "      <td>0.0</td>\n",
              "      <td>0.0</td>\n",
              "      <td>0.0</td>\n",
              "      <td>0.0</td>\n",
              "      <td>0.0</td>\n",
              "      <td>0.0</td>\n",
              "    </tr>\n",
              "  </tbody>\n",
              "</table>\n",
              "</div>"
            ],
            "text/plain": [
              "         +    0  0.1  00202   01  1.25  30.83    b    f    g  g.1    t  t.1    u    v    w\n",
              "Total  0.0  0.0  0.0    0.0  0.0   0.0    0.0  0.0  0.0  0.0  0.0  0.0  0.0  0.0  0.0  0.0\n",
              "%      0.0  0.0  0.0    0.0  0.0   0.0    0.0  0.0  0.0  0.0  0.0  0.0  0.0  0.0  0.0  0.0"
            ]
          },
          "execution_count": 7,
          "metadata": {
            "tags": []
          },
          "output_type": "execute_result"
        }
      ],
      "source": [
        "missing_values(df)"
      ]
    },
    {
      "cell_type": "code",
      "execution_count": null,
      "metadata": {
        "colab": {},
        "colab_type": "code",
        "id": "UcMmkej5SjQ-",
        "vscode": {
          "languageId": "python"
        }
      },
      "outputs": [],
      "source": [
        "df = df.replace(\"?\", np.NaN)"
      ]
    },
    {
      "cell_type": "code",
      "execution_count": 9,
      "metadata": {
        "colab": {
          "base_uri": "https://localhost:8080/",
          "height": 286
        },
        "colab_type": "code",
        "id": "j0rGJSi-S9cB",
        "outputId": "80f7419d-2c58-4dd7-f2c5-db6ab3671f66",
        "vscode": {
          "languageId": "python"
        }
      },
      "outputs": [
        {
          "data": {
            "text/plain": [
              "['b',\n",
              " '30.83',\n",
              " '0',\n",
              " 'u',\n",
              " 'g',\n",
              " 'w',\n",
              " 'v',\n",
              " '1.25',\n",
              " 't',\n",
              " 't.1',\n",
              " '01',\n",
              " 'f',\n",
              " 'g.1',\n",
              " '00202',\n",
              " '0.1',\n",
              " '+']"
            ]
          },
          "execution_count": 9,
          "metadata": {
            "tags": []
          },
          "output_type": "execute_result"
        }
      ],
      "source": [
        "df.columns.tolist()"
      ]
    },
    {
      "cell_type": "code",
      "execution_count": null,
      "metadata": {
        "colab": {},
        "colab_type": "code",
        "id": "WwSb9sCJSvjb",
        "vscode": {
          "languageId": "python"
        }
      },
      "outputs": [],
      "source": [
        "df.columns = [\"A1\",\"A2\",\"A3\",\"A4\",\n",
        "              \"A5\",\"A6\",\"A7\",\"A8\",\n",
        "              \"A9\",\"A10\",\"A11\",\"A12\",\n",
        "              \"A13\",\"A14\",\"A15\",\"A16\"]"
      ]
    },
    {
      "cell_type": "code",
      "execution_count": 11,
      "metadata": {
        "colab": {
          "base_uri": "https://localhost:8080/",
          "height": 343
        },
        "colab_type": "code",
        "id": "QMSxGAWuUa4S",
        "outputId": "732c0ada-7684-4f2f-a0a2-ee51ae88da87",
        "vscode": {
          "languageId": "python"
        }
      },
      "outputs": [
        {
          "data": {
            "text/html": [
              "<div>\n",
              "<style scoped>\n",
              "    .dataframe tbody tr th:only-of-type {\n",
              "        vertical-align: middle;\n",
              "    }\n",
              "\n",
              "    .dataframe tbody tr th {\n",
              "        vertical-align: top;\n",
              "    }\n",
              "\n",
              "    .dataframe thead th {\n",
              "        text-align: right;\n",
              "    }\n",
              "</style>\n",
              "<table border=\"1\" class=\"dataframe\">\n",
              "  <thead>\n",
              "    <tr style=\"text-align: right;\">\n",
              "      <th></th>\n",
              "      <th>A1</th>\n",
              "      <th>A2</th>\n",
              "      <th>A3</th>\n",
              "      <th>A4</th>\n",
              "      <th>A5</th>\n",
              "      <th>A6</th>\n",
              "      <th>A7</th>\n",
              "      <th>A8</th>\n",
              "      <th>A9</th>\n",
              "      <th>A10</th>\n",
              "      <th>A11</th>\n",
              "      <th>A12</th>\n",
              "      <th>A13</th>\n",
              "      <th>A14</th>\n",
              "      <th>A15</th>\n",
              "      <th>A16</th>\n",
              "    </tr>\n",
              "  </thead>\n",
              "  <tbody>\n",
              "    <tr>\n",
              "      <th>0</th>\n",
              "      <td>a</td>\n",
              "      <td>58.67</td>\n",
              "      <td>4.460</td>\n",
              "      <td>u</td>\n",
              "      <td>g</td>\n",
              "      <td>q</td>\n",
              "      <td>h</td>\n",
              "      <td>3.040</td>\n",
              "      <td>t</td>\n",
              "      <td>t</td>\n",
              "      <td>6</td>\n",
              "      <td>f</td>\n",
              "      <td>g</td>\n",
              "      <td>00043</td>\n",
              "      <td>560</td>\n",
              "      <td>+</td>\n",
              "    </tr>\n",
              "    <tr>\n",
              "      <th>73</th>\n",
              "      <td>b</td>\n",
              "      <td>44.83</td>\n",
              "      <td>7.000</td>\n",
              "      <td>y</td>\n",
              "      <td>p</td>\n",
              "      <td>c</td>\n",
              "      <td>v</td>\n",
              "      <td>1.625</td>\n",
              "      <td>f</td>\n",
              "      <td>f</td>\n",
              "      <td>0</td>\n",
              "      <td>f</td>\n",
              "      <td>g</td>\n",
              "      <td>00160</td>\n",
              "      <td>2</td>\n",
              "      <td>-</td>\n",
              "    </tr>\n",
              "    <tr>\n",
              "      <th>163</th>\n",
              "      <td>a</td>\n",
              "      <td>60.58</td>\n",
              "      <td>16.500</td>\n",
              "      <td>u</td>\n",
              "      <td>g</td>\n",
              "      <td>q</td>\n",
              "      <td>v</td>\n",
              "      <td>11.000</td>\n",
              "      <td>t</td>\n",
              "      <td>f</td>\n",
              "      <td>0</td>\n",
              "      <td>t</td>\n",
              "      <td>g</td>\n",
              "      <td>00021</td>\n",
              "      <td>10561</td>\n",
              "      <td>+</td>\n",
              "    </tr>\n",
              "    <tr>\n",
              "      <th>378</th>\n",
              "      <td>b</td>\n",
              "      <td>33.58</td>\n",
              "      <td>0.250</td>\n",
              "      <td>u</td>\n",
              "      <td>g</td>\n",
              "      <td>i</td>\n",
              "      <td>bb</td>\n",
              "      <td>4.000</td>\n",
              "      <td>f</td>\n",
              "      <td>f</td>\n",
              "      <td>0</td>\n",
              "      <td>t</td>\n",
              "      <td>s</td>\n",
              "      <td>00420</td>\n",
              "      <td>0</td>\n",
              "      <td>-</td>\n",
              "    </tr>\n",
              "    <tr>\n",
              "      <th>96</th>\n",
              "      <td>b</td>\n",
              "      <td>NaN</td>\n",
              "      <td>0.500</td>\n",
              "      <td>u</td>\n",
              "      <td>g</td>\n",
              "      <td>c</td>\n",
              "      <td>bb</td>\n",
              "      <td>0.835</td>\n",
              "      <td>t</td>\n",
              "      <td>f</td>\n",
              "      <td>0</td>\n",
              "      <td>t</td>\n",
              "      <td>s</td>\n",
              "      <td>00320</td>\n",
              "      <td>0</td>\n",
              "      <td>-</td>\n",
              "    </tr>\n",
              "    <tr>\n",
              "      <th>591</th>\n",
              "      <td>b</td>\n",
              "      <td>23.17</td>\n",
              "      <td>0.000</td>\n",
              "      <td>NaN</td>\n",
              "      <td>NaN</td>\n",
              "      <td>NaN</td>\n",
              "      <td>NaN</td>\n",
              "      <td>0.000</td>\n",
              "      <td>f</td>\n",
              "      <td>f</td>\n",
              "      <td>0</td>\n",
              "      <td>f</td>\n",
              "      <td>p</td>\n",
              "      <td>NaN</td>\n",
              "      <td>0</td>\n",
              "      <td>+</td>\n",
              "    </tr>\n",
              "    <tr>\n",
              "      <th>548</th>\n",
              "      <td>b</td>\n",
              "      <td>48.33</td>\n",
              "      <td>12.000</td>\n",
              "      <td>u</td>\n",
              "      <td>g</td>\n",
              "      <td>m</td>\n",
              "      <td>v</td>\n",
              "      <td>16.000</td>\n",
              "      <td>t</td>\n",
              "      <td>f</td>\n",
              "      <td>0</td>\n",
              "      <td>f</td>\n",
              "      <td>s</td>\n",
              "      <td>00110</td>\n",
              "      <td>0</td>\n",
              "      <td>+</td>\n",
              "    </tr>\n",
              "    <tr>\n",
              "      <th>322</th>\n",
              "      <td>b</td>\n",
              "      <td>48.58</td>\n",
              "      <td>0.205</td>\n",
              "      <td>y</td>\n",
              "      <td>p</td>\n",
              "      <td>k</td>\n",
              "      <td>v</td>\n",
              "      <td>0.250</td>\n",
              "      <td>t</td>\n",
              "      <td>t</td>\n",
              "      <td>11</td>\n",
              "      <td>f</td>\n",
              "      <td>g</td>\n",
              "      <td>00380</td>\n",
              "      <td>2732</td>\n",
              "      <td>+</td>\n",
              "    </tr>\n",
              "    <tr>\n",
              "      <th>574</th>\n",
              "      <td>b</td>\n",
              "      <td>32.25</td>\n",
              "      <td>0.165</td>\n",
              "      <td>y</td>\n",
              "      <td>p</td>\n",
              "      <td>c</td>\n",
              "      <td>h</td>\n",
              "      <td>3.250</td>\n",
              "      <td>t</td>\n",
              "      <td>t</td>\n",
              "      <td>1</td>\n",
              "      <td>t</td>\n",
              "      <td>g</td>\n",
              "      <td>00432</td>\n",
              "      <td>8000</td>\n",
              "      <td>+</td>\n",
              "    </tr>\n",
              "    <tr>\n",
              "      <th>471</th>\n",
              "      <td>b</td>\n",
              "      <td>17.42</td>\n",
              "      <td>6.500</td>\n",
              "      <td>u</td>\n",
              "      <td>g</td>\n",
              "      <td>i</td>\n",
              "      <td>v</td>\n",
              "      <td>0.125</td>\n",
              "      <td>f</td>\n",
              "      <td>f</td>\n",
              "      <td>0</td>\n",
              "      <td>f</td>\n",
              "      <td>g</td>\n",
              "      <td>00060</td>\n",
              "      <td>100</td>\n",
              "      <td>-</td>\n",
              "    </tr>\n",
              "  </tbody>\n",
              "</table>\n",
              "</div>"
            ],
            "text/plain": [
              "    A1     A2      A3   A4   A5   A6   A7      A8 A9 A10  A11 A12 A13    A14    A15 A16\n",
              "0    a  58.67   4.460    u    g    q    h   3.040  t   t    6   f   g  00043    560   +\n",
              "73   b  44.83   7.000    y    p    c    v   1.625  f   f    0   f   g  00160      2   -\n",
              "163  a  60.58  16.500    u    g    q    v  11.000  t   f    0   t   g  00021  10561   +\n",
              "378  b  33.58   0.250    u    g    i   bb   4.000  f   f    0   t   s  00420      0   -\n",
              "96   b    NaN   0.500    u    g    c   bb   0.835  t   f    0   t   s  00320      0   -\n",
              "591  b  23.17   0.000  NaN  NaN  NaN  NaN   0.000  f   f    0   f   p    NaN      0   +\n",
              "548  b  48.33  12.000    u    g    m    v  16.000  t   f    0   f   s  00110      0   +\n",
              "322  b  48.58   0.205    y    p    k    v   0.250  t   t   11   f   g  00380   2732   +\n",
              "574  b  32.25   0.165    y    p    c    h   3.250  t   t    1   t   g  00432   8000   +\n",
              "471  b  17.42   6.500    u    g    i    v   0.125  f   f    0   f   g  00060    100   -"
            ]
          },
          "execution_count": 11,
          "metadata": {
            "tags": []
          },
          "output_type": "execute_result"
        }
      ],
      "source": [
        "df.sample(10)"
      ]
    },
    {
      "cell_type": "code",
      "execution_count": 12,
      "metadata": {
        "colab": {
          "base_uri": "https://localhost:8080/",
          "height": 101
        },
        "colab_type": "code",
        "id": "RppdqBT6T3wI",
        "outputId": "0ccc9a63-6b83-408c-99ab-d06de8cfe6e9",
        "vscode": {
          "languageId": "python"
        }
      },
      "outputs": [
        {
          "data": {
            "text/plain": [
              "count     689\n",
              "unique      2\n",
              "top         -\n",
              "freq      383\n",
              "Name: A16, dtype: object"
            ]
          },
          "execution_count": 12,
          "metadata": {
            "tags": []
          },
          "output_type": "execute_result"
        }
      ],
      "source": [
        "df.A16.describe()"
      ]
    },
    {
      "cell_type": "code",
      "execution_count": null,
      "metadata": {
        "colab": {},
        "colab_type": "code",
        "id": "nBzpWyc0T-1P",
        "vscode": {
          "languageId": "python"
        }
      },
      "outputs": [],
      "source": [
        "df.A16 =df.A16.replace(\"+\",1).replace(\"-\",0)"
      ]
    },
    {
      "cell_type": "code",
      "execution_count": null,
      "metadata": {
        "colab": {},
        "colab_type": "code",
        "id": "Gl3lJMgyUJ2F",
        "vscode": {
          "languageId": "python"
        }
      },
      "outputs": [],
      "source": [
        "a16 = df.A16"
      ]
    },
    {
      "cell_type": "code",
      "execution_count": 15,
      "metadata": {
        "colab": {
          "base_uri": "https://localhost:8080/",
          "height": 168
        },
        "colab_type": "code",
        "id": "3_bJw7D3UOOc",
        "outputId": "ee17faa0-c62f-48dc-b010-02b1bcc00112",
        "vscode": {
          "languageId": "python"
        }
      },
      "outputs": [
        {
          "data": {
            "text/plain": [
              "count    689.000000\n",
              "mean       0.444122\n",
              "std        0.497229\n",
              "min        0.000000\n",
              "25%        0.000000\n",
              "50%        0.000000\n",
              "75%        1.000000\n",
              "max        1.000000\n",
              "Name: A16, dtype: float64"
            ]
          },
          "execution_count": 15,
          "metadata": {
            "tags": []
          },
          "output_type": "execute_result"
        }
      ],
      "source": [
        "a16.describe()"
      ]
    },
    {
      "cell_type": "code",
      "execution_count": null,
      "metadata": {
        "colab": {},
        "colab_type": "code",
        "id": "aWINgkAPkZ-b",
        "vscode": {
          "languageId": "python"
        }
      },
      "outputs": [],
      "source": [
        "cats =[\"A1\",\"A4\",\"A5\",\"A6\",\"A7\",\"A9\",\"A10\",\"A12\",\"A13\"]"
      ]
    },
    {
      "cell_type": "code",
      "execution_count": null,
      "metadata": {
        "colab": {},
        "colab_type": "code",
        "id": "ApH1JY72jez1",
        "vscode": {
          "languageId": "python"
        }
      },
      "outputs": [],
      "source": [
        "conts = ['A2','A3','A8', 'A11','A14','A15']\n",
        "df[conts].describe()\n",
        "df.A2 = df.A2.astype(\"float\")"
      ]
    },
    {
      "cell_type": "code",
      "execution_count": null,
      "metadata": {
        "colab": {},
        "colab_type": "code",
        "id": "K5nqO8TyjnnE",
        "vscode": {
          "languageId": "python"
        }
      },
      "outputs": [],
      "source": [
        "df.A14 = df.A14.astype(\"float\")"
      ]
    },
    {
      "cell_type": "code",
      "execution_count": 19,
      "metadata": {
        "colab": {
          "base_uri": "https://localhost:8080/",
          "height": 337
        },
        "colab_type": "code",
        "id": "IzYP6PDAjXqH",
        "outputId": "bf53a81e-72c1-48bf-90f5-b917bebfb663",
        "vscode": {
          "languageId": "python"
        }
      },
      "outputs": [
        {
          "name": "stderr",
          "output_type": "stream",
          "text": [
            "/usr/local/lib/python3.6/dist-packages/ipykernel_launcher.py:1: FutureWarning: pandas.scatter_matrix is deprecated, use pandas.plotting.scatter_matrix instead\n",
            "  \"\"\"Entry point for launching an IPython kernel.\n"
          ]
        },
        {
          "data": {
            "image/png": "[encoded data removed]",
            "text/plain": [
              "<Figure size 432x288 with 49 Axes>"
            ]
          },
          "metadata": {
            "tags": []
          },
          "output_type": "display_data"
        }
      ],
      "source": [
        "pd.scatter_matrix(df, alpha=0.2);#for continuous "
      ]
    },
    {
      "cell_type": "code",
      "execution_count": 34,
      "metadata": {
        "colab": {
          "base_uri": "https://localhost:8080/",
          "height": 301
        },
        "colab_type": "code",
        "id": "rYr-VuEo8hqU",
        "outputId": "b6a7151f-4e51-4d08-edfe-1a763b6a55a9",
        "vscode": {
          "languageId": "python"
        }
      },
      "outputs": [
        {
          "data": {
            "image/png": "[encoded data removed]",
            "text/plain": [
              "<Figure size 432x288 with 6 Axes>"
            ]
          },
          "metadata": {
            "tags": []
          },
          "output_type": "display_data"
        }
      ],
      "source": [
        "#SOLUTION could have done\n",
        "df.boxplot(vert=False, by='A16', showfliers=False); #can see A14 and A15 stretching out, showfliers means no outliers"
      ]
    },
    {
      "cell_type": "code",
      "execution_count": 33,
      "metadata": {
        "colab": {
          "base_uri": "https://localhost:8080/",
          "height": 1721
        },
        "colab_type": "code",
        "id": "o2uwW95a9LB8",
        "outputId": "aea15fa4-a0da-4805-8b2e-47883f871bbb",
        "vscode": {
          "languageId": "python"
        }
      },
      "outputs": [
        {
          "data": {
            "image/png": "[encoded data removed]",
            "text/plain": [
              "<Figure size 432x288 with 1 Axes>"
            ]
          },
          "metadata": {
            "tags": []
          },
          "output_type": "display_data"
        },
        {
          "data": {
            "image/png": "[encoded data removed]",
            "text/plain": [
              "<Figure size 432x288 with 1 Axes>"
            ]
          },
          "metadata": {
            "tags": []
          },
          "output_type": "display_data"
        },
        {
          "data": {
            "image/png": "[encoded data removed]",
            "text/plain": [
              "<Figure size 432x288 with 1 Axes>"
            ]
          },
          "metadata": {
            "tags": []
          },
          "output_type": "display_data"
        },
        {
          "data": {
            "image/png": "[encoded data removed]",
            "text/plain": [
              "<Figure size 432x288 with 1 Axes>"
            ]
          },
          "metadata": {
            "tags": []
          },
          "output_type": "display_data"
        },
        {
          "data": {
            "image/png": "[encoded data removed]",
            "text/plain": [
              "<Figure size 432x288 with 1 Axes>"
            ]
          },
          "metadata": {
            "tags": []
          },
          "output_type": "display_data"
        },
        {
          "data": {
            "image/png": "[encoded data removed]",
            "text/plain": [
              "<Figure size 432x288 with 1 Axes>"
            ]
          },
          "metadata": {
            "tags": []
          },
          "output_type": "display_data"
        }
      ],
      "source": [
        "boxplots = [df.boxplot(column=col, by='A16', showfliers=False) for col in conts]#individual plots to get a better feel\n",
        "#SOLUTION shows positive classes on A15 have a lot more variation ebcause of the range of the graph streching full"
      ]
    },
    {
      "cell_type": "code",
      "execution_count": null,
      "metadata": {
        "colab": {},
        "colab_type": "code",
        "id": "ml9yYwAGjBat",
        "vscode": {
          "languageId": "python"
        }
      },
      "outputs": [],
      "source": [
        "sns.pairplot(df, kind='reg', plot_kws={'line_kws':{'color':'red'}, 'scatter_kws': {'alpha': 0.1}});"
      ]
    },
    {
      "cell_type": "code",
      "execution_count": null,
      "metadata": {
        "colab": {},
        "colab_type": "code",
        "id": "eiWa3z0DmW0m",
        "vscode": {
          "languageId": "python"
        }
      },
      "outputs": [],
      "source": [
        "df2 = df.copy()"
      ]
    },
    {
      "cell_type": "code",
      "execution_count": null,
      "metadata": {
        "colab": {},
        "colab_type": "code",
        "id": "AkDnZzTKmFfJ",
        "vscode": {
          "languageId": "python"
        }
      },
      "outputs": [],
      "source": [
        "def process_numbers(df):\n",
        "  cut_points = [0,9,19,29,39,49,1000]\n",
        "  label_names = [\"0-9\",\"10-19\",\"20-29\",\"30-39\",\"40-49\",\"50+\"]\n",
        "  df2[\"A11\"] = pd.cut(df[\"A11\"],\n",
        "                      cut_points,labels=label_names)\n",
        "  return df"
      ]
    },
    {
      "cell_type": "code",
      "execution_count": null,
      "metadata": {
        "colab": {},
        "colab_type": "code",
        "id": "nCIz0laTmaQs",
        "vscode": {
          "languageId": "python"
        }
      },
      "outputs": [],
      "source": [
        "process_numbers(df2)"
      ]
    },
    {
      "cell_type": "code",
      "execution_count": 25,
      "metadata": {
        "colab": {
          "base_uri": "https://localhost:8080/",
          "height": 166
        },
        "colab_type": "code",
        "id": "jd1qtviPkhzM",
        "outputId": "8fabb414-fd91-4913-f348-9faeb1528c1d",
        "vscode": {
          "languageId": "python"
        }
      },
      "outputs": [
        {
          "data": {
            "text/html": [
              "<div>\n",
              "<style scoped>\n",
              "    .dataframe tbody tr th:only-of-type {\n",
              "        vertical-align: middle;\n",
              "    }\n",
              "\n",
              "    .dataframe tbody tr th {\n",
              "        vertical-align: top;\n",
              "    }\n",
              "\n",
              "    .dataframe thead th {\n",
              "        text-align: right;\n",
              "    }\n",
              "</style>\n",
              "<table border=\"1\" class=\"dataframe\">\n",
              "  <thead>\n",
              "    <tr style=\"text-align: right;\">\n",
              "      <th>A11</th>\n",
              "      <th>0-9</th>\n",
              "      <th>10-19</th>\n",
              "      <th>20-29</th>\n",
              "      <th>40-49</th>\n",
              "      <th>50+</th>\n",
              "      <th>All</th>\n",
              "    </tr>\n",
              "    <tr>\n",
              "      <th>A16</th>\n",
              "      <th></th>\n",
              "      <th></th>\n",
              "      <th></th>\n",
              "      <th></th>\n",
              "      <th></th>\n",
              "      <th></th>\n",
              "    </tr>\n",
              "  </thead>\n",
              "  <tbody>\n",
              "    <tr>\n",
              "      <th>0</th>\n",
              "      <td>79</td>\n",
              "      <td>6</td>\n",
              "      <td>1</td>\n",
              "      <td>0</td>\n",
              "      <td>0</td>\n",
              "      <td>86</td>\n",
              "    </tr>\n",
              "    <tr>\n",
              "      <th>1</th>\n",
              "      <td>156</td>\n",
              "      <td>48</td>\n",
              "      <td>2</td>\n",
              "      <td>1</td>\n",
              "      <td>1</td>\n",
              "      <td>208</td>\n",
              "    </tr>\n",
              "    <tr>\n",
              "      <th>All</th>\n",
              "      <td>235</td>\n",
              "      <td>54</td>\n",
              "      <td>1</td>\n",
              "      <td>3</td>\n",
              "      <td>1</td>\n",
              "      <td>294</td>\n",
              "    </tr>\n",
              "  </tbody>\n",
              "</table>\n",
              "</div>"
            ],
            "text/plain": [
              "A11  0-9  10-19  20-29  40-49  50+  All\n",
              "A16                                    \n",
              "0     79      6      1      0    0   86\n",
              "1    156     48      2      1    1  208\n",
              "All  235     54      1      3    1  294"
            ]
          },
          "execution_count": 25,
          "metadata": {
            "tags": []
          },
          "output_type": "execute_result"
        }
      ],
      "source": [
        "totcross = pd.crosstab(df2['A16'], df2['A11'], margins=True)\n",
        "totcross\n"
      ]
    },
    {
      "cell_type": "code",
      "execution_count": 26,
      "metadata": {
        "colab": {
          "base_uri": "https://localhost:8080/",
          "height": 34
        },
        "colab_type": "code",
        "id": "bf8YnOMyy8H9",
        "outputId": "e3704d71-573a-4c7d-a7bb-633c57429493",
        "vscode": {
          "languageId": "python"
        }
      },
      "outputs": [
        {
          "data": {
            "text/plain": [
              "0.7074829931972789"
            ]
          },
          "execution_count": 26,
          "metadata": {
            "tags": []
          },
          "output_type": "execute_result"
        }
      ],
      "source": [
        "208/294"
      ]
    },
    {
      "cell_type": "code",
      "execution_count": 27,
      "metadata": {
        "colab": {
          "base_uri": "https://localhost:8080/",
          "height": 34
        },
        "colab_type": "code",
        "id": "oRnXVshwqnNv",
        "outputId": "4cbddfed-c284-4dc1-efd2-4a6d0f403e8e",
        "vscode": {
          "languageId": "python"
        }
      },
      "outputs": [
        {
          "data": {
            "text/plain": [
              "array([ 86, 208])"
            ]
          },
          "execution_count": 27,
          "metadata": {
            "tags": []
          },
          "output_type": "execute_result"
        }
      ],
      "source": [
        "row_sums = totcross.iloc[[0,1],5].values\n",
        "row_sums"
      ]
    },
    {
      "cell_type": "code",
      "execution_count": 28,
      "metadata": {
        "colab": {
          "base_uri": "https://localhost:8080/",
          "height": 34
        },
        "colab_type": "code",
        "id": "xFW72LGwsL1b",
        "outputId": "9066bc19-98fc-4111-fc1a-391d11425e13",
        "vscode": {
          "languageId": "python"
        }
      },
      "outputs": [
        {
          "data": {
            "text/plain": [
              "array([235,  54,   1,   3,   1, 294])"
            ]
          },
          "execution_count": 28,
          "metadata": {
            "tags": []
          },
          "output_type": "execute_result"
        }
      ],
      "source": [
        "col_sums = totcross.iloc[2,[0,1,2,3,4,5]].values\n",
        "col_sums"
      ]
    },
    {
      "cell_type": "code",
      "execution_count": 29,
      "metadata": {
        "colab": {
          "base_uri": "https://localhost:8080/",
          "height": 101
        },
        "colab_type": "code",
        "id": "sF1Io-cMpmp0",
        "outputId": "4f9e56f8-4346-4f3d-c54b-514928512608",
        "vscode": {
          "languageId": "python"
        }
      },
      "outputs": [
        {
          "name": "stdout",
          "output_type": "stream",
          "text": [
            "Total number of observations: 294\n",
            "[[ 68.7414966   15.79591837   0.29251701   0.87755102   0.29251701\n",
            "   86.        ]\n",
            " [166.2585034   38.20408163   0.70748299   2.12244898   0.70748299\n",
            "  208.        ]]\n"
          ]
        }
      ],
      "source": [
        "total = totcross.loc['All', 'All']\n",
        "print(\"Total number of observations:\", total)\n",
        "\n",
        "expected = []\n",
        "for i in range(len(row_sums)):\n",
        "  expected_row = []\n",
        "  for column in col_sums:\n",
        "    expected_val = column*row_sums[i]/total\n",
        "    expected_row.append(expected_val)\n",
        "  expected.append(expected_row)\n",
        "  \n",
        "print(np.array(expected))"
      ]
    },
    {
      "cell_type": "code",
      "execution_count": 30,
      "metadata": {
        "colab": {
          "base_uri": "https://localhost:8080/",
          "height": 34
        },
        "colab_type": "code",
        "id": "ttLKD04-ozGf",
        "outputId": "ca9cc557-6911-4c14-fc69-064a851ad157",
        "vscode": {
          "languageId": "python"
        }
      },
      "outputs": [
        {
          "data": {
            "text/plain": [
              "(3, 6)"
            ]
          },
          "execution_count": 30,
          "metadata": {
            "tags": []
          },
          "output_type": "execute_result"
        }
      ],
      "source": [
        "tv = totcross.values\n",
        "tv\n",
        "tv.shape"
      ]
    },
    {
      "cell_type": "code",
      "execution_count": null,
      "metadata": {
        "colab": {},
        "colab_type": "code",
        "id": "MkcDOiH5mw9C",
        "vscode": {
          "languageId": "python"
        }
      },
      "outputs": [],
      "source": [
        "chi_squared = ((tv - expected)**2/(expected)).sum()\n",
        "print(f\"Chi-Squared: {chi_squared}\")"
      ]
    },
    {
      "cell_type": "code",
      "execution_count": null,
      "metadata": {
        "colab": {},
        "colab_type": "code",
        "id": "1WhooA3YthAz",
        "vscode": {
          "languageId": "python"
        }
      },
      "outputs": [],
      "source": [
        "df3 = df.copy()"
      ]
    },
    {
      "cell_type": "code",
      "execution_count": null,
      "metadata": {
        "colab": {},
        "colab_type": "code",
        "id": "xihAryIZtyGj",
        "vscode": {
          "languageId": "python"
        }
      },
      "outputs": [],
      "source": [
        "process_numbers(df3)"
      ]
    },
    {
      "cell_type": "code",
      "execution_count": null,
      "metadata": {
        "colab": {},
        "colab_type": "code",
        "id": "JB9meeo6tjTd",
        "vscode": {
          "languageId": "python"
        }
      },
      "outputs": [],
      "source": [
        "def process_numbers(df):\n",
        "  cut_points = [0,9,19,29,39,49,1000]\n",
        "  label_names = [\"0-9\",\"10-19\",\"20-29\",\"30-39\",\"40-49\",\"50+\"]\n",
        "  df3[\"A4\"] = pd.cut(df3[\"A4\"],\n",
        "                      cut_points,labels=label_names)\n",
        "  return df"
      ]
    },
    {
      "cell_type": "code",
      "execution_count": null,
      "metadata": {
        "colab": {},
        "colab_type": "code",
        "id": "Pv9ArNKht98E",
        "vscode": {
          "languageId": "python"
        }
      },
      "outputs": [],
      "source": [
        "totcross2 = pd.crosstab(df2['A16'], df2['A4'], margins=True)\n",
        "totcross2"
      ]
    },
    {
      "cell_type": "code",
      "execution_count": null,
      "metadata": {
        "colab": {},
        "colab_type": "code",
        "id": "pWGNtrJGykRG",
        "vscode": {
          "languageId": "python"
        }
      },
      "outputs": [],
      "source": [
        "381/683\n"
      ]
    },
    {
      "cell_type": "code",
      "execution_count": null,
      "metadata": {
        "colab": {},
        "colab_type": "code",
        "id": "YENnZBfzuQFN",
        "vscode": {
          "languageId": "python"
        }
      },
      "outputs": [],
      "source": [
        "row_sums2 = totcross.iloc[[0,1],4].values"
      ]
    },
    {
      "cell_type": "code",
      "execution_count": null,
      "metadata": {
        "colab": {},
        "colab_type": "code",
        "id": "w1vDv0h_uelS",
        "vscode": {
          "languageId": "python"
        }
      },
      "outputs": [],
      "source": [
        "col_sums2 = totcross.iloc[2,[0,1,2,3,4,5]].values\n",
        "col_sums2"
      ]
    },
    {
      "cell_type": "code",
      "execution_count": null,
      "metadata": {
        "colab": {},
        "colab_type": "code",
        "id": "nLWcHCEEuky0",
        "vscode": {
          "languageId": "python"
        }
      },
      "outputs": [],
      "source": [
        "tota2l = totcross2.loc['All', 'All']\n",
        "print(\"Total number of observations:\", total)\n",
        "\n",
        "expected2 = []\n",
        "for i in range(len(row_sums2)):\n",
        "  expected_row = []\n",
        "  for column in col_sums2:\n",
        "    expected_val = column*row_sums2[i]/total\n",
        "    expected_row.append(expected_val)\n",
        "  expected.append(expected_row)\n",
        "  \n",
        "print(np.array(expected))"
      ]
    },
    {
      "cell_type": "code",
      "execution_count": null,
      "metadata": {
        "colab": {},
        "colab_type": "code",
        "id": "UQXSCwHnvnfX",
        "vscode": {
          "languageId": "python"
        }
      },
      "outputs": [],
      "source": [
        "tv2 = totcross2.values\n",
        "tv2\n",
        "tv2.shape"
      ]
    },
    {
      "cell_type": "code",
      "execution_count": null,
      "metadata": {
        "colab": {},
        "colab_type": "code",
        "id": "ysuX43SNux8R",
        "vscode": {
          "languageId": "python"
        }
      },
      "outputs": [],
      "source": [
        "chi_squared = ((tv2 - expected)**2/(expected)).sum()\n",
        "print(f\"Chi-Squared: {chi_squared}\")"
      ]
    },
    {
      "cell_type": "code",
      "execution_count": 35,
      "metadata": {
        "colab": {
          "base_uri": "https://localhost:8080/",
          "height": 254
        },
        "colab_type": "code",
        "id": "LY6LAowPYhvF",
        "outputId": "eeac6e24-2046-4c0c-ffcd-0c5a12811549",
        "vscode": {
          "languageId": "python"
        }
      },
      "outputs": [
        {
          "data": {
            "text/html": [
              "<div>\n",
              "<style scoped>\n",
              "    .dataframe tbody tr th:only-of-type {\n",
              "        vertical-align: middle;\n",
              "    }\n",
              "\n",
              "    .dataframe tbody tr th {\n",
              "        vertical-align: top;\n",
              "    }\n",
              "\n",
              "    .dataframe thead th {\n",
              "        text-align: right;\n",
              "    }\n",
              "</style>\n",
              "<table border=\"1\" class=\"dataframe\">\n",
              "  <thead>\n",
              "    <tr style=\"text-align: right;\">\n",
              "      <th></th>\n",
              "      <th>A2</th>\n",
              "      <th>A3</th>\n",
              "      <th>A8</th>\n",
              "      <th>A11</th>\n",
              "      <th>A14</th>\n",
              "      <th>A15</th>\n",
              "      <th>A16</th>\n",
              "    </tr>\n",
              "  </thead>\n",
              "  <tbody>\n",
              "    <tr>\n",
              "      <th>A2</th>\n",
              "      <td>1.000000</td>\n",
              "      <td>0.202367</td>\n",
              "      <td>0.395750</td>\n",
              "      <td>0.185897</td>\n",
              "      <td>-0.079802</td>\n",
              "      <td>0.018536</td>\n",
              "      <td>0.163129</td>\n",
              "    </tr>\n",
              "    <tr>\n",
              "      <th>A3</th>\n",
              "      <td>0.202367</td>\n",
              "      <td>1.000000</td>\n",
              "      <td>0.298714</td>\n",
              "      <td>0.271003</td>\n",
              "      <td>-0.224249</td>\n",
              "      <td>0.122935</td>\n",
              "      <td>0.208171</td>\n",
              "    </tr>\n",
              "    <tr>\n",
              "      <th>A8</th>\n",
              "      <td>0.395750</td>\n",
              "      <td>0.298714</td>\n",
              "      <td>1.000000</td>\n",
              "      <td>0.322247</td>\n",
              "      <td>-0.077123</td>\n",
              "      <td>0.051267</td>\n",
              "      <td>0.323260</td>\n",
              "    </tr>\n",
              "    <tr>\n",
              "      <th>A11</th>\n",
              "      <td>0.185897</td>\n",
              "      <td>0.271003</td>\n",
              "      <td>0.322247</td>\n",
              "      <td>1.000000</td>\n",
              "      <td>-0.120060</td>\n",
              "      <td>0.063616</td>\n",
              "      <td>0.407270</td>\n",
              "    </tr>\n",
              "    <tr>\n",
              "      <th>A14</th>\n",
              "      <td>-0.079802</td>\n",
              "      <td>-0.224249</td>\n",
              "      <td>-0.077123</td>\n",
              "      <td>-0.120060</td>\n",
              "      <td>1.000000</td>\n",
              "      <td>0.066885</td>\n",
              "      <td>-0.101200</td>\n",
              "    </tr>\n",
              "    <tr>\n",
              "      <th>A15</th>\n",
              "      <td>0.018536</td>\n",
              "      <td>0.122935</td>\n",
              "      <td>0.051267</td>\n",
              "      <td>0.063616</td>\n",
              "      <td>0.066885</td>\n",
              "      <td>1.000000</td>\n",
              "      <td>0.176138</td>\n",
              "    </tr>\n",
              "    <tr>\n",
              "      <th>A16</th>\n",
              "      <td>0.163129</td>\n",
              "      <td>0.208171</td>\n",
              "      <td>0.323260</td>\n",
              "      <td>0.407270</td>\n",
              "      <td>-0.101200</td>\n",
              "      <td>0.176138</td>\n",
              "      <td>1.000000</td>\n",
              "    </tr>\n",
              "  </tbody>\n",
              "</table>\n",
              "</div>"
            ],
            "text/plain": [
              "           A2        A3        A8       A11       A14       A15       A16\n",
              "A2   1.000000  0.202367  0.395750  0.185897 -0.079802  0.018536  0.163129\n",
              "A3   0.202367  1.000000  0.298714  0.271003 -0.224249  0.122935  0.208171\n",
              "A8   0.395750  0.298714  1.000000  0.322247 -0.077123  0.051267  0.323260\n",
              "A11  0.185897  0.271003  0.322247  1.000000 -0.120060  0.063616  0.407270\n",
              "A14 -0.079802 -0.224249 -0.077123 -0.120060  1.000000  0.066885 -0.101200\n",
              "A15  0.018536  0.122935  0.051267  0.063616  0.066885  1.000000  0.176138\n",
              "A16  0.163129  0.208171  0.323260  0.407270 -0.101200  0.176138  1.000000"
            ]
          },
          "execution_count": 35,
          "metadata": {
            "tags": []
          },
          "output_type": "execute_result"
        }
      ],
      "source": [
        "df.corr()\n"
      ]
    },
    {
      "cell_type": "markdown",
      "metadata": {
        "colab_type": "text",
        "id": "YOY_OU2_BERY"
      },
      "source": [
        "CROSSTABS AND CHI SQ"
      ]
    },
    {
      "cell_type": "code",
      "execution_count": 68,
      "metadata": {
        "colab": {
          "base_uri": "https://localhost:8080/",
          "height": 34
        },
        "colab_type": "code",
        "id": "uuH3FR2eCbn_",
        "outputId": "fc56d56c-9c7f-4fa4-b1ad-d9b81a6536ff",
        "vscode": {
          "languageId": "python"
        }
      },
      "outputs": [
        {
          "data": {
            "text/plain": [
              "['A1', 'A4', 'A5', 'A6', 'A7', 'A9', 'A10', 'A12', 'A13']"
            ]
          },
          "execution_count": 68,
          "metadata": {
            "tags": []
          },
          "output_type": "execute_result"
        }
      ],
      "source": [
        "cats"
      ]
    },
    {
      "cell_type": "code",
      "execution_count": null,
      "metadata": {
        "colab": {},
        "colab_type": "code",
        "id": "NGk3AfueBG4A",
        "vscode": {
          "languageId": "python"
        }
      },
      "outputs": [],
      "source": [
        "#iteration of crosstabs over the categorical features\n",
        "cattabs = [pd.crosstab(df.A16,feature) for feature in df[cats]]"
      ]
    },
    {
      "cell_type": "code",
      "execution_count": null,
      "metadata": {
        "colab": {},
        "colab_type": "code",
        "id": "vDwfc-hFBf3-",
        "vscode": {
          "languageId": "python"
        }
      },
      "outputs": [],
      "source": [
        "cattabs[0]#grabbing the first one"
      ]
    },
    {
      "cell_type": "code",
      "execution_count": null,
      "metadata": {
        "colab": {},
        "colab_type": "code",
        "id": "eWDt8V2MCTha",
        "vscode": {
          "languageId": "python"
        }
      },
      "outputs": [],
      "source": [
        "df.A16.value_counts()"
      ]
    },
    {
      "cell_type": "code",
      "execution_count": null,
      "metadata": {
        "colab": {},
        "colab_type": "code",
        "id": "BMV0QtmrB-r8",
        "vscode": {
          "languageId": "python"
        }
      },
      "outputs": [],
      "source": [
        "df.A1.value_counts()"
      ]
    },
    {
      "cell_type": "code",
      "execution_count": null,
      "metadata": {
        "colab": {},
        "colab_type": "code",
        "id": "3xGhbV_BC9wT",
        "vscode": {
          "languageId": "python"
        }
      },
      "outputs": [],
      "source": [
        "from scipy.stats import chi2_contingency #chi-sq for cont table"
      ]
    },
    {
      "cell_type": "code",
      "execution_count": null,
      "metadata": {
        "colab": {},
        "colab_type": "code",
        "id": "jvxsgAYqBlFB",
        "vscode": {
          "languageId": "python"
        }
      },
      "outputs": [],
      "source": [
        "#iterate over tables and get pvalue and chi2, here I set the index to A16 so it will not compute\n",
        "for crosstab in cattabs:\n",
        "  print(cattabs)\n",
        "  chi2 = (chi2_contingency(cattabs, correction=False)) #no Yates correction\n",
        "  print('Chi-square statistic: {}'.format(chi2[0]))\n",
        "  print('p-value: {}' .format(chi2[1]))\n",
        "  print('\\n\\n')"
      ]
    },
    {
      "attachments": {},
      "cell_type": "markdown",
      "metadata": {
        "colab_type": "text",
        "id": "JK1HmjVPE3bG"
      },
      "source": [
        "Solution: A9 & A10 have extreme results \n",
        "A1 is not signifgant\n"
      ]
    },
    {
      "cell_type": "code",
      "execution_count": 36,
      "metadata": {
        "colab": {
          "base_uri": "https://localhost:8080/",
          "height": 195
        },
        "colab_type": "code",
        "id": "Y22Mk5HEeKeK",
        "outputId": "df9c7b99-dbf2-4f8a-f9bb-bc8f790f74b3",
        "vscode": {
          "languageId": "python"
        }
      },
      "outputs": [
        {
          "data": {
            "text/html": [
              "<div>\n",
              "<style scoped>\n",
              "    .dataframe tbody tr th:only-of-type {\n",
              "        vertical-align: middle;\n",
              "    }\n",
              "\n",
              "    .dataframe tbody tr th {\n",
              "        vertical-align: top;\n",
              "    }\n",
              "\n",
              "    .dataframe thead th {\n",
              "        text-align: right;\n",
              "    }\n",
              "</style>\n",
              "<table border=\"1\" class=\"dataframe\">\n",
              "  <thead>\n",
              "    <tr style=\"text-align: right;\">\n",
              "      <th></th>\n",
              "      <th>A1</th>\n",
              "      <th>A2</th>\n",
              "      <th>A3</th>\n",
              "      <th>A4</th>\n",
              "      <th>A5</th>\n",
              "      <th>A6</th>\n",
              "      <th>A7</th>\n",
              "      <th>A8</th>\n",
              "      <th>A9</th>\n",
              "      <th>A10</th>\n",
              "      <th>A11</th>\n",
              "      <th>A12</th>\n",
              "      <th>A13</th>\n",
              "      <th>A14</th>\n",
              "      <th>A15</th>\n",
              "      <th>A16</th>\n",
              "    </tr>\n",
              "  </thead>\n",
              "  <tbody>\n",
              "    <tr>\n",
              "      <th>0</th>\n",
              "      <td>a</td>\n",
              "      <td>58.67</td>\n",
              "      <td>4.460</td>\n",
              "      <td>u</td>\n",
              "      <td>g</td>\n",
              "      <td>q</td>\n",
              "      <td>h</td>\n",
              "      <td>3.04</td>\n",
              "      <td>t</td>\n",
              "      <td>t</td>\n",
              "      <td>6</td>\n",
              "      <td>f</td>\n",
              "      <td>g</td>\n",
              "      <td>43.0</td>\n",
              "      <td>560</td>\n",
              "      <td>1</td>\n",
              "    </tr>\n",
              "    <tr>\n",
              "      <th>1</th>\n",
              "      <td>a</td>\n",
              "      <td>24.50</td>\n",
              "      <td>0.500</td>\n",
              "      <td>u</td>\n",
              "      <td>g</td>\n",
              "      <td>q</td>\n",
              "      <td>h</td>\n",
              "      <td>1.50</td>\n",
              "      <td>t</td>\n",
              "      <td>f</td>\n",
              "      <td>0</td>\n",
              "      <td>f</td>\n",
              "      <td>g</td>\n",
              "      <td>280.0</td>\n",
              "      <td>824</td>\n",
              "      <td>1</td>\n",
              "    </tr>\n",
              "    <tr>\n",
              "      <th>2</th>\n",
              "      <td>b</td>\n",
              "      <td>27.83</td>\n",
              "      <td>1.540</td>\n",
              "      <td>u</td>\n",
              "      <td>g</td>\n",
              "      <td>w</td>\n",
              "      <td>v</td>\n",
              "      <td>3.75</td>\n",
              "      <td>t</td>\n",
              "      <td>t</td>\n",
              "      <td>5</td>\n",
              "      <td>t</td>\n",
              "      <td>g</td>\n",
              "      <td>100.0</td>\n",
              "      <td>3</td>\n",
              "      <td>1</td>\n",
              "    </tr>\n",
              "    <tr>\n",
              "      <th>3</th>\n",
              "      <td>b</td>\n",
              "      <td>20.17</td>\n",
              "      <td>5.625</td>\n",
              "      <td>u</td>\n",
              "      <td>g</td>\n",
              "      <td>w</td>\n",
              "      <td>v</td>\n",
              "      <td>1.71</td>\n",
              "      <td>t</td>\n",
              "      <td>f</td>\n",
              "      <td>0</td>\n",
              "      <td>f</td>\n",
              "      <td>s</td>\n",
              "      <td>120.0</td>\n",
              "      <td>0</td>\n",
              "      <td>1</td>\n",
              "    </tr>\n",
              "    <tr>\n",
              "      <th>4</th>\n",
              "      <td>b</td>\n",
              "      <td>32.08</td>\n",
              "      <td>4.000</td>\n",
              "      <td>u</td>\n",
              "      <td>g</td>\n",
              "      <td>m</td>\n",
              "      <td>v</td>\n",
              "      <td>2.50</td>\n",
              "      <td>t</td>\n",
              "      <td>f</td>\n",
              "      <td>0</td>\n",
              "      <td>t</td>\n",
              "      <td>g</td>\n",
              "      <td>360.0</td>\n",
              "      <td>0</td>\n",
              "      <td>1</td>\n",
              "    </tr>\n",
              "  </tbody>\n",
              "</table>\n",
              "</div>"
            ],
            "text/plain": [
              "  A1     A2     A3 A4 A5 A6 A7    A8 A9 A10  A11 A12 A13    A14  A15  A16\n",
              "0  a  58.67  4.460  u  g  q  h  3.04  t   t    6   f   g   43.0  560    1\n",
              "1  a  24.50  0.500  u  g  q  h  1.50  t   f    0   f   g  280.0  824    1\n",
              "2  b  27.83  1.540  u  g  w  v  3.75  t   t    5   t   g  100.0    3    1\n",
              "3  b  20.17  5.625  u  g  w  v  1.71  t   f    0   f   s  120.0    0    1\n",
              "4  b  32.08  4.000  u  g  m  v  2.50  t   f    0   t   g  360.0    0    1"
            ]
          },
          "execution_count": 36,
          "metadata": {
            "tags": []
          },
          "output_type": "execute_result"
        }
      ],
      "source": [
        "df.set_index(\"A16\")\n",
        "df.head()"
      ]
    },
    {
      "cell_type": "code",
      "execution_count": null,
      "metadata": {
        "colab": {},
        "colab_type": "code",
        "id": "DpgtpzvldJPZ",
        "vscode": {
          "languageId": "python"
        }
      },
      "outputs": [],
      "source": [
        " \n",
        "pvalz =(scipy.stats.ttest_1samp(df['A15'], .5, nan_policy='omit'))\n",
        "print(pvalz)"
      ]
    },
    {
      "cell_type": "code",
      "execution_count": null,
      "metadata": {
        "colab": {},
        "colab_type": "code",
        "id": "_nqcgc0yzm68",
        "vscode": {
          "languageId": "python"
        }
      },
      "outputs": [],
      "source": [
        "pos = df[df.A16 == 1]\n",
        "neg = df[df.A16 == 0]"
      ]
    },
    {
      "cell_type": "code",
      "execution_count": 40,
      "metadata": {
        "colab": {
          "base_uri": "https://localhost:8080/",
          "height": 286
        },
        "colab_type": "code",
        "id": "br4KeHg1WkRI",
        "outputId": "9267046f-f76f-41a1-aa7b-a5980d57a6bd",
        "vscode": {
          "languageId": "python"
        }
      },
      "outputs": [
        {
          "data": {
            "text/plain": [
              "(306, 16)"
            ]
          },
          "execution_count": 40,
          "metadata": {
            "tags": []
          },
          "output_type": "execute_result"
        },
        {
          "data": {
            "image/png": "[encoded data removed]",
            "text/plain": [
              "<Figure size 432x288 with 1 Axes>"
            ]
          },
          "metadata": {
            "tags": []
          },
          "output_type": "display_data"
        }
      ],
      "source": [
        "pos.plot()\n",
        "pos.shape"
      ]
    },
    {
      "cell_type": "code",
      "execution_count": 41,
      "metadata": {
        "colab": {
          "base_uri": "https://localhost:8080/",
          "height": 1210
        },
        "colab_type": "code",
        "id": "eKKYp-T0lm-j",
        "outputId": "0fcfb6b3-05d8-45ad-ccf9-23718866ff3c",
        "vscode": {
          "languageId": "python"
        }
      },
      "outputs": [
        {
          "name": "stderr",
          "output_type": "stream",
          "text": [
            "/usr/local/lib/python3.6/dist-packages/ipykernel_launcher.py:1: FutureWarning: pandas.scatter_matrix is deprecated, use pandas.plotting.scatter_matrix instead\n",
            "  \"\"\"Entry point for launching an IPython kernel.\n",
            "/usr/local/lib/python3.6/dist-packages/pandas/plotting/_misc.py:108: UserWarning: Attempting to set identical left==right results\n",
            "in singular transformations; automatically expanding.\n",
            "left=1.0, right=1.0\n",
            "  ax.set_xlim(boundaries_list[j])\n",
            "/usr/local/lib/python3.6/dist-packages/pandas/plotting/_misc.py:108: UserWarning: Attempting to set identical left==right results\n",
            "in singular transformations; automatically expanding.\n",
            "left=1.0, right=1.0\n",
            "  ax.set_xlim(boundaries_list[j])\n",
            "/usr/local/lib/python3.6/dist-packages/pandas/plotting/_misc.py:108: UserWarning: Attempting to set identical left==right results\n",
            "in singular transformations; automatically expanding.\n",
            "left=1.0, right=1.0\n",
            "  ax.set_xlim(boundaries_list[j])\n",
            "/usr/local/lib/python3.6/dist-packages/pandas/plotting/_misc.py:108: UserWarning: Attempting to set identical left==right results\n",
            "in singular transformations; automatically expanding.\n",
            "left=1.0, right=1.0\n",
            "  ax.set_xlim(boundaries_list[j])\n",
            "/usr/local/lib/python3.6/dist-packages/pandas/plotting/_misc.py:108: UserWarning: Attempting to set identical left==right results\n",
            "in singular transformations; automatically expanding.\n",
            "left=1.0, right=1.0\n",
            "  ax.set_xlim(boundaries_list[j])\n",
            "/usr/local/lib/python3.6/dist-packages/pandas/plotting/_misc.py:108: UserWarning: Attempting to set identical left==right results\n",
            "in singular transformations; automatically expanding.\n",
            "left=1.0, right=1.0\n",
            "  ax.set_xlim(boundaries_list[j])\n",
            "/usr/local/lib/python3.6/dist-packages/pandas/plotting/_misc.py:109: UserWarning: Attempting to set identical bottom==top results\n",
            "in singular transformations; automatically expanding.\n",
            "bottom=1.0, top=1.0\n",
            "  ax.set_ylim(boundaries_list[i])\n",
            "/usr/local/lib/python3.6/dist-packages/pandas/plotting/_misc.py:109: UserWarning: Attempting to set identical bottom==top results\n",
            "in singular transformations; automatically expanding.\n",
            "bottom=1.0, top=1.0\n",
            "  ax.set_ylim(boundaries_list[i])\n",
            "/usr/local/lib/python3.6/dist-packages/pandas/plotting/_misc.py:109: UserWarning: Attempting to set identical bottom==top results\n",
            "in singular transformations; automatically expanding.\n",
            "bottom=1.0, top=1.0\n",
            "  ax.set_ylim(boundaries_list[i])\n",
            "/usr/local/lib/python3.6/dist-packages/pandas/plotting/_misc.py:109: UserWarning: Attempting to set identical bottom==top results\n",
            "in singular transformations; automatically expanding.\n",
            "bottom=1.0, top=1.0\n",
            "  ax.set_ylim(boundaries_list[i])\n",
            "/usr/local/lib/python3.6/dist-packages/pandas/plotting/_misc.py:109: UserWarning: Attempting to set identical bottom==top results\n",
            "in singular transformations; automatically expanding.\n",
            "bottom=1.0, top=1.0\n",
            "  ax.set_ylim(boundaries_list[i])\n",
            "/usr/local/lib/python3.6/dist-packages/pandas/plotting/_misc.py:109: UserWarning: Attempting to set identical bottom==top results\n",
            "in singular transformations; automatically expanding.\n",
            "bottom=1.0, top=1.0\n",
            "  ax.set_ylim(boundaries_list[i])\n",
            "/usr/local/lib/python3.6/dist-packages/pandas/plotting/_misc.py:100: UserWarning: Attempting to set identical left==right results\n",
            "in singular transformations; automatically expanding.\n",
            "left=1.0, right=1.0\n",
            "  ax.set_xlim(boundaries_list[i])\n"
          ]
        },
        {
          "data": {
            "image/png": "[encoded data removed]",
            "text/plain": [
              "<Figure size 432x288 with 49 Axes>"
            ]
          },
          "metadata": {
            "tags": []
          },
          "output_type": "display_data"
        }
      ],
      "source": [
        "pd.scatter_matrix(pos, alpha=.02);"
      ]
    },
    {
      "cell_type": "code",
      "execution_count": 42,
      "metadata": {
        "colab": {
          "base_uri": "https://localhost:8080/",
          "height": 118
        },
        "colab_type": "code",
        "id": "cjpjURJdXfM3",
        "outputId": "e6b89959-6db7-4ff1-857d-67a150d27c66",
        "vscode": {
          "languageId": "python"
        }
      },
      "outputs": [
        {
          "data": {
            "text/plain": [
              "0    560\n",
              "1    824\n",
              "2      3\n",
              "3      0\n",
              "4      0\n",
              "Name: A15, dtype: int64"
            ]
          },
          "execution_count": 42,
          "metadata": {
            "tags": []
          },
          "output_type": "execute_result"
        }
      ],
      "source": [
        "pos.A15.value_counts()\n",
        "pos.A15.head()"
      ]
    },
    {
      "cell_type": "code",
      "execution_count": null,
      "metadata": {
        "colab": {},
        "colab_type": "code",
        "id": "u25PTTL-XJ4X",
        "vscode": {
          "languageId": "python"
        }
      },
      "outputs": [],
      "source": []
    },
    {
      "cell_type": "code",
      "execution_count": 43,
      "metadata": {
        "colab": {
          "base_uri": "https://localhost:8080/",
          "height": 286
        },
        "colab_type": "code",
        "id": "2O4ltKrPWz0H",
        "outputId": "0e942a59-e409-46e6-9b6d-0ef94788a24c",
        "vscode": {
          "languageId": "python"
        }
      },
      "outputs": [
        {
          "data": {
            "text/plain": [
              "(383, 16)"
            ]
          },
          "execution_count": 43,
          "metadata": {
            "tags": []
          },
          "output_type": "execute_result"
        },
        {
          "data": {
            "image/png": "[encoded data removed]",
            "text/plain": [
              "<Figure size 432x288 with 1 Axes>"
            ]
          },
          "metadata": {
            "tags": []
          },
          "output_type": "display_data"
        }
      ],
      "source": [
        "neg.plot()\n",
        "neg.shape\n"
      ]
    },
    {
      "cell_type": "code",
      "execution_count": 44,
      "metadata": {
        "colab": {
          "base_uri": "https://localhost:8080/",
          "height": 284
        },
        "colab_type": "code",
        "id": "nOppQCFdV_6G",
        "outputId": "15e2efda-f80f-46cd-fa9a-75e6e375578e",
        "vscode": {
          "languageId": "python"
        }
      },
      "outputs": [
        {
          "data": {
            "text/html": [
              "<div>\n",
              "<style scoped>\n",
              "    .dataframe tbody tr th:only-of-type {\n",
              "        vertical-align: middle;\n",
              "    }\n",
              "\n",
              "    .dataframe tbody tr th {\n",
              "        vertical-align: top;\n",
              "    }\n",
              "\n",
              "    .dataframe thead th {\n",
              "        text-align: right;\n",
              "    }\n",
              "</style>\n",
              "<table border=\"1\" class=\"dataframe\">\n",
              "  <thead>\n",
              "    <tr style=\"text-align: right;\">\n",
              "      <th></th>\n",
              "      <th>A2</th>\n",
              "      <th>A3</th>\n",
              "      <th>A8</th>\n",
              "      <th>A11</th>\n",
              "      <th>A14</th>\n",
              "      <th>A15</th>\n",
              "      <th>A16</th>\n",
              "    </tr>\n",
              "  </thead>\n",
              "  <tbody>\n",
              "    <tr>\n",
              "      <th>count</th>\n",
              "      <td>304.000000</td>\n",
              "      <td>306.000000</td>\n",
              "      <td>306.000000</td>\n",
              "      <td>306.000000</td>\n",
              "      <td>300.000000</td>\n",
              "      <td>306.000000</td>\n",
              "      <td>306.0</td>\n",
              "    </tr>\n",
              "    <tr>\n",
              "      <th>mean</th>\n",
              "      <td>33.730000</td>\n",
              "      <td>5.924248</td>\n",
              "      <td>3.435016</td>\n",
              "      <td>4.617647</td>\n",
              "      <td>164.296667</td>\n",
              "      <td>2045.522876</td>\n",
              "      <td>1.0</td>\n",
              "    </tr>\n",
              "    <tr>\n",
              "      <th>std</th>\n",
              "      <td>12.829683</td>\n",
              "      <td>5.469973</td>\n",
              "      <td>4.125652</td>\n",
              "      <td>6.327215</td>\n",
              "      <td>162.026347</td>\n",
              "      <td>7671.419484</td>\n",
              "      <td>0.0</td>\n",
              "    </tr>\n",
              "    <tr>\n",
              "      <th>min</th>\n",
              "      <td>13.750000</td>\n",
              "      <td>0.000000</td>\n",
              "      <td>0.000000</td>\n",
              "      <td>0.000000</td>\n",
              "      <td>0.000000</td>\n",
              "      <td>0.000000</td>\n",
              "      <td>1.0</td>\n",
              "    </tr>\n",
              "    <tr>\n",
              "      <th>25%</th>\n",
              "      <td>23.170000</td>\n",
              "      <td>1.500000</td>\n",
              "      <td>0.750000</td>\n",
              "      <td>0.000000</td>\n",
              "      <td>0.000000</td>\n",
              "      <td>0.000000</td>\n",
              "      <td>1.0</td>\n",
              "    </tr>\n",
              "    <tr>\n",
              "      <th>50%</th>\n",
              "      <td>30.335000</td>\n",
              "      <td>4.460000</td>\n",
              "      <td>2.000000</td>\n",
              "      <td>3.000000</td>\n",
              "      <td>120.000000</td>\n",
              "      <td>227.500000</td>\n",
              "      <td>1.0</td>\n",
              "    </tr>\n",
              "    <tr>\n",
              "      <th>75%</th>\n",
              "      <td>41.352500</td>\n",
              "      <td>9.530000</td>\n",
              "      <td>5.000000</td>\n",
              "      <td>7.000000</td>\n",
              "      <td>280.000000</td>\n",
              "      <td>1209.500000</td>\n",
              "      <td>1.0</td>\n",
              "    </tr>\n",
              "    <tr>\n",
              "      <th>max</th>\n",
              "      <td>76.750000</td>\n",
              "      <td>28.000000</td>\n",
              "      <td>28.500000</td>\n",
              "      <td>67.000000</td>\n",
              "      <td>840.000000</td>\n",
              "      <td>100000.000000</td>\n",
              "      <td>1.0</td>\n",
              "    </tr>\n",
              "  </tbody>\n",
              "</table>\n",
              "</div>"
            ],
            "text/plain": [
              "               A2          A3          A8         A11         A14            A15    A16\n",
              "count  304.000000  306.000000  306.000000  306.000000  300.000000     306.000000  306.0\n",
              "mean    33.730000    5.924248    3.435016    4.617647  164.296667    2045.522876    1.0\n",
              "std     12.829683    5.469973    4.125652    6.327215  162.026347    7671.419484    0.0\n",
              "min     13.750000    0.000000    0.000000    0.000000    0.000000       0.000000    1.0\n",
              "25%     23.170000    1.500000    0.750000    0.000000    0.000000       0.000000    1.0\n",
              "50%     30.335000    4.460000    2.000000    3.000000  120.000000     227.500000    1.0\n",
              "75%     41.352500    9.530000    5.000000    7.000000  280.000000    1209.500000    1.0\n",
              "max     76.750000   28.000000   28.500000   67.000000  840.000000  100000.000000    1.0"
            ]
          },
          "execution_count": 44,
          "metadata": {
            "tags": []
          },
          "output_type": "execute_result"
        }
      ],
      "source": [
        "pos.describe()"
      ]
    },
    {
      "cell_type": "code",
      "execution_count": 45,
      "metadata": {
        "colab": {
          "base_uri": "https://localhost:8080/",
          "height": 34
        },
        "colab_type": "code",
        "id": "pCNHG3_rbFLq",
        "outputId": "3e0003d9-1a32-4eed-a8a7-a2ca4a1ec26f",
        "vscode": {
          "languageId": "python"
        }
      },
      "outputs": [
        {
          "data": {
            "text/plain": [
              "Ttest_1sampResult(statistic=4.6643305764631116, pvalue=4.638977761875466e-06)"
            ]
          },
          "execution_count": 45,
          "metadata": {
            "tags": []
          },
          "output_type": "execute_result"
        }
      ],
      "source": [
        "pos.set_index(\"A16\")\n",
        "stats.ttest_1samp(pos['A15'], 0, nan_policy='omit')"
      ]
    },
    {
      "cell_type": "code",
      "execution_count": 46,
      "metadata": {
        "colab": {
          "base_uri": "https://localhost:8080/",
          "height": 34
        },
        "colab_type": "code",
        "id": "dTC2x2uZflPk",
        "outputId": "a07846cf-6853-436f-ce25-2e64b12bf42d",
        "vscode": {
          "languageId": "python"
        }
      },
      "outputs": [
        {
          "data": {
            "text/plain": [
              "Ttest_1sampResult(statistic=11.384060942516108, pvalue=2.9270890600074304e-25)"
            ]
          },
          "execution_count": 46,
          "metadata": {
            "tags": []
          },
          "output_type": "execute_result"
        }
      ],
      "source": [
        "stats.ttest_1samp(pos['A11'], .5, nan_policy='omit')"
      ]
    },
    {
      "cell_type": "code",
      "execution_count": 47,
      "metadata": {
        "colab": {
          "base_uri": "https://localhost:8080/",
          "height": 34
        },
        "colab_type": "code",
        "id": "zYzwvQmmV6XP",
        "outputId": "17f9b7fe-cf89-42f8-8733-aa17efa34d97",
        "vscode": {
          "languageId": "python"
        }
      },
      "outputs": [
        {
          "data": {
            "text/plain": [
              "Ttest_1sampResult(statistic=5.787283914053776, pvalue=1.4923508038203516e-08)"
            ]
          },
          "execution_count": 47,
          "metadata": {
            "tags": []
          },
          "output_type": "execute_result"
        }
      ],
      "source": [
        "neg.describe(include=\"object\")\n",
        "neg.describe()\n",
        "neg.set_index(\"A16\")\n",
        "stats.ttest_1samp(neg['A15'], 0, nan_policy='omit')"
      ]
    },
    {
      "cell_type": "code",
      "execution_count": 48,
      "metadata": {
        "colab": {
          "base_uri": "https://localhost:8080/",
          "height": 34
        },
        "colab_type": "code",
        "id": "30jvuM_5fe9g",
        "outputId": "499a25d9-02a6-411c-caaf-4dbf7c7d088f",
        "vscode": {
          "languageId": "python"
        }
      },
      "outputs": [
        {
          "data": {
            "text/plain": [
              "Ttest_1sampResult(statistic=15.068962886128801, pvalue=1.3340212686882321e-40)"
            ]
          },
          "execution_count": 48,
          "metadata": {
            "tags": []
          },
          "output_type": "execute_result"
        }
      ],
      "source": [
        "stats.ttest_1samp(neg['A3'], .5, nan_policy='omit')"
      ]
    },
    {
      "cell_type": "code",
      "execution_count": 52,
      "metadata": {
        "colab": {
          "base_uri": "https://localhost:8080/",
          "height": 319
        },
        "colab_type": "code",
        "id": "xFTf9ut6h63r",
        "outputId": "237d0375-002f-44bb-ab27-ce0cf442959f",
        "vscode": {
          "languageId": "python"
        }
      },
      "outputs": [
        {
          "name": "stdout",
          "output_type": "stream",
          "text": [
            "A2\n",
            "Ttest_1sampResult(statistic=45.83921785402205, pvalue=2.573311378371366e-138)\n",
            "2.573311378371366e-138\n",
            "A3\n",
            "Ttest_1sampResult(statistic=18.945617970316587, pvalue=1.8759795934810054e-53)\n",
            "1.8759795934810054e-53\n",
            "A8\n",
            "Ttest_1sampResult(statistic=14.56454658522849, pvalue=7.641890199383134e-37)\n",
            "7.641890199383134e-37\n",
            "A11\n",
            "Ttest_1sampResult(statistic=12.766411199821636, pvalue=3.402176414506373e-30)\n",
            "3.402176414506373e-30\n",
            "A14\n",
            "Ttest_1sampResult(statistic=17.563203732089676, pvalue=6.106677898747754e-48)\n",
            "6.106677898747754e-48\n",
            "A15\n",
            "Ttest_1sampResult(statistic=4.6643305764631116, pvalue=4.638977761875466e-06)\n",
            "4.638977761875466e-06\n"
          ]
        }
      ],
      "source": [
        "for x in conts:\n",
        "  print(x)\n",
        "  pvals =(stats.ttest_1samp(pos[x], 0, nan_policy='omit'))\n",
        "  print(pvals)\n",
        "  print(pvals[1])\n",
        "  if float(pvals[1]) > 0.05:\n",
        "    print(\"Due to the insignificant p-value we would FAIL TO REJECT..\")"
      ]
    },
    {
      "cell_type": "code",
      "execution_count": 53,
      "metadata": {
        "colab": {
          "base_uri": "https://localhost:8080/",
          "height": 336
        },
        "colab_type": "code",
        "id": "1_7yBV7KiLh2",
        "outputId": "edc576ff-854e-475f-f70f-9e80b882c210",
        "vscode": {
          "languageId": "python"
        }
      },
      "outputs": [
        {
          "name": "stdout",
          "output_type": "stream",
          "text": [
            "A2\n",
            "Ttest_1sampResult(statistic=51.838159509119116, pvalue=2.7696876994315467e-172)\n",
            "2.7696876994315467e-172\n",
            "A3\n",
            "Ttest_1sampResult(statistic=15.068962886128801, pvalue=1.3340212686882321e-40)\n",
            "1.3340212686882321e-40\n",
            "A8\n",
            "Ttest_1sampResult(statistic=6.995051170689755, pvalue=1.1936831195754194e-11)\n",
            "1.1936831195754194e-11\n",
            "A11\n",
            "Ttest_1sampResult(statistic=1.3580856177707235, pvalue=0.17523808826084886)\n",
            "0.17523808826084886\n",
            "Due to the insignificant p-value we would FAIL TO REJECT..\n",
            "A14\n",
            "Ttest_1sampResult(statistic=21.274058869902017, pvalue=1.9305575371234623e-66)\n",
            "1.9305575371234623e-66\n",
            "A15\n",
            "Ttest_1sampResult(statistic=5.772714134263314, pvalue=1.6160412586061775e-08)\n",
            "1.6160412586061775e-08\n"
          ]
        }
      ],
      "source": [
        "for x in conts:\n",
        "  print(x)\n",
        "  pvals =(stats.ttest_1samp(neg[x], 0.5, nan_policy='omit'))\n",
        "  print(pvals)\n",
        "  print(pvals[1])\n",
        "  if float(pvals[1]) > 0.05:\n",
        "    print(\"Due to the insignificant p-value we would FAIL TO REJECT..\")"
      ]
    },
    {
      "cell_type": "code",
      "execution_count": 56,
      "metadata": {
        "colab": {
          "base_uri": "https://localhost:8080/",
          "height": 319
        },
        "colab_type": "code",
        "id": "ZPfKbRmdiUNg",
        "outputId": "adb4a475-8b0d-41b8-ea5a-fb939ef50aa8",
        "vscode": {
          "languageId": "python"
        }
      },
      "outputs": [
        {
          "name": "stdout",
          "output_type": "stream",
          "text": [
            "A2\n",
            "Ttest_indResult(statistic=4.295769602362607, pvalue=1.9966966407405674e-05)\n",
            "1.9966966407405674e-05\n",
            "A3\n",
            "Ttest_indResult(statistic=5.5785223709472715, pvalue=3.490724496507552e-08)\n",
            "3.490724496507552e-08\n",
            "A8\n",
            "Ttest_indResult(statistic=8.953578558992847, pvalue=3.188202861884123e-18)\n",
            "3.188202861884123e-18\n",
            "A11\n",
            "Ttest_indResult(statistic=11.688107254939139, pvalue=6.519842491876911e-29)\n",
            "6.519842491876911e-29\n",
            "A14\n",
            "Ttest_indResult(statistic=-2.6408733636831654, pvalue=0.008460849261398617)\n",
            "0.008460849261398617\n",
            "A15\n",
            "Ttest_indResult(statistic=4.69003486307862, pvalue=3.296216085672561e-06)\n",
            "3.296216085672561e-06\n"
          ]
        }
      ],
      "source": [
        "for x in conts:\n",
        "  print(x)\n",
        "  pvals =(stats.ttest_ind(pos[x], neg[x], nan_policy='omit'))\n",
        "  print(pvals)\n",
        "  print(pvals[1])\n",
        "  if float(pvals[1]) > 0.05:\n",
        "    print(\"Due to the insignificant p-value we would FAIL TO REJECT..\")"
      ]
    },
    {
      "cell_type": "code",
      "execution_count": null,
      "metadata": {
        "colab": {},
        "colab_type": "code",
        "id": "Hph5UttMiqEk",
        "vscode": {
          "languageId": "python"
        }
      },
      "outputs": [],
      "source": []
    },
    {
      "attachments": {},
      "cell_type": "markdown",
      "metadata": {
        "colab_type": "text",
        "id": "ZM8JckA2bgnp"
      },
      "source": [
        "## Part 3 - Analysis and Interpretation"
      ]
    },
    {
      "cell_type": "markdown",
      "metadata": {
        "colab_type": "text",
        "id": "LIozLDNG2Uhu"
      },
      "source": [
        "I failed to reject a nul hypothesis that there was an even split betwen data in the negative class attribute of the A16 column when comparing the A11 continuos figure at a .05 pvalue.\n",
        "\n",
        "In all positive class attributes of the A16 I would have to reject a null hypothesis that there is no correlation between the figures and the classification.\n",
        "\n",
        "Additionally when comparing means between both the negative and positive A16 attributes, I discovered that at the  pvalue of .05 all continuous attritrbutes reveal that we must reject the null hypothesis that there is no correlation between the data and the means.\n",
        "My first results of the expected values between the A16 and A11 categorical information reveal a stark disproportianate number of positive A16 attributes within the 0-9\t10-19 A11 data. However when compared to an expected 77% ratio the rest of the categories seem underrepresented by the positive A16 atribute.\n",
        "\n",
        "The second chi squared test in the overall data frame reveals an expected ratio of about 0.557 of positve class atributes of the A16 class for the A4 categorical data. This is not represented in the A4 y category as expected in the positive A16 attribute class.\n",
        "\n"
      ]
    },
    {
      "cell_type": "markdown",
      "metadata": {
        "colab_type": "text",
        "id": "NeGu6X8XGE_v"
      },
      "source": [
        "CONTINUOUS SOLUTION: A8 had an extrmeely large and positie test statistic, suggesting that (whtever it represents) it is a characteristic that people who get credit approved have much more strongly that those who fail to get approved for credit.\n",
        "A14 had a still significant but relatively smaller and negative test statisti suffestiong that it is a characteristic more commeon/exteme amongst people who fail to get approval for credit.\n",
        "CATEGORICAL SOLUTION(Chi-squared itself doesnt really tell us much, so we have to look at the counts themselves)\n",
        "A9 is a simple t/f catefory with an extremely different distribution between those who recieve credit and dont, suggesting some sort of relationshop\n",
        "A1 is two categories like A9 (though a/b instead of t/f) but much less dramatically different - we cannot reject the null hypothesis that A1 is independent of our class label with a rather large pvalue."
      ]
    }
  ],
  "metadata": {
    "colab": {
      "collapsed_sections": [],
      "include_colab_link": true,
      "name": "DS_Unit_1_Sprint_Challenge_3_Darek.ipynb",
      "provenance": [],
      "version": "0.3.2"
    },
    "kernelspec": {
      "display_name": "Python 3",
      "name": "python3"
    }
  },
  "nbformat": 4,
  "nbformat_minor": 0
}
