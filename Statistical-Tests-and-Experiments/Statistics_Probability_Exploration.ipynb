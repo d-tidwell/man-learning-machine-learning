{
  "cells": [
    {
      "attachments": {},
      "cell_type": "markdown",
      "metadata": {
        "colab_type": "text",
        "id": "fuA5cOrzaDrV"
      },
      "source": [
        "\n",
        "\n",
        "# Apply the t-test to real data\n",
        "\n",
        "Trying to determine which issues have \"statistically significant\" differences between political parties in this [1980s congressional voting data](https://archive.ics.uci.edu/ml/datasets/Congressional+Voting+Records). The data consists of 435 instances (one for each congressperson), a class (democrat or republican), and 16 binary attributes (yes or no for voting for or against certain issues).\n",
        "\n",
        "\n",
        "1. Load and clean the data (or determine the best method to drop observations when running tests)\n",
        "2. Using hypothesis testing, find an issue that democrats support more than republicans with p < 0.01\n",
        "3. Using hypothesis testing, find an issue that republicans support more than democrats with p < 0.01\n",
        "4. Using hypothesis testing, find an issue where the difference between republicans and democrats has p > 0.1 (i.e. there may not be much of a difference)\n",
        "\n",
        "Note that this data will involve *2 sample* t-tests, because you're comparing averages across two groups (republicans and democrats) rather than a single group against a null hypothesis."
      ]
    },
    {
      "cell_type": "code",
      "execution_count": 1,
      "metadata": {
        "colab": {
          "base_uri": "https://localhost:8080/",
          "height": 70
        },
        "colab_type": "code",
        "id": "Pfc2YrkPJz8P",
        "outputId": "5d9a77ea-fd42-4805-a6fa-65310ccdfeae"
      },
      "outputs": [
        {
          "name": "stdout",
          "output_type": "stream",
          "text": [
            "This is the population:  [0, 1, 1, 0, 0, 1, 1, 1, 0, 0, 1, 1, 0, 0, 1, 0, 1, 0, 1, 1, 1, 1, 1, 1, 0, 1, 1, 0, 1, 0, 1, 1, 0, 0, 0, 0, 0, 1, 1, 0, 1, 1, 1, 1, 0, 1, 0, 0, 1, 0, 0, 0, 1, 1, 0, 0, 0, 1, 1, 0, 0, 0, 1, 0, 0, 1, 1, 1, 1, 0, 1, 0, 0, 0, 1, 1, 1, 0, 0, 0, 1, 1, 1, 1, 0, 0, 0, 1, 1, 0, 0, 1, 1, 1, 0, 1, 1, 0, 1, 1, 1, 0, 0, 1, 1, 1, 0, 1, 1, 1, 1, 0, 1, 0, 1, 0, 0, 1, 0, 0, 1, 0, 0, 0, 1, 1, 0, 1, 1, 1, 1, 1, 1, 1, 1, 0, 0, 1, 0, 0, 1, 0, 0, 1, 1, 0, 1, 0, 0, 0, 1, 0, 1, 0, 1, 1, 0, 1, 0, 0, 0, 1, 0, 0, 1, 1, 1, 1, 0, 1, 1, 0, 0, 0, 1, 1, 1, 0, 0, 1, 0, 0, 1, 1, 1, 1, 1, 0, 1, 1, 1, 1, 1, 1, 1, 1, 1, 1, 1, 1, 1, 1, 0, 1, 1, 0, 1, 0, 1, 0, 1, 1, 0, 1, 1, 1, 0, 0, 0, 1, 0, 0, 0, 0, 1, 0, 1, 0, 1, 0, 1, 0, 1, 0, 0, 0, 1, 1, 1, 0, 0, 0, 1, 0, 0, 1, 0, 1, 1, 1, 0, 0, 1, 1, 1, 1, 0, 1, 1, 1, 1, 1, 0, 0, 1, 0, 0, 0, 0, 1, 1, 1, 0, 0, 0, 1, 0, 0, 0, 0, 1, 0, 1, 0, 1, 1, 0, 1, 0, 1, 0, 0, 1, 1, 1, 0, 0, 0, 1, 0, 1, 0, 1, 0, 0, 0, 1, 1, 1, 0, 1, 1, 0, 1, 0, 0, 1, 0, 0, 1, 0, 1, 0, 1, 1, 0, 0, 0, 0, 1, 0, 0, 1, 1, 0, 0, 1, 1, 1, 0, 0, 0, 0, 1, 0, 0, 0, 1, 1, 0, 0, 0, 0, 0, 0, 0, 0, 1, 0, 0, 1, 0, 1, 0, 0, 0, 1, 1, 1, 1, 0, 0, 1, 1, 1, 1, 0, 0, 1, 1, 0, 0, 1, 0, 0, 1, 0, 1, 0, 0, 0, 1, 1, 0, 1, 1, 0, 0, 0, 0, 0, 0, 0, 0, 1, 1, 0, 0, 1, 0, 1, 1, 1, 1, 0, 0, 0, 1, 0, 1, 0, 1, 1, 0, 0, 1, 1, 0, 1, 1, 0, 1, 1, 1, 0, 1, 1, 0, 0, 1, 0, 1, 0, 1, 0, 0, 0, 0, 0, 1, 1, 0, 1, 0, 0, 0, 1, 1, 1, 1, 0, 0, 1, 0, 0, 0, 1, 0, 1, 1, 0, 0, 0, 0, 0, 1, 1, 0, 0, 0, 1, 0, 0, 1, 1, 0, 0, 1, 1, 1, 0, 0, 1, 1, 1, 1, 0, 1, 1, 0, 1, 1, 1, 0, 0, 1, 1, 0, 0, 1, 0, 0, 1, 0, 0, 1, 1, 0, 1, 0, 1, 1, 0, 1, 0, 1, 1, 1, 1, 1, 0, 1, 0, 0, 1, 1, 1, 1, 1, 1, 0, 1, 1, 1, 0, 0, 0, 1, 0, 0, 0, 0, 0, 1, 1, 0, 0, 0, 0, 1, 1, 0, 0, 0, 0, 0, 1, 1, 1, 0, 1, 1, 1, 0, 0, 1, 0, 0, 0, 0, 1, 1, 1, 1, 1, 1, 1, 1, 0, 0, 1, 1, 1, 1, 1, 1, 0, 0, 0, 1, 1, 0, 0, 1, 0, 0, 0, 1, 1, 1, 0, 1, 0, 0, 0, 1, 0, 1, 1, 0, 0, 0, 0, 0, 1, 1, 0, 1, 0, 1, 1, 0, 0, 1, 1, 0, 0, 0, 0, 0, 0, 1, 0, 0, 1, 1, 1, 0, 1, 0, 1, 1, 1, 0, 1, 0, 0, 0, 0, 0, 1, 0, 1, 1, 1, 1, 0, 1, 0, 0, 0, 1, 0, 1, 0, 0, 0, 1, 0, 1, 1, 0, 0, 0, 1, 1, 0, 0, 1, 0, 0, 0, 1, 1, 1, 1, 1, 0, 1, 1, 1, 0, 1, 1, 1, 0, 1, 1, 1, 1, 1, 1, 0, 1, 0, 0, 0, 0, 1, 1, 1, 1, 0, 1, 0, 0, 0, 0, 0, 0, 0, 1, 1, 1, 1, 1, 1, 0, 0, 1, 0, 0, 0, 1, 0, 1, 1, 0, 1, 1, 1, 0, 1, 1, 1, 1, 1, 1, 0, 1, 1, 1, 0, 0, 1, 1, 1, 1, 0, 1, 0, 0, 0, 1, 1, 0, 0, 0, 0, 1, 0, 1, 0, 0, 0, 1, 0, 1, 1, 0, 1, 0, 1, 0, 0, 1, 0, 0, 0, 1, 1, 1, 0, 1, 0, 0, 1, 0, 1, 1, 1, 0, 0, 0, 1, 1, 0, 1, 1, 0, 1, 0, 1, 0, 0, 0, 0, 0, 0, 1, 0, 0, 1, 1, 0, 1, 1, 0, 0, 0, 0, 1, 0, 1, 0, 1, 1, 0, 0, 1, 0, 1, 0, 1, 1, 1, 0, 1, 1, 0, 1, 0, 0, 1, 1, 0, 0, 0, 0, 0, 0, 1, 0, 0, 1, 0, 1, 1, 1, 1, 1, 1, 1, 0, 0, 1, 0, 0, 1, 1, 1, 0, 0, 1, 1, 1, 1, 0, 0, 1, 1, 0, 1, 0, 1, 0, 1, 0, 1, 0, 1, 0, 0, 0, 1, 0, 1, 0, 1, 1, 1, 1, 1, 0, 0, 1, 0, 1, 1, 1, 1, 0, 1, 0, 0, 1, 1, 1, 0, 1, 0, 0, 0, 1, 0, 0, 0, 0, 1, 1, 0, 0, 0, 0, 0, 1, 0, 0, 1, 1, 1, 0, 0, 0, 0, 0, 1, 1, 0, 1, 0, 1, 0, 0, 1, 0, 1, 1, 1, 0, 1, 0, 1, 0, 1, 1, 0, 1, 0, 1, 1, 0, 1, 1, 0, 1, 0, 0, 1, 0]\n",
            "This is the length of the population: 1000\n"
          ]
        }
      ],
      "source": [
        "import random\n",
        "random.seed(10)\n",
        "\n",
        "population = []\n",
        "\n",
        "for i in range(1000):\n",
        "  population.append(random.randint(0,1))\n",
        "print(\"This is the population: \",population)\n",
        "print(\"This is the length of the population:\",len(population))\n",
        "\n",
        "#factorial as part of Combinations nCr\n",
        "def factorial(num):\n",
        "  if num == 1:\n",
        "    return num\n",
        "  else:\n",
        "    return num * factorial(num-1)\n",
        "\n",
        "  \n",
        "\n",
        "# how many subsetsets may be made from a larger set( order doesnt matter)\n",
        "def nCr(num,k):\n",
        "  if k == 0:\n",
        "    return 0\n",
        "  if k == 1:\n",
        "    return num\n",
        "  else:\n",
        "    return factorial(num)/(factorial(k)*factorial(num-k))\n",
        "\n",
        "#conditional without replacement\n",
        "def combinitorics(n,k):\n",
        "  return sum(list(range(n-(k-1),n+1)))\n",
        "\n",
        "#manual variance of population\n",
        "def variance(list):\n",
        "  n = len(list)\n",
        "  return (np.sum((list - mean(list))**2) / (n-1))\n",
        "\n",
        "\n",
        "\n",
        "#manual standard\n",
        "def stddev(list):\n",
        "  var = variance(list)\n",
        "  return var**(1/2)\n",
        "\n",
        "#manual T stat\n",
        "# n = len(df.likes_coke)\n",
        "# t_stat = (mean(df.['xxx']) - mean(population))/(stddev(df['xxx'])/n**(1/2))\n",
        "# print(t_stat)\n",
        "\n",
        "# #t = vairance between groups/ variance between within groups\n",
        "\n",
        "# #at least 30 observations to reach a normal distribution\n",
        "\n",
        "# #Ttest for one sample result Scip\n",
        "# scipy.stats.ttest_1samp(df[\"This result\"], mean(population))\n"
      ]
    },
    {
      "cell_type": "code",
      "execution_count": null,
      "metadata": {
        "colab": {},
        "colab_type": "code",
        "id": "9tkiRQHiJ5GM"
      },
      "outputs": [],
      "source": [
        "# # normal distribution\n",
        "# norm = stats.norm()\n",
        "# print(norm.mean())\n",
        "# print(norm.std())\n",
        "# print(norm.var())"
      ]
    },
    {
      "cell_type": "code",
      "execution_count": null,
      "metadata": {
        "colab": {},
        "colab_type": "code",
        "id": "o_xA1-kqKBsg"
      },
      "outputs": [],
      "source": [
        "# t1 = stats.t(5) # 5 is df \"shape\" parameter / degrees of freedom / more there is free variation\n",
        "# print(t1.mean())\n",
        "# print(t1.std())\n",
        "# print(t1.var())"
      ]
    },
    {
      "cell_type": "code",
      "execution_count": null,
      "metadata": {
        "colab": {},
        "colab_type": "code",
        "id": "uoxWNdBTaDrY"
      },
      "outputs": [],
      "source": [
        "from scipy import stats\n",
        "import scipy\n",
        "\n",
        "import pandas as pd\n",
        "import matplotlib.pyplot as plt\n",
        "import numpy as np\n",
        "\n",
        "import seaborn as sns\n",
        "from matplotlib import style\n",
        "\n",
        "\n"
      ]
    },
    {
      "cell_type": "code",
      "execution_count": null,
      "metadata": {
        "colab": {},
        "colab_type": "code",
        "id": "CuvFrq3YbYww"
      },
      "outputs": [],
      "source": [
        "df = pd.read_csv('https://archive.ics.uci.edu/ml/machine-learning-databases/voting-records/house-votes-84.data')"
      ]
    },
    {
      "cell_type": "code",
      "execution_count": 6,
      "metadata": {
        "colab": {
          "base_uri": "https://localhost:8080/",
          "height": 34
        },
        "colab_type": "code",
        "id": "vR-tZ4SBbqm2",
        "outputId": "04d4dbcc-fae7-4003-dc9d-3be9c07237cc"
      },
      "outputs": [
        {
          "data": {
            "text/plain": [
              "(434, 17)"
            ]
          },
          "execution_count": 6,
          "metadata": {
            "tags": []
          },
          "output_type": "execute_result"
        }
      ],
      "source": [
        "df.head(10)\n",
        "df.tail(10)\n",
        "df.shape"
      ]
    },
    {
      "cell_type": "code",
      "execution_count": 7,
      "metadata": {
        "colab": {
          "base_uri": "https://localhost:8080/",
          "height": 202
        },
        "colab_type": "code",
        "id": "FxFFek_je06-",
        "outputId": "164ea7d9-fd42-4ff3-8ac3-a3f3fa111f57"
      },
      "outputs": [
        {
          "data": {
            "text/html": [
              "<div>\n",
              "<style scoped>\n",
              "    .dataframe tbody tr th:only-of-type {\n",
              "        vertical-align: middle;\n",
              "    }\n",
              "\n",
              "    .dataframe tbody tr th {\n",
              "        vertical-align: top;\n",
              "    }\n",
              "\n",
              "    .dataframe thead th {\n",
              "        text-align: right;\n",
              "    }\n",
              "</style>\n",
              "<table border=\"1\" class=\"dataframe\">\n",
              "  <thead>\n",
              "    <tr style=\"text-align: right;\">\n",
              "      <th></th>\n",
              "      <th>Class</th>\n",
              "      <th>handy_inf</th>\n",
              "      <th>water_project</th>\n",
              "      <th>budget_res</th>\n",
              "      <th>physician_fee</th>\n",
              "      <th>el_salv</th>\n",
              "      <th>religion_sch</th>\n",
              "      <th>anti_sat_test</th>\n",
              "      <th>nic_aid</th>\n",
              "      <th>mx_missle</th>\n",
              "      <th>immigration</th>\n",
              "      <th>synfules</th>\n",
              "      <th>education</th>\n",
              "      <th>superfund</th>\n",
              "      <th>crime</th>\n",
              "      <th>duty-free</th>\n",
              "      <th>s_africa</th>\n",
              "    </tr>\n",
              "  </thead>\n",
              "  <tbody>\n",
              "    <tr>\n",
              "      <th>count</th>\n",
              "      <td>434</td>\n",
              "      <td>434</td>\n",
              "      <td>434</td>\n",
              "      <td>434</td>\n",
              "      <td>434</td>\n",
              "      <td>434</td>\n",
              "      <td>434</td>\n",
              "      <td>434</td>\n",
              "      <td>434</td>\n",
              "      <td>434</td>\n",
              "      <td>434</td>\n",
              "      <td>434</td>\n",
              "      <td>434</td>\n",
              "      <td>434</td>\n",
              "      <td>434</td>\n",
              "      <td>434</td>\n",
              "      <td>434</td>\n",
              "    </tr>\n",
              "    <tr>\n",
              "      <th>unique</th>\n",
              "      <td>2</td>\n",
              "      <td>3</td>\n",
              "      <td>3</td>\n",
              "      <td>3</td>\n",
              "      <td>3</td>\n",
              "      <td>3</td>\n",
              "      <td>3</td>\n",
              "      <td>3</td>\n",
              "      <td>3</td>\n",
              "      <td>3</td>\n",
              "      <td>3</td>\n",
              "      <td>3</td>\n",
              "      <td>3</td>\n",
              "      <td>3</td>\n",
              "      <td>3</td>\n",
              "      <td>3</td>\n",
              "      <td>3</td>\n",
              "    </tr>\n",
              "    <tr>\n",
              "      <th>top</th>\n",
              "      <td>democrat</td>\n",
              "      <td>n</td>\n",
              "      <td>y</td>\n",
              "      <td>y</td>\n",
              "      <td>n</td>\n",
              "      <td>y</td>\n",
              "      <td>y</td>\n",
              "      <td>y</td>\n",
              "      <td>y</td>\n",
              "      <td>y</td>\n",
              "      <td>y</td>\n",
              "      <td>n</td>\n",
              "      <td>n</td>\n",
              "      <td>y</td>\n",
              "      <td>y</td>\n",
              "      <td>n</td>\n",
              "      <td>y</td>\n",
              "    </tr>\n",
              "    <tr>\n",
              "      <th>freq</th>\n",
              "      <td>267</td>\n",
              "      <td>235</td>\n",
              "      <td>194</td>\n",
              "      <td>253</td>\n",
              "      <td>247</td>\n",
              "      <td>211</td>\n",
              "      <td>271</td>\n",
              "      <td>239</td>\n",
              "      <td>242</td>\n",
              "      <td>207</td>\n",
              "      <td>215</td>\n",
              "      <td>264</td>\n",
              "      <td>233</td>\n",
              "      <td>208</td>\n",
              "      <td>247</td>\n",
              "      <td>232</td>\n",
              "      <td>268</td>\n",
              "    </tr>\n",
              "  </tbody>\n",
              "</table>\n",
              "</div>"
            ],
            "text/plain": [
              "           Class handy_inf water_project budget_res physician_fee el_salv  \\\n",
              "count        434       434           434        434           434     434   \n",
              "unique         2         3             3          3             3       3   \n",
              "top     democrat         n             y          y             n       y   \n",
              "freq         267       235           194        253           247     211   \n",
              "\n",
              "       religion_sch anti_sat_test nic_aid mx_missle immigration synfules  \\\n",
              "count           434           434     434       434         434      434   \n",
              "unique            3             3       3         3           3        3   \n",
              "top               y             y       y         y           y        n   \n",
              "freq            271           239     242       207         215      264   \n",
              "\n",
              "       education superfund crime duty-free s_africa  \n",
              "count        434       434   434       434      434  \n",
              "unique         3         3     3         3        3  \n",
              "top            n         y     y         n        y  \n",
              "freq         233       208   247       232      268  "
            ]
          },
          "execution_count": 7,
          "metadata": {
            "tags": []
          },
          "output_type": "execute_result"
        }
      ],
      "source": [
        "df.columns =[\n",
        "    \"Class\",\n",
        "    'handy_inf',\n",
        "    'water_project',\n",
        "    'budget_res',\n",
        "    'physician_fee',\n",
        "    'el_salv',\n",
        "    'religion_sch',\n",
        "    'anti_sat_test',\n",
        "    'nic_aid',\n",
        "    'mx_missle',\n",
        "    'immigration',\n",
        "    'synfules',\n",
        "    'education',\n",
        "    'superfund',\n",
        "    'crime',\n",
        "    'duty-free',\n",
        "    's_africa',\n",
        "    \n",
        "]\n",
        "\n",
        "\n",
        "\n",
        "df.describe()\n"
      ]
    },
    {
      "cell_type": "code",
      "execution_count": 8,
      "metadata": {
        "colab": {
          "base_uri": "https://localhost:8080/",
          "height": 676
        },
        "colab_type": "code",
        "id": "mBQDhI-lbruA",
        "outputId": "7f027a6d-c958-4308-da33-2c7c91479c2f"
      },
      "outputs": [
        {
          "data": {
            "text/html": [
              "<div>\n",
              "<style scoped>\n",
              "    .dataframe tbody tr th:only-of-type {\n",
              "        vertical-align: middle;\n",
              "    }\n",
              "\n",
              "    .dataframe tbody tr th {\n",
              "        vertical-align: top;\n",
              "    }\n",
              "\n",
              "    .dataframe thead th {\n",
              "        text-align: right;\n",
              "    }\n",
              "</style>\n",
              "<table border=\"1\" class=\"dataframe\">\n",
              "  <thead>\n",
              "    <tr style=\"text-align: right;\">\n",
              "      <th></th>\n",
              "      <th>Class</th>\n",
              "      <th>handy_inf</th>\n",
              "      <th>water_project</th>\n",
              "      <th>budget_res</th>\n",
              "      <th>physician_fee</th>\n",
              "      <th>el_salv</th>\n",
              "      <th>religion_sch</th>\n",
              "      <th>anti_sat_test</th>\n",
              "      <th>nic_aid</th>\n",
              "      <th>mx_missle</th>\n",
              "      <th>immigration</th>\n",
              "      <th>synfules</th>\n",
              "      <th>education</th>\n",
              "      <th>superfund</th>\n",
              "      <th>crime</th>\n",
              "      <th>duty-free</th>\n",
              "      <th>s_africa</th>\n",
              "    </tr>\n",
              "  </thead>\n",
              "  <tbody>\n",
              "    <tr>\n",
              "      <th>0</th>\n",
              "      <td>republican</td>\n",
              "      <td>n</td>\n",
              "      <td>y</td>\n",
              "      <td>n</td>\n",
              "      <td>y</td>\n",
              "      <td>y</td>\n",
              "      <td>y</td>\n",
              "      <td>n</td>\n",
              "      <td>n</td>\n",
              "      <td>n</td>\n",
              "      <td>n</td>\n",
              "      <td>n</td>\n",
              "      <td>y</td>\n",
              "      <td>y</td>\n",
              "      <td>y</td>\n",
              "      <td>n</td>\n",
              "      <td>?</td>\n",
              "    </tr>\n",
              "    <tr>\n",
              "      <th>1</th>\n",
              "      <td>democrat</td>\n",
              "      <td>?</td>\n",
              "      <td>y</td>\n",
              "      <td>y</td>\n",
              "      <td>?</td>\n",
              "      <td>y</td>\n",
              "      <td>y</td>\n",
              "      <td>n</td>\n",
              "      <td>n</td>\n",
              "      <td>n</td>\n",
              "      <td>n</td>\n",
              "      <td>y</td>\n",
              "      <td>n</td>\n",
              "      <td>y</td>\n",
              "      <td>y</td>\n",
              "      <td>n</td>\n",
              "      <td>n</td>\n",
              "    </tr>\n",
              "    <tr>\n",
              "      <th>2</th>\n",
              "      <td>democrat</td>\n",
              "      <td>n</td>\n",
              "      <td>y</td>\n",
              "      <td>y</td>\n",
              "      <td>n</td>\n",
              "      <td>?</td>\n",
              "      <td>y</td>\n",
              "      <td>n</td>\n",
              "      <td>n</td>\n",
              "      <td>n</td>\n",
              "      <td>n</td>\n",
              "      <td>y</td>\n",
              "      <td>n</td>\n",
              "      <td>y</td>\n",
              "      <td>n</td>\n",
              "      <td>n</td>\n",
              "      <td>y</td>\n",
              "    </tr>\n",
              "    <tr>\n",
              "      <th>3</th>\n",
              "      <td>democrat</td>\n",
              "      <td>y</td>\n",
              "      <td>y</td>\n",
              "      <td>y</td>\n",
              "      <td>n</td>\n",
              "      <td>y</td>\n",
              "      <td>y</td>\n",
              "      <td>n</td>\n",
              "      <td>n</td>\n",
              "      <td>n</td>\n",
              "      <td>n</td>\n",
              "      <td>y</td>\n",
              "      <td>?</td>\n",
              "      <td>y</td>\n",
              "      <td>y</td>\n",
              "      <td>y</td>\n",
              "      <td>y</td>\n",
              "    </tr>\n",
              "    <tr>\n",
              "      <th>4</th>\n",
              "      <td>democrat</td>\n",
              "      <td>n</td>\n",
              "      <td>y</td>\n",
              "      <td>y</td>\n",
              "      <td>n</td>\n",
              "      <td>y</td>\n",
              "      <td>y</td>\n",
              "      <td>n</td>\n",
              "      <td>n</td>\n",
              "      <td>n</td>\n",
              "      <td>n</td>\n",
              "      <td>n</td>\n",
              "      <td>n</td>\n",
              "      <td>y</td>\n",
              "      <td>y</td>\n",
              "      <td>y</td>\n",
              "      <td>y</td>\n",
              "    </tr>\n",
              "    <tr>\n",
              "      <th>5</th>\n",
              "      <td>democrat</td>\n",
              "      <td>n</td>\n",
              "      <td>y</td>\n",
              "      <td>n</td>\n",
              "      <td>y</td>\n",
              "      <td>y</td>\n",
              "      <td>y</td>\n",
              "      <td>n</td>\n",
              "      <td>n</td>\n",
              "      <td>n</td>\n",
              "      <td>n</td>\n",
              "      <td>n</td>\n",
              "      <td>n</td>\n",
              "      <td>?</td>\n",
              "      <td>y</td>\n",
              "      <td>y</td>\n",
              "      <td>y</td>\n",
              "    </tr>\n",
              "    <tr>\n",
              "      <th>6</th>\n",
              "      <td>republican</td>\n",
              "      <td>n</td>\n",
              "      <td>y</td>\n",
              "      <td>n</td>\n",
              "      <td>y</td>\n",
              "      <td>y</td>\n",
              "      <td>y</td>\n",
              "      <td>n</td>\n",
              "      <td>n</td>\n",
              "      <td>n</td>\n",
              "      <td>n</td>\n",
              "      <td>n</td>\n",
              "      <td>n</td>\n",
              "      <td>y</td>\n",
              "      <td>y</td>\n",
              "      <td>?</td>\n",
              "      <td>y</td>\n",
              "    </tr>\n",
              "    <tr>\n",
              "      <th>7</th>\n",
              "      <td>republican</td>\n",
              "      <td>n</td>\n",
              "      <td>y</td>\n",
              "      <td>n</td>\n",
              "      <td>y</td>\n",
              "      <td>y</td>\n",
              "      <td>y</td>\n",
              "      <td>n</td>\n",
              "      <td>n</td>\n",
              "      <td>n</td>\n",
              "      <td>n</td>\n",
              "      <td>n</td>\n",
              "      <td>y</td>\n",
              "      <td>y</td>\n",
              "      <td>y</td>\n",
              "      <td>n</td>\n",
              "      <td>y</td>\n",
              "    </tr>\n",
              "    <tr>\n",
              "      <th>8</th>\n",
              "      <td>democrat</td>\n",
              "      <td>y</td>\n",
              "      <td>y</td>\n",
              "      <td>y</td>\n",
              "      <td>n</td>\n",
              "      <td>n</td>\n",
              "      <td>n</td>\n",
              "      <td>y</td>\n",
              "      <td>y</td>\n",
              "      <td>y</td>\n",
              "      <td>n</td>\n",
              "      <td>n</td>\n",
              "      <td>n</td>\n",
              "      <td>n</td>\n",
              "      <td>n</td>\n",
              "      <td>?</td>\n",
              "      <td>?</td>\n",
              "    </tr>\n",
              "    <tr>\n",
              "      <th>9</th>\n",
              "      <td>republican</td>\n",
              "      <td>n</td>\n",
              "      <td>y</td>\n",
              "      <td>n</td>\n",
              "      <td>y</td>\n",
              "      <td>y</td>\n",
              "      <td>n</td>\n",
              "      <td>n</td>\n",
              "      <td>n</td>\n",
              "      <td>n</td>\n",
              "      <td>n</td>\n",
              "      <td>?</td>\n",
              "      <td>?</td>\n",
              "      <td>y</td>\n",
              "      <td>y</td>\n",
              "      <td>n</td>\n",
              "      <td>n</td>\n",
              "    </tr>\n",
              "    <tr>\n",
              "      <th>10</th>\n",
              "      <td>republican</td>\n",
              "      <td>n</td>\n",
              "      <td>y</td>\n",
              "      <td>n</td>\n",
              "      <td>y</td>\n",
              "      <td>y</td>\n",
              "      <td>y</td>\n",
              "      <td>n</td>\n",
              "      <td>n</td>\n",
              "      <td>n</td>\n",
              "      <td>n</td>\n",
              "      <td>y</td>\n",
              "      <td>?</td>\n",
              "      <td>y</td>\n",
              "      <td>y</td>\n",
              "      <td>?</td>\n",
              "      <td>?</td>\n",
              "    </tr>\n",
              "    <tr>\n",
              "      <th>11</th>\n",
              "      <td>democrat</td>\n",
              "      <td>n</td>\n",
              "      <td>y</td>\n",
              "      <td>y</td>\n",
              "      <td>n</td>\n",
              "      <td>n</td>\n",
              "      <td>n</td>\n",
              "      <td>y</td>\n",
              "      <td>y</td>\n",
              "      <td>y</td>\n",
              "      <td>n</td>\n",
              "      <td>n</td>\n",
              "      <td>n</td>\n",
              "      <td>y</td>\n",
              "      <td>n</td>\n",
              "      <td>?</td>\n",
              "      <td>?</td>\n",
              "    </tr>\n",
              "    <tr>\n",
              "      <th>12</th>\n",
              "      <td>democrat</td>\n",
              "      <td>y</td>\n",
              "      <td>y</td>\n",
              "      <td>y</td>\n",
              "      <td>n</td>\n",
              "      <td>n</td>\n",
              "      <td>y</td>\n",
              "      <td>y</td>\n",
              "      <td>y</td>\n",
              "      <td>?</td>\n",
              "      <td>y</td>\n",
              "      <td>y</td>\n",
              "      <td>?</td>\n",
              "      <td>n</td>\n",
              "      <td>n</td>\n",
              "      <td>y</td>\n",
              "      <td>?</td>\n",
              "    </tr>\n",
              "    <tr>\n",
              "      <th>13</th>\n",
              "      <td>republican</td>\n",
              "      <td>n</td>\n",
              "      <td>y</td>\n",
              "      <td>n</td>\n",
              "      <td>y</td>\n",
              "      <td>y</td>\n",
              "      <td>y</td>\n",
              "      <td>n</td>\n",
              "      <td>n</td>\n",
              "      <td>n</td>\n",
              "      <td>n</td>\n",
              "      <td>n</td>\n",
              "      <td>y</td>\n",
              "      <td>?</td>\n",
              "      <td>?</td>\n",
              "      <td>n</td>\n",
              "      <td>?</td>\n",
              "    </tr>\n",
              "    <tr>\n",
              "      <th>14</th>\n",
              "      <td>republican</td>\n",
              "      <td>n</td>\n",
              "      <td>y</td>\n",
              "      <td>n</td>\n",
              "      <td>y</td>\n",
              "      <td>y</td>\n",
              "      <td>y</td>\n",
              "      <td>n</td>\n",
              "      <td>n</td>\n",
              "      <td>n</td>\n",
              "      <td>y</td>\n",
              "      <td>n</td>\n",
              "      <td>y</td>\n",
              "      <td>y</td>\n",
              "      <td>?</td>\n",
              "      <td>n</td>\n",
              "      <td>?</td>\n",
              "    </tr>\n",
              "    <tr>\n",
              "      <th>15</th>\n",
              "      <td>democrat</td>\n",
              "      <td>y</td>\n",
              "      <td>n</td>\n",
              "      <td>y</td>\n",
              "      <td>n</td>\n",
              "      <td>n</td>\n",
              "      <td>y</td>\n",
              "      <td>n</td>\n",
              "      <td>y</td>\n",
              "      <td>?</td>\n",
              "      <td>y</td>\n",
              "      <td>y</td>\n",
              "      <td>y</td>\n",
              "      <td>?</td>\n",
              "      <td>n</td>\n",
              "      <td>n</td>\n",
              "      <td>y</td>\n",
              "    </tr>\n",
              "    <tr>\n",
              "      <th>16</th>\n",
              "      <td>democrat</td>\n",
              "      <td>y</td>\n",
              "      <td>?</td>\n",
              "      <td>y</td>\n",
              "      <td>n</td>\n",
              "      <td>n</td>\n",
              "      <td>n</td>\n",
              "      <td>y</td>\n",
              "      <td>y</td>\n",
              "      <td>y</td>\n",
              "      <td>n</td>\n",
              "      <td>n</td>\n",
              "      <td>n</td>\n",
              "      <td>y</td>\n",
              "      <td>n</td>\n",
              "      <td>y</td>\n",
              "      <td>y</td>\n",
              "    </tr>\n",
              "    <tr>\n",
              "      <th>17</th>\n",
              "      <td>republican</td>\n",
              "      <td>n</td>\n",
              "      <td>y</td>\n",
              "      <td>n</td>\n",
              "      <td>y</td>\n",
              "      <td>y</td>\n",
              "      <td>y</td>\n",
              "      <td>n</td>\n",
              "      <td>n</td>\n",
              "      <td>n</td>\n",
              "      <td>n</td>\n",
              "      <td>n</td>\n",
              "      <td>?</td>\n",
              "      <td>y</td>\n",
              "      <td>y</td>\n",
              "      <td>n</td>\n",
              "      <td>n</td>\n",
              "    </tr>\n",
              "    <tr>\n",
              "      <th>18</th>\n",
              "      <td>democrat</td>\n",
              "      <td>y</td>\n",
              "      <td>y</td>\n",
              "      <td>y</td>\n",
              "      <td>n</td>\n",
              "      <td>n</td>\n",
              "      <td>n</td>\n",
              "      <td>y</td>\n",
              "      <td>y</td>\n",
              "      <td>y</td>\n",
              "      <td>n</td>\n",
              "      <td>y</td>\n",
              "      <td>n</td>\n",
              "      <td>n</td>\n",
              "      <td>n</td>\n",
              "      <td>y</td>\n",
              "      <td>y</td>\n",
              "    </tr>\n",
              "    <tr>\n",
              "      <th>19</th>\n",
              "      <td>democrat</td>\n",
              "      <td>y</td>\n",
              "      <td>y</td>\n",
              "      <td>y</td>\n",
              "      <td>n</td>\n",
              "      <td>n</td>\n",
              "      <td>?</td>\n",
              "      <td>y</td>\n",
              "      <td>y</td>\n",
              "      <td>n</td>\n",
              "      <td>n</td>\n",
              "      <td>y</td>\n",
              "      <td>n</td>\n",
              "      <td>n</td>\n",
              "      <td>n</td>\n",
              "      <td>y</td>\n",
              "      <td>y</td>\n",
              "    </tr>\n",
              "  </tbody>\n",
              "</table>\n",
              "</div>"
            ],
            "text/plain": [
              "         Class handy_inf water_project budget_res physician_fee el_salv  \\\n",
              "0   republican         n             y          n             y       y   \n",
              "1     democrat         ?             y          y             ?       y   \n",
              "2     democrat         n             y          y             n       ?   \n",
              "3     democrat         y             y          y             n       y   \n",
              "4     democrat         n             y          y             n       y   \n",
              "5     democrat         n             y          n             y       y   \n",
              "6   republican         n             y          n             y       y   \n",
              "7   republican         n             y          n             y       y   \n",
              "8     democrat         y             y          y             n       n   \n",
              "9   republican         n             y          n             y       y   \n",
              "10  republican         n             y          n             y       y   \n",
              "11    democrat         n             y          y             n       n   \n",
              "12    democrat         y             y          y             n       n   \n",
              "13  republican         n             y          n             y       y   \n",
              "14  republican         n             y          n             y       y   \n",
              "15    democrat         y             n          y             n       n   \n",
              "16    democrat         y             ?          y             n       n   \n",
              "17  republican         n             y          n             y       y   \n",
              "18    democrat         y             y          y             n       n   \n",
              "19    democrat         y             y          y             n       n   \n",
              "\n",
              "   religion_sch anti_sat_test nic_aid mx_missle immigration synfules  \\\n",
              "0             y             n       n         n           n        n   \n",
              "1             y             n       n         n           n        y   \n",
              "2             y             n       n         n           n        y   \n",
              "3             y             n       n         n           n        y   \n",
              "4             y             n       n         n           n        n   \n",
              "5             y             n       n         n           n        n   \n",
              "6             y             n       n         n           n        n   \n",
              "7             y             n       n         n           n        n   \n",
              "8             n             y       y         y           n        n   \n",
              "9             n             n       n         n           n        ?   \n",
              "10            y             n       n         n           n        y   \n",
              "11            n             y       y         y           n        n   \n",
              "12            y             y       y         ?           y        y   \n",
              "13            y             n       n         n           n        n   \n",
              "14            y             n       n         n           y        n   \n",
              "15            y             n       y         ?           y        y   \n",
              "16            n             y       y         y           n        n   \n",
              "17            y             n       n         n           n        n   \n",
              "18            n             y       y         y           n        y   \n",
              "19            ?             y       y         n           n        y   \n",
              "\n",
              "   education superfund crime duty-free s_africa  \n",
              "0          y         y     y         n        ?  \n",
              "1          n         y     y         n        n  \n",
              "2          n         y     n         n        y  \n",
              "3          ?         y     y         y        y  \n",
              "4          n         y     y         y        y  \n",
              "5          n         ?     y         y        y  \n",
              "6          n         y     y         ?        y  \n",
              "7          y         y     y         n        y  \n",
              "8          n         n     n         ?        ?  \n",
              "9          ?         y     y         n        n  \n",
              "10         ?         y     y         ?        ?  \n",
              "11         n         y     n         ?        ?  \n",
              "12         ?         n     n         y        ?  \n",
              "13         y         ?     ?         n        ?  \n",
              "14         y         y     ?         n        ?  \n",
              "15         y         ?     n         n        y  \n",
              "16         n         y     n         y        y  \n",
              "17         ?         y     y         n        n  \n",
              "18         n         n     n         y        y  \n",
              "19         n         n     n         y        y  "
            ]
          },
          "execution_count": 8,
          "metadata": {
            "tags": []
          },
          "output_type": "execute_result"
        }
      ],
      "source": [
        "df.head(20)\n"
      ]
    },
    {
      "cell_type": "code",
      "execution_count": null,
      "metadata": {
        "colab": {},
        "colab_type": "code",
        "id": "4WPUwmjQhnL_"
      },
      "outputs": [],
      "source": [
        "df2 = df.iloc[0:434].replace('n', 0).replace('y', 1).replace(\"?\",np.NaN)"
      ]
    },
    {
      "cell_type": "code",
      "execution_count": 10,
      "metadata": {
        "colab": {
          "base_uri": "https://localhost:8080/",
          "height": 232
        },
        "colab_type": "code",
        "id": "bYNAR7CJnjHk",
        "outputId": "94a91aa2-2c89-43e8-d0ae-e426f6379094"
      },
      "outputs": [
        {
          "data": {
            "text/html": [
              "<div>\n",
              "<style scoped>\n",
              "    .dataframe tbody tr th:only-of-type {\n",
              "        vertical-align: middle;\n",
              "    }\n",
              "\n",
              "    .dataframe tbody tr th {\n",
              "        vertical-align: top;\n",
              "    }\n",
              "\n",
              "    .dataframe thead th {\n",
              "        text-align: right;\n",
              "    }\n",
              "</style>\n",
              "<table border=\"1\" class=\"dataframe\">\n",
              "  <thead>\n",
              "    <tr style=\"text-align: right;\">\n",
              "      <th></th>\n",
              "      <th>Class</th>\n",
              "      <th>handy_inf</th>\n",
              "      <th>water_project</th>\n",
              "      <th>budget_res</th>\n",
              "      <th>physician_fee</th>\n",
              "      <th>el_salv</th>\n",
              "      <th>religion_sch</th>\n",
              "      <th>anti_sat_test</th>\n",
              "      <th>nic_aid</th>\n",
              "      <th>mx_missle</th>\n",
              "      <th>immigration</th>\n",
              "      <th>synfules</th>\n",
              "      <th>education</th>\n",
              "      <th>superfund</th>\n",
              "      <th>crime</th>\n",
              "      <th>duty-free</th>\n",
              "      <th>s_africa</th>\n",
              "    </tr>\n",
              "  </thead>\n",
              "  <tbody>\n",
              "    <tr>\n",
              "      <th>0</th>\n",
              "      <td>republican</td>\n",
              "      <td>0.0</td>\n",
              "      <td>1.0</td>\n",
              "      <td>0.0</td>\n",
              "      <td>1.0</td>\n",
              "      <td>1.0</td>\n",
              "      <td>1.0</td>\n",
              "      <td>0.0</td>\n",
              "      <td>0.0</td>\n",
              "      <td>0.0</td>\n",
              "      <td>0.0</td>\n",
              "      <td>0.0</td>\n",
              "      <td>1.0</td>\n",
              "      <td>1.0</td>\n",
              "      <td>1.0</td>\n",
              "      <td>0.0</td>\n",
              "      <td>NaN</td>\n",
              "    </tr>\n",
              "    <tr>\n",
              "      <th>1</th>\n",
              "      <td>democrat</td>\n",
              "      <td>NaN</td>\n",
              "      <td>1.0</td>\n",
              "      <td>1.0</td>\n",
              "      <td>NaN</td>\n",
              "      <td>1.0</td>\n",
              "      <td>1.0</td>\n",
              "      <td>0.0</td>\n",
              "      <td>0.0</td>\n",
              "      <td>0.0</td>\n",
              "      <td>0.0</td>\n",
              "      <td>1.0</td>\n",
              "      <td>0.0</td>\n",
              "      <td>1.0</td>\n",
              "      <td>1.0</td>\n",
              "      <td>0.0</td>\n",
              "      <td>0.0</td>\n",
              "    </tr>\n",
              "    <tr>\n",
              "      <th>2</th>\n",
              "      <td>democrat</td>\n",
              "      <td>0.0</td>\n",
              "      <td>1.0</td>\n",
              "      <td>1.0</td>\n",
              "      <td>0.0</td>\n",
              "      <td>NaN</td>\n",
              "      <td>1.0</td>\n",
              "      <td>0.0</td>\n",
              "      <td>0.0</td>\n",
              "      <td>0.0</td>\n",
              "      <td>0.0</td>\n",
              "      <td>1.0</td>\n",
              "      <td>0.0</td>\n",
              "      <td>1.0</td>\n",
              "      <td>0.0</td>\n",
              "      <td>0.0</td>\n",
              "      <td>1.0</td>\n",
              "    </tr>\n",
              "    <tr>\n",
              "      <th>3</th>\n",
              "      <td>democrat</td>\n",
              "      <td>1.0</td>\n",
              "      <td>1.0</td>\n",
              "      <td>1.0</td>\n",
              "      <td>0.0</td>\n",
              "      <td>1.0</td>\n",
              "      <td>1.0</td>\n",
              "      <td>0.0</td>\n",
              "      <td>0.0</td>\n",
              "      <td>0.0</td>\n",
              "      <td>0.0</td>\n",
              "      <td>1.0</td>\n",
              "      <td>NaN</td>\n",
              "      <td>1.0</td>\n",
              "      <td>1.0</td>\n",
              "      <td>1.0</td>\n",
              "      <td>1.0</td>\n",
              "    </tr>\n",
              "    <tr>\n",
              "      <th>4</th>\n",
              "      <td>democrat</td>\n",
              "      <td>0.0</td>\n",
              "      <td>1.0</td>\n",
              "      <td>1.0</td>\n",
              "      <td>0.0</td>\n",
              "      <td>1.0</td>\n",
              "      <td>1.0</td>\n",
              "      <td>0.0</td>\n",
              "      <td>0.0</td>\n",
              "      <td>0.0</td>\n",
              "      <td>0.0</td>\n",
              "      <td>0.0</td>\n",
              "      <td>0.0</td>\n",
              "      <td>1.0</td>\n",
              "      <td>1.0</td>\n",
              "      <td>1.0</td>\n",
              "      <td>1.0</td>\n",
              "    </tr>\n",
              "  </tbody>\n",
              "</table>\n",
              "</div>"
            ],
            "text/plain": [
              "        Class  handy_inf  water_project  budget_res  physician_fee  el_salv  \\\n",
              "0  republican        0.0            1.0         0.0            1.0      1.0   \n",
              "1    democrat        NaN            1.0         1.0            NaN      1.0   \n",
              "2    democrat        0.0            1.0         1.0            0.0      NaN   \n",
              "3    democrat        1.0            1.0         1.0            0.0      1.0   \n",
              "4    democrat        0.0            1.0         1.0            0.0      1.0   \n",
              "\n",
              "   religion_sch  anti_sat_test  nic_aid  mx_missle  immigration  synfules  \\\n",
              "0           1.0            0.0      0.0        0.0          0.0       0.0   \n",
              "1           1.0            0.0      0.0        0.0          0.0       1.0   \n",
              "2           1.0            0.0      0.0        0.0          0.0       1.0   \n",
              "3           1.0            0.0      0.0        0.0          0.0       1.0   \n",
              "4           1.0            0.0      0.0        0.0          0.0       0.0   \n",
              "\n",
              "   education  superfund  crime  duty-free  s_africa  \n",
              "0        1.0        1.0    1.0        0.0       NaN  \n",
              "1        0.0        1.0    1.0        0.0       0.0  \n",
              "2        0.0        1.0    0.0        0.0       1.0  \n",
              "3        NaN        1.0    1.0        1.0       1.0  \n",
              "4        0.0        1.0    1.0        1.0       1.0  "
            ]
          },
          "execution_count": 10,
          "metadata": {
            "tags": []
          },
          "output_type": "execute_result"
        }
      ],
      "source": [
        "df2.shape\n",
        "df2.head()\n"
      ]
    },
    {
      "cell_type": "code",
      "execution_count": null,
      "metadata": {
        "colab": {},
        "colab_type": "code",
        "id": "EWp2xZyFdEBx"
      },
      "outputs": [],
      "source": [
        "cols  = list(df2.columns.values)"
      ]
    },
    {
      "cell_type": "code",
      "execution_count": null,
      "metadata": {
        "colab": {},
        "colab_type": "code",
        "id": "cwranMjGjVgp"
      },
      "outputs": [],
      "source": [
        "democrats = df2[df2['Class'] == 'democrat']"
      ]
    },
    {
      "cell_type": "code",
      "execution_count": 13,
      "metadata": {
        "colab": {
          "base_uri": "https://localhost:8080/",
          "height": 34
        },
        "colab_type": "code",
        "id": "I_SapU6DjsLA",
        "outputId": "afde8cb6-98af-41fa-a8ba-eca89b6c7f3e"
      },
      "outputs": [
        {
          "data": {
            "text/plain": [
              "(167, 17)"
            ]
          },
          "execution_count": 13,
          "metadata": {
            "tags": []
          },
          "output_type": "execute_result"
        }
      ],
      "source": [
        "republican = df2[df2['Class'] == 'republican']\n",
        "republican.shape"
      ]
    },
    {
      "cell_type": "code",
      "execution_count": 14,
      "metadata": {
        "colab": {
          "base_uri": "https://localhost:8080/",
          "height": 321
        },
        "colab_type": "code",
        "id": "MA5Kmk-yPgaq",
        "outputId": "1f13be3f-3e94-4258-e822-a6f6bf44636a"
      },
      "outputs": [
        {
          "data": {
            "text/html": [
              "<div>\n",
              "<style scoped>\n",
              "    .dataframe tbody tr th:only-of-type {\n",
              "        vertical-align: middle;\n",
              "    }\n",
              "\n",
              "    .dataframe tbody tr th {\n",
              "        vertical-align: top;\n",
              "    }\n",
              "\n",
              "    .dataframe thead th {\n",
              "        text-align: right;\n",
              "    }\n",
              "</style>\n",
              "<table border=\"1\" class=\"dataframe\">\n",
              "  <thead>\n",
              "    <tr style=\"text-align: right;\">\n",
              "      <th></th>\n",
              "      <th>handy_inf</th>\n",
              "      <th>water_project</th>\n",
              "      <th>budget_res</th>\n",
              "      <th>physician_fee</th>\n",
              "      <th>el_salv</th>\n",
              "      <th>religion_sch</th>\n",
              "      <th>anti_sat_test</th>\n",
              "      <th>nic_aid</th>\n",
              "      <th>mx_missle</th>\n",
              "      <th>immigration</th>\n",
              "      <th>synfules</th>\n",
              "      <th>education</th>\n",
              "      <th>superfund</th>\n",
              "      <th>crime</th>\n",
              "      <th>duty-free</th>\n",
              "      <th>s_africa</th>\n",
              "    </tr>\n",
              "  </thead>\n",
              "  <tbody>\n",
              "    <tr>\n",
              "      <th>count</th>\n",
              "      <td>258.000000</td>\n",
              "      <td>239.000000</td>\n",
              "      <td>260.000000</td>\n",
              "      <td>259.000000</td>\n",
              "      <td>255.000000</td>\n",
              "      <td>258.000000</td>\n",
              "      <td>259.000000</td>\n",
              "      <td>263.000000</td>\n",
              "      <td>248.000000</td>\n",
              "      <td>263.000000</td>\n",
              "      <td>255.000000</td>\n",
              "      <td>249.000000</td>\n",
              "      <td>252.000000</td>\n",
              "      <td>257.000000</td>\n",
              "      <td>251.000000</td>\n",
              "      <td>185.000000</td>\n",
              "    </tr>\n",
              "    <tr>\n",
              "      <th>mean</th>\n",
              "      <td>0.604651</td>\n",
              "      <td>0.502092</td>\n",
              "      <td>0.888462</td>\n",
              "      <td>0.054054</td>\n",
              "      <td>0.215686</td>\n",
              "      <td>0.476744</td>\n",
              "      <td>0.772201</td>\n",
              "      <td>0.828897</td>\n",
              "      <td>0.758065</td>\n",
              "      <td>0.471483</td>\n",
              "      <td>0.505882</td>\n",
              "      <td>0.144578</td>\n",
              "      <td>0.289683</td>\n",
              "      <td>0.350195</td>\n",
              "      <td>0.637450</td>\n",
              "      <td>0.935135</td>\n",
              "    </tr>\n",
              "    <tr>\n",
              "      <th>std</th>\n",
              "      <td>0.489876</td>\n",
              "      <td>0.501045</td>\n",
              "      <td>0.315405</td>\n",
              "      <td>0.226562</td>\n",
              "      <td>0.412106</td>\n",
              "      <td>0.500430</td>\n",
              "      <td>0.420224</td>\n",
              "      <td>0.377317</td>\n",
              "      <td>0.429121</td>\n",
              "      <td>0.500138</td>\n",
              "      <td>0.500949</td>\n",
              "      <td>0.352383</td>\n",
              "      <td>0.454518</td>\n",
              "      <td>0.477962</td>\n",
              "      <td>0.481697</td>\n",
              "      <td>0.246956</td>\n",
              "    </tr>\n",
              "    <tr>\n",
              "      <th>min</th>\n",
              "      <td>0.000000</td>\n",
              "      <td>0.000000</td>\n",
              "      <td>0.000000</td>\n",
              "      <td>0.000000</td>\n",
              "      <td>0.000000</td>\n",
              "      <td>0.000000</td>\n",
              "      <td>0.000000</td>\n",
              "      <td>0.000000</td>\n",
              "      <td>0.000000</td>\n",
              "      <td>0.000000</td>\n",
              "      <td>0.000000</td>\n",
              "      <td>0.000000</td>\n",
              "      <td>0.000000</td>\n",
              "      <td>0.000000</td>\n",
              "      <td>0.000000</td>\n",
              "      <td>0.000000</td>\n",
              "    </tr>\n",
              "    <tr>\n",
              "      <th>25%</th>\n",
              "      <td>0.000000</td>\n",
              "      <td>0.000000</td>\n",
              "      <td>1.000000</td>\n",
              "      <td>0.000000</td>\n",
              "      <td>0.000000</td>\n",
              "      <td>0.000000</td>\n",
              "      <td>1.000000</td>\n",
              "      <td>1.000000</td>\n",
              "      <td>1.000000</td>\n",
              "      <td>0.000000</td>\n",
              "      <td>0.000000</td>\n",
              "      <td>0.000000</td>\n",
              "      <td>0.000000</td>\n",
              "      <td>0.000000</td>\n",
              "      <td>0.000000</td>\n",
              "      <td>1.000000</td>\n",
              "    </tr>\n",
              "    <tr>\n",
              "      <th>50%</th>\n",
              "      <td>1.000000</td>\n",
              "      <td>1.000000</td>\n",
              "      <td>1.000000</td>\n",
              "      <td>0.000000</td>\n",
              "      <td>0.000000</td>\n",
              "      <td>0.000000</td>\n",
              "      <td>1.000000</td>\n",
              "      <td>1.000000</td>\n",
              "      <td>1.000000</td>\n",
              "      <td>0.000000</td>\n",
              "      <td>1.000000</td>\n",
              "      <td>0.000000</td>\n",
              "      <td>0.000000</td>\n",
              "      <td>0.000000</td>\n",
              "      <td>1.000000</td>\n",
              "      <td>1.000000</td>\n",
              "    </tr>\n",
              "    <tr>\n",
              "      <th>75%</th>\n",
              "      <td>1.000000</td>\n",
              "      <td>1.000000</td>\n",
              "      <td>1.000000</td>\n",
              "      <td>0.000000</td>\n",
              "      <td>0.000000</td>\n",
              "      <td>1.000000</td>\n",
              "      <td>1.000000</td>\n",
              "      <td>1.000000</td>\n",
              "      <td>1.000000</td>\n",
              "      <td>1.000000</td>\n",
              "      <td>1.000000</td>\n",
              "      <td>0.000000</td>\n",
              "      <td>1.000000</td>\n",
              "      <td>1.000000</td>\n",
              "      <td>1.000000</td>\n",
              "      <td>1.000000</td>\n",
              "    </tr>\n",
              "    <tr>\n",
              "      <th>max</th>\n",
              "      <td>1.000000</td>\n",
              "      <td>1.000000</td>\n",
              "      <td>1.000000</td>\n",
              "      <td>1.000000</td>\n",
              "      <td>1.000000</td>\n",
              "      <td>1.000000</td>\n",
              "      <td>1.000000</td>\n",
              "      <td>1.000000</td>\n",
              "      <td>1.000000</td>\n",
              "      <td>1.000000</td>\n",
              "      <td>1.000000</td>\n",
              "      <td>1.000000</td>\n",
              "      <td>1.000000</td>\n",
              "      <td>1.000000</td>\n",
              "      <td>1.000000</td>\n",
              "      <td>1.000000</td>\n",
              "    </tr>\n",
              "  </tbody>\n",
              "</table>\n",
              "</div>"
            ],
            "text/plain": [
              "        handy_inf  water_project  budget_res  physician_fee     el_salv  \\\n",
              "count  258.000000     239.000000  260.000000     259.000000  255.000000   \n",
              "mean     0.604651       0.502092    0.888462       0.054054    0.215686   \n",
              "std      0.489876       0.501045    0.315405       0.226562    0.412106   \n",
              "min      0.000000       0.000000    0.000000       0.000000    0.000000   \n",
              "25%      0.000000       0.000000    1.000000       0.000000    0.000000   \n",
              "50%      1.000000       1.000000    1.000000       0.000000    0.000000   \n",
              "75%      1.000000       1.000000    1.000000       0.000000    0.000000   \n",
              "max      1.000000       1.000000    1.000000       1.000000    1.000000   \n",
              "\n",
              "       religion_sch  anti_sat_test     nic_aid   mx_missle  immigration  \\\n",
              "count    258.000000     259.000000  263.000000  248.000000   263.000000   \n",
              "mean       0.476744       0.772201    0.828897    0.758065     0.471483   \n",
              "std        0.500430       0.420224    0.377317    0.429121     0.500138   \n",
              "min        0.000000       0.000000    0.000000    0.000000     0.000000   \n",
              "25%        0.000000       1.000000    1.000000    1.000000     0.000000   \n",
              "50%        0.000000       1.000000    1.000000    1.000000     0.000000   \n",
              "75%        1.000000       1.000000    1.000000    1.000000     1.000000   \n",
              "max        1.000000       1.000000    1.000000    1.000000     1.000000   \n",
              "\n",
              "         synfules   education   superfund       crime   duty-free    s_africa  \n",
              "count  255.000000  249.000000  252.000000  257.000000  251.000000  185.000000  \n",
              "mean     0.505882    0.144578    0.289683    0.350195    0.637450    0.935135  \n",
              "std      0.500949    0.352383    0.454518    0.477962    0.481697    0.246956  \n",
              "min      0.000000    0.000000    0.000000    0.000000    0.000000    0.000000  \n",
              "25%      0.000000    0.000000    0.000000    0.000000    0.000000    1.000000  \n",
              "50%      1.000000    0.000000    0.000000    0.000000    1.000000    1.000000  \n",
              "75%      1.000000    0.000000    1.000000    1.000000    1.000000    1.000000  \n",
              "max      1.000000    1.000000    1.000000    1.000000    1.000000    1.000000  "
            ]
          },
          "execution_count": 14,
          "metadata": {
            "tags": []
          },
          "output_type": "execute_result"
        }
      ],
      "source": [
        "democrats.describe()"
      ]
    },
    {
      "cell_type": "code",
      "execution_count": 39,
      "metadata": {
        "colab": {
          "base_uri": "https://localhost:8080/",
          "height": 890
        },
        "colab_type": "code",
        "id": "hokk_Hh8diZo",
        "outputId": "e52900bd-ebe6-42c9-f4fc-b79caea9f532"
      },
      "outputs": [
        {
          "name": "stdout",
          "output_type": "stream",
          "text": [
            "handy_inf\n",
            "Ttest_1sampResult(statistic=3.431373087696574, pvalue=0.000699612317167372)\n",
            "0.000699612317167372\n",
            "water_project\n",
            "Ttest_1sampResult(statistic=0.06454972243678961, pvalue=0.9485867005339235)\n",
            "0.9485867005339235\n",
            "Due to the insignificant p-value we would FAIL TO REJECT.\n",
            "budget_res\n",
            "Ttest_1sampResult(statistic=19.859406568628835, pvalue=5.75931504660857e-54)\n",
            "5.75931504660857e-54\n",
            "physician_fee\n",
            "Ttest_1sampResult(statistic=-31.67705343439813, pvalue=6.796885728494356e-91)\n",
            "6.796885728494356e-91\n",
            "el_salv\n",
            "Ttest_1sampResult(statistic=-11.016877548066462, pvalue=2.5007537432253433e-23)\n",
            "2.5007537432253433e-23\n",
            "religion_sch\n",
            "Ttest_1sampResult(statistic=-0.7464459604122172, pvalue=0.45608033540995874)\n",
            "0.45608033540995874\n",
            "Due to the insignificant p-value we would FAIL TO REJECT.\n",
            "anti_sat_test\n",
            "Ttest_1sampResult(statistic=10.424565592705058, pvalue=1.8326900884510166e-21)\n",
            "1.8326900884510166e-21\n",
            "nic_aid\n",
            "Ttest_1sampResult(statistic=14.13618595353591, pvalue=4.190313037098042e-34)\n",
            "4.190313037098042e-34\n",
            "mx_missle\n",
            "Ttest_1sampResult(statistic=9.470521640429526, pvalue=2.3590277159598606e-18)\n",
            "2.3590277159598606e-18\n",
            "immigration\n",
            "Ttest_1sampResult(statistic=-0.9246846884388146, pvalue=0.35598081794452796)\n",
            "0.35598081794452796\n",
            "Due to the insignificant p-value we would FAIL TO REJECT.\n",
            "synfules\n",
            "Ttest_1sampResult(statistic=0.18751153526716705, pvalue=0.8514092819865365)\n",
            "0.8514092819865365\n",
            "Due to the insignificant p-value we would FAIL TO REJECT.\n",
            "education\n",
            "Ttest_1sampResult(statistic=-15.915784824279635, pvalue=8.900198902856228e-40)\n",
            "8.900198902856228e-40\n",
            "superfund\n",
            "Ttest_1sampResult(statistic=-7.345557873917365, pvalue=2.8653808528045386e-12)\n",
            "2.8653808528045386e-12\n",
            "crime\n",
            "Ttest_1sampResult(statistic=-5.024596851452603, pvalue=9.478256683740221e-07)\n",
            "9.478256683740221e-07\n",
            "duty-free\n",
            "Ttest_1sampResult(statistic=4.5207283583632725, pvalue=9.519196003952435e-06)\n",
            "9.519196003952435e-06\n",
            "s_africa\n",
            "Ttest_1sampResult(statistic=23.965755112488182, pvalue=1.7513759267849718e-58)\n",
            "1.7513759267849718e-58\n"
          ]
        }
      ],
      "source": [
        "for x in cols[1:]:\n",
        "  print(x)\n",
        "  pvalz =(scipy.stats.ttest_1samp(democrats[x], .5, nan_policy='omit'))\n",
        "  print(pvalz)\n",
        "  print(pvalz[1])\n",
        "  if float(pvalz[1]) > 0.05:\n",
        "    print(\"Due to the insignificant p-value we would FAIL TO REJECT.\")\n",
        "  "
      ]
    },
    {
      "cell_type": "code",
      "execution_count": 37,
      "metadata": {
        "colab": {
          "base_uri": "https://localhost:8080/",
          "height": 823
        },
        "colab_type": "code",
        "id": "fDkKlItEuJ2O",
        "outputId": "aed9688e-5913-4c6b-a583-f8a05db1fd6d"
      },
      "outputs": [
        {
          "name": "stdout",
          "output_type": "stream",
          "text": [
            "handy_inf\n",
            "Ttest_1sampResult(statistic=6.163804117832389, pvalue=5.375393477765494e-09)\n",
            "5.375393477765494e-09\n",
            "water_project\n",
            "Ttest_1sampResult(statistic=12.16552506059644, pvalue=5.9376882505675456e-24)\n",
            "5.9376882505675456e-24\n",
            "budget_res\n",
            "Ttest_1sampResult(statistic=5.027583489578352, pvalue=1.3042608973305829e-06)\n",
            "1.3042608973305829e-06\n",
            "physician_fee\n",
            "Ttest_1sampResult(statistic=114.90430801323333, pvalue=6.637172822355131e-158)\n",
            "6.637172822355131e-158\n",
            "el_salv\n",
            "Ttest_1sampResult(statistic=56.378187271319746, pvalue=7.906153477470814e-109)\n",
            "7.906153477470814e-109\n",
            "religion_sch\n",
            "Ttest_1sampResult(statistic=37.78577385580919, pvalue=7.590936296107066e-83)\n",
            "7.590936296107066e-83\n",
            "anti_sat_test\n",
            "Ttest_1sampResult(statistic=7.151750903352727, pvalue=2.8958659572948416e-11)\n",
            "2.8958659572948416e-11\n",
            "nic_aid\n",
            "Ttest_1sampResult(statistic=5.308655025693248, pvalue=3.7650643598302315e-07)\n",
            "3.7650643598302315e-07\n",
            "mx_missle\n",
            "Ttest_1sampResult(statistic=4.6215387794169995, pvalue=7.704678307294486e-06)\n",
            "7.704678307294486e-06\n",
            "immigration\n",
            "Ttest_1sampResult(statistic=14.25453544742577, pvalue=1.870829232879815e-30)\n",
            "1.870829232879815e-30\n",
            "synfules\n",
            "Ttest_1sampResult(statistic=4.903414959073885, pvalue=2.3188606914425685e-06)\n",
            "2.3188606914425685e-06\n",
            "education\n",
            "Ttest_1sampResult(statistic=32.01718288669383, pvalue=1.0522889209408503e-69)\n",
            "1.0522889209408503e-69\n",
            "superfund\n",
            "Ttest_1sampResult(statistic=30.939824292854794, pvalue=1.8442259829446367e-68)\n",
            "1.8442259829446367e-68\n",
            "crime\n",
            "Ttest_1sampResult(statistic=91.2195154558497, pvalue=3.222689142396686e-139)\n",
            "3.222689142396686e-139\n",
            "duty-free\n",
            "Ttest_1sampResult(statistic=3.9103427141164957, pvalue=0.0001378308753112339)\n",
            "0.0001378308753112339\n",
            "s_africa\n",
            "Ttest_1sampResult(statistic=16.540858502508268, pvalue=4.165040658384989e-35)\n",
            "4.165040658384989e-35\n"
          ]
        }
      ],
      "source": [
        "for x in cols[1:]:\n",
        "  print(x)\n",
        "  pvals =(scipy.stats.ttest_1samp(republican[x], 0, nan_policy='omit'))\n",
        "  print(pvals)\n",
        "  print(pvals[1])\n",
        "  if float(pvals[1]) > 0.05:\n",
        "    print(\"Due to the insignificant p-value we would FAIL TO REJECT..\")"
      ]
    },
    {
      "cell_type": "code",
      "execution_count": 26,
      "metadata": {
        "colab": {
          "base_uri": "https://localhost:8080/",
          "height": 4505
        },
        "colab_type": "code",
        "id": "EKAOgxTkrbGE",
        "outputId": "3250c213-4900-454c-d655-00783d9f205b"
      },
      "outputs": [
        {
          "data": {
            "image/png": "[encoded data removed]",
            "text/plain": [
              "<Figure size 432x288 with 1 Axes>"
            ]
          },
          "metadata": {
            "tags": []
          },
          "output_type": "display_data"
        },
        {
          "data": {
            "image/png": "[encoded data removed]",
            "text/plain": [
              "<Figure size 432x288 with 1 Axes>"
            ]
          },
          "metadata": {
            "tags": []
          },
          "output_type": "display_data"
        },
        {
          "data": {
            "image/png": "[encoded data removed]",
            "text/plain": [
              "<Figure size 432x288 with 1 Axes>"
            ]
          },
          "metadata": {
            "tags": []
          },
          "output_type": "display_data"
        },
        {
          "data": {
            "image/png": "[encoded data removed]",
            "text/plain": [
              "<Figure size 432x288 with 1 Axes>"
            ]
          },
          "metadata": {
            "tags": []
          },
          "output_type": "display_data"
        },
        {
          "data": {
            "image/png": "[encoded data removed]",
            "text/plain": [
              "<Figure size 432x288 with 1 Axes>"
            ]
          },
          "metadata": {
            "tags": []
          },
          "output_type": "display_data"
        },
        {
          "data": {
            "image/png": "[encoded data removed]",
            "text/plain": [
              "<Figure size 432x288 with 1 Axes>"
            ]
          },
          "metadata": {
            "tags": []
          },
          "output_type": "display_data"
        },
        {
          "data": {
            "image/png": "[encoded data removed]",
            "text/plain": [
              "<Figure size 432x288 with 1 Axes>"
            ]
          },
          "metadata": {
            "tags": []
          },
          "output_type": "display_data"
        },
        {
          "data": {
            "image/png": "[encoded data removed]",
            "text/plain": [
              "<Figure size 432x288 with 1 Axes>"
            ]
          },
          "metadata": {
            "tags": []
          },
          "output_type": "display_data"
        },
        {
          "data": {
            "image/png": "[encoded data removed]",
            "text/plain": [
              "<Figure size 432x288 with 1 Axes>"
            ]
          },
          "metadata": {
            "tags": []
          },
          "output_type": "display_data"
        },
        {
          "data": {
            "image/png": "[encoded data removed]",
            "text/plain": [
              "<Figure size 432x288 with 1 Axes>"
            ]
          },
          "metadata": {
            "tags": []
          },
          "output_type": "display_data"
        },
        {
          "data": {
            "image/png": "[encoded data removed]",
            "text/plain": [
              "<Figure size 432x288 with 1 Axes>"
            ]
          },
          "metadata": {
            "tags": []
          },
          "output_type": "display_data"
        },
        {
          "data": {
            "image/png": "[encoded data removed]",
            "text/plain": [
              "<Figure size 432x288 with 1 Axes>"
            ]
          },
          "metadata": {
            "tags": []
          },
          "output_type": "display_data"
        },
        {
          "data": {
            "image/png": "[encoded data removed]",
            "text/plain": [
              "<Figure size 432x288 with 1 Axes>"
            ]
          },
          "metadata": {
            "tags": []
          },
          "output_type": "display_data"
        },
        {
          "data": {
            "image/png": "[encoded data removed]",
            "text/plain": [
              "<Figure size 432x288 with 1 Axes>"
            ]
          },
          "metadata": {
            "tags": []
          },
          "output_type": "display_data"
        },
        {
          "data": {
            "image/png": "[encoded data removed]",
            "text/plain": [
              "<Figure size 432x288 with 1 Axes>"
            ]
          },
          "metadata": {
            "tags": []
          },
          "output_type": "display_data"
        },
        {
          "data": {
            "image/png": "[encoded data removed]",
            "text/plain": [
              "<Figure size 432x288 with 1 Axes>"
            ]
          },
          "metadata": {
            "tags": []
          },
          "output_type": "display_data"
        },
        {
          "data": {
            "image/png": "[encoded data removed]",
            "text/plain": [
              "<Figure size 432x288 with 1 Axes>"
            ]
          },
          "metadata": {
            "tags": []
          },
          "output_type": "display_data"
        }
      ],
      "source": [
        "for x in cols:\n",
        "  democrats[x].hist()\n",
        "  plt.title(x)\n",
        "  plt.show();"
      ]
    },
    {
      "cell_type": "code",
      "execution_count": 20,
      "metadata": {
        "colab": {
          "base_uri": "https://localhost:8080/",
          "height": 4505
        },
        "colab_type": "code",
        "id": "UYFqDLGhQPPH",
        "outputId": "77f20c40-1c3d-46dd-c06f-c45200c3d690"
      },
      "outputs": [
        {
          "data": {
            "image/png": "[encoded data removed]",
            "text/plain": [
              "<Figure size 432x288 with 1 Axes>"
            ]
          },
          "metadata": {
            "tags": []
          },
          "output_type": "display_data"
        },
        {
          "data": {
            "image/png": "[encoded data removed]",
            "text/plain": [
              "<Figure size 432x288 with 1 Axes>"
            ]
          },
          "metadata": {
            "tags": []
          },
          "output_type": "display_data"
        },
        {
          "data": {
            "image/png": "[encoded data removed]",
            "text/plain": [
              "<Figure size 432x288 with 1 Axes>"
            ]
          },
          "metadata": {
            "tags": []
          },
          "output_type": "display_data"
        },
        {
          "data": {
            "image/png": "[encoded data removed]",
            "text/plain": [
              "<Figure size 432x288 with 1 Axes>"
            ]
          },
          "metadata": {
            "tags": []
          },
          "output_type": "display_data"
        },
        {
          "data": {
            "image/png": "[encoded data removed]",
            "text/plain": [
              "<Figure size 432x288 with 1 Axes>"
            ]
          },
          "metadata": {
            "tags": []
          },
          "output_type": "display_data"
        },
        {
          "data": {
            "image/png": "[encoded data removed]",
            "text/plain": [
              "<Figure size 432x288 with 1 Axes>"
            ]
          },
          "metadata": {
            "tags": []
          },
          "output_type": "display_data"
        },
        {
          "data": {
            "image/png": "[encoded data removed]",
            "text/plain": [
              "<Figure size 432x288 with 1 Axes>"
            ]
          },
          "metadata": {
            "tags": []
          },
          "output_type": "display_data"
        },
        {
          "data": {
            "image/png": "[encoded data removed]",
            "text/plain": [
              "<Figure size 432x288 with 1 Axes>"
            ]
          },
          "metadata": {
            "tags": []
          },
          "output_type": "display_data"
        },
        {
          "data": {
            "image/png": "[encoded data removed]",
            "text/plain": [
              "<Figure size 432x288 with 1 Axes>"
            ]
          },
          "metadata": {
            "tags": []
          },
          "output_type": "display_data"
        },
        {
          "data": {
            "image/png": "[encoded data removed]",
            "text/plain": [
              "<Figure size 432x288 with 1 Axes>"
            ]
          },
          "metadata": {
            "tags": []
          },
          "output_type": "display_data"
        },
        {
          "data": {
            "image/png": "[encoded data removed]",
            "text/plain": [
              "<Figure size 432x288 with 1 Axes>"
            ]
          },
          "metadata": {
            "tags": []
          },
          "output_type": "display_data"
        },
        {
          "data": {
            "image/png": "[encoded data removed]",
            "text/plain": [
              "<Figure size 432x288 with 1 Axes>"
            ]
          },
          "metadata": {
            "tags": []
          },
          "output_type": "display_data"
        },
        {
          "data": {
            "image/png": "[encoded data removed]",
            "text/plain": [
              "<Figure size 432x288 with 1 Axes>"
            ]
          },
          "metadata": {
            "tags": []
          },
          "output_type": "display_data"
        },
        {
          "data": {
            "image/png": "[encoded data removed]",
            "text/plain": [
              "<Figure size 432x288 with 1 Axes>"
            ]
          },
          "metadata": {
            "tags": []
          },
          "output_type": "display_data"
        },
        {
          "data": {
            "image/png": "[encoded data removed]",
            "text/plain": [
              "<Figure size 432x288 with 1 Axes>"
            ]
          },
          "metadata": {
            "tags": []
          },
          "output_type": "display_data"
        },
        {
          "data": {
            "image/png": "[encoded data removed]",
            "text/plain": [
              "<Figure size 432x288 with 1 Axes>"
            ]
          },
          "metadata": {
            "tags": []
          },
          "output_type": "display_data"
        },
        {
          "data": {
            "image/png": "[encoded data removed]",
            "text/plain": [
              "<Figure size 432x288 with 1 Axes>"
            ]
          },
          "metadata": {
            "tags": []
          },
          "output_type": "display_data"
        }
      ],
      "source": [
        "for x in cols:\n",
        "  republican[x].hist()\n",
        "  plt.title(x)\n",
        "  plt.show();"
      ]
    },
    {
      "cell_type": "code",
      "execution_count": 21,
      "metadata": {
        "colab": {
          "base_uri": "https://localhost:8080/",
          "height": 1764
        },
        "colab_type": "code",
        "id": "AcGRoIBMqqJY",
        "outputId": "2ad44c61-644e-43df-821f-66825ca45cf9"
      },
      "outputs": [
        {
          "name": "stdout",
          "output_type": "stream",
          "text": [
            "Mean: handy_inf        0.604651\n",
            "water_project    0.502092\n",
            "budget_res       0.888462\n",
            "physician_fee    0.054054\n",
            "el_salv          0.215686\n",
            "religion_sch     0.476744\n",
            "anti_sat_test    0.772201\n",
            "nic_aid          0.828897\n",
            "mx_missle        0.758065\n",
            "immigration      0.471483\n",
            "synfules         0.505882\n",
            "education        0.144578\n",
            "superfund        0.289683\n",
            "crime            0.350195\n",
            "duty-free        0.637450\n",
            "s_africa         0.935135\n",
            "dtype: float64\n",
            "Standard Deviation: handy_inf        0.489876\n",
            "water_project    0.501045\n",
            "budget_res       0.315405\n",
            "physician_fee    0.226562\n",
            "el_salv          0.412106\n",
            "religion_sch     0.500430\n",
            "anti_sat_test    0.420224\n",
            "nic_aid          0.377317\n",
            "mx_missle        0.429121\n",
            "immigration      0.500138\n",
            "synfules         0.500949\n",
            "education        0.352383\n",
            "superfund        0.454518\n",
            "crime            0.477962\n",
            "duty-free        0.481697\n",
            "s_africa         0.246956\n",
            "dtype: float64\n",
            "Variance: handy_inf        0.239978\n",
            "water_project    0.251046\n",
            "budget_res       0.099480\n",
            "physician_fee    0.051330\n",
            "el_salv          0.169832\n",
            "religion_sch     0.250430\n",
            "anti_sat_test    0.176589\n",
            "nic_aid          0.142368\n",
            "mx_missle        0.184145\n",
            "immigration      0.250138\n",
            "synfules         0.250950\n",
            "education        0.124174\n",
            "superfund        0.206586\n",
            "crime            0.228447\n",
            "duty-free        0.232032\n",
            "s_africa         0.060987\n",
            "dtype: float64\n",
            "------------------------------\n",
            "Mean: handy_inf        0.189024\n",
            "water_project    0.503401\n",
            "budget_res       0.134969\n",
            "physician_fee    0.987805\n",
            "el_salv          0.951220\n",
            "religion_sch     0.896970\n",
            "anti_sat_test    0.242236\n",
            "nic_aid          0.153846\n",
            "mx_missle        0.115854\n",
            "immigration      0.554878\n",
            "synfules         0.132075\n",
            "education        0.870130\n",
            "superfund        0.859873\n",
            "crime            0.981250\n",
            "duty-free        0.090323\n",
            "s_africa         0.655172\n",
            "dtype: float64\n",
            "Standard Deviation: handy_inf        0.392727\n",
            "water_project    0.501698\n",
            "budget_res       0.342744\n",
            "physician_fee    0.110092\n",
            "el_salv          0.216069\n",
            "religion_sch     0.304924\n",
            "anti_sat_test    0.429773\n",
            "nic_aid          0.361963\n",
            "mx_missle        0.321030\n",
            "immigration      0.498501\n",
            "synfules         0.339643\n",
            "education        0.337257\n",
            "superfund        0.348230\n",
            "crime            0.136067\n",
            "duty-free        0.287573\n",
            "s_africa         0.476960\n",
            "dtype: float64\n",
            "Variance: handy_inf        0.154235\n",
            "water_project    0.251701\n",
            "budget_res       0.117473\n",
            "physician_fee    0.012120\n",
            "el_salv          0.046686\n",
            "religion_sch     0.092979\n",
            "anti_sat_test    0.184705\n",
            "nic_aid          0.131017\n",
            "mx_missle        0.103060\n",
            "immigration      0.248504\n",
            "synfules         0.115357\n",
            "education        0.113742\n",
            "superfund        0.121264\n",
            "crime            0.018514\n",
            "duty-free        0.082698\n",
            "s_africa         0.227490\n",
            "dtype: float64\n",
            "------------------------------\n"
          ]
        }
      ],
      "source": [
        "for sample in [democrats, republican]:\n",
        "    print(f\"Mean: {sample.mean()}\")\n",
        "    print(f\"Standard Deviation: {sample.std()}\")\n",
        "    print(f\"Variance: {sample.var()}\")\n",
        "    print(\"---\"*10)"
      ]
    },
    {
      "cell_type": "markdown",
      "metadata": {
        "colab_type": "text",
        "id": "YvTXfTf9TzXl"
      },
      "source": [
        "2 test "
      ]
    },
    {
      "cell_type": "code",
      "execution_count": 35,
      "metadata": {
        "colab": {
          "base_uri": "https://localhost:8080/",
          "height": 857
        },
        "colab_type": "code",
        "id": "K0i3g6L-pYu-",
        "outputId": "38381cf4-9636-48c6-f018-e8fb328085a5"
      },
      "outputs": [
        {
          "name": "stdout",
          "output_type": "stream",
          "text": [
            "handy_inf\n",
            "Ttest_indResult(statistic=9.15392122841775, pvalue=2.4195550274149624e-18)\n",
            "2.4195550274149624e-18\n",
            "water_project\n",
            "Ttest_indResult(statistic=-0.02491808700047811, pvalue=0.9801332440121653)\n",
            "0.9801332440121653\n",
            "Due to the insignificant p-value we would FAIL TO REJECT.\n",
            "budget_res\n",
            "Ttest_indResult(statistic=23.12119107755175, pvalue=6.013425749068062e-77)\n",
            "6.013425749068062e-77\n",
            "physician_fee\n",
            "Ttest_indResult(statistic=-49.213324889131904, pvalue=1.0401154557088818e-176)\n",
            "1.0401154557088818e-176\n",
            "el_salv\n",
            "Ttest_indResult(statistic=-21.06444879561732, pvalue=1.3035583587179729e-67)\n",
            "1.3035583587179729e-67\n",
            "religion_sch\n",
            "Ttest_indResult(statistic=-9.694471882817886, pvalue=3.415425248481181e-20)\n",
            "3.415425248481181e-20\n",
            "anti_sat_test\n",
            "Ttest_indResult(statistic=12.457095175493478, pvalue=1.6414204749130307e-30)\n",
            "1.6414204749130307e-30\n",
            "nic_aid\n",
            "Ttest_indResult(statistic=17.9719921713269, pvalue=6.835532456916702e-54)\n",
            "6.835532456916702e-54\n",
            "mx_missle\n",
            "Ttest_indResult(statistic=16.371375965888596, pvalue=1.0255175625864558e-46)\n",
            "1.0255175625864558e-46\n",
            "immigration\n",
            "Ttest_indResult(statistic=-1.677960615722372, pvalue=0.0940899398968142)\n",
            "0.0940899398968142\n",
            "Due to the insignificant p-value we would FAIL TO REJECT.\n",
            "synfules\n",
            "Ttest_indResult(statistic=8.293603989407588, pvalue=1.5759322301054064e-15)\n",
            "1.5759322301054064e-15\n",
            "education\n",
            "Ttest_indResult(statistic=-20.414298768685285, pvalue=4.967619782338976e-64)\n",
            "4.967619782338976e-64\n",
            "superfund\n",
            "Ttest_indResult(statistic=-13.448676866861932, pvalue=2.262878270897359e-34)\n",
            "2.262878270897359e-34\n",
            "crime\n",
            "Ttest_indResult(statistic=-16.288201256755894, pvalue=1.796481827173887e-46)\n",
            "1.796481827173887e-46\n",
            "duty-free\n",
            "Ttest_indResult(statistic=12.798995602145252, pvalue=1.0119714485045595e-31)\n",
            "1.0119714485045595e-31\n",
            "s_africa\n",
            "Ttest_indResult(statistic=6.893205322931943, pvalue=2.8060959129817107e-11)\n",
            "2.8060959129817107e-11\n"
          ]
        }
      ],
      "source": [
        "for x in cols[1:]:\n",
        "  print(x)\n",
        "  pvalue = (scipy.stats.ttest_ind(democrats[x], republican[x], nan_policy='omit'))\n",
        "  print(pvalue)\n",
        "  print(pvalue[1])\n",
        "  if float(pvalue[1]) > 0.01:\n",
        "    print(\"Due to the insignificant p-value we would FAIL TO REJECT.\")"
      ]
    }
  ],
  "metadata": {
    "colab": {
      "name": "LS_DS_141_Statistics_Probability_Assignment.ipynb",
      "provenance": [],
      "version": "0.3.2"
    },
    "kernelspec": {
      "display_name": "Python 3",
      "language": "python",
      "name": "python3"
    },
    "language_info": {
      "codemirror_mode": {
        "name": "ipython",
        "version": 3
      },
      "file_extension": ".py",
      "mimetype": "text/x-python",
      "name": "python",
      "nbconvert_exporter": "python",
      "pygments_lexer": "ipython3",
      "version": "3.7.3"
    }
  },
  "nbformat": 4,
  "nbformat_minor": 0
}
