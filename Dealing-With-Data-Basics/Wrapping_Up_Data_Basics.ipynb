{
  "cells": [
    {
      "cell_type": "markdown",
      "metadata": {
        "colab_type": "text",
        "id": "view-in-github"
      },
      "source": [
        "<a href=\"https://colab.research.google.com/github/chefdarek/DS-Unit-1-Sprint-1-Dealing-With-Data/blob/master/DS_Unit_1_Sprint_Challenge_1.ipynb\" target=\"_parent\"><img src=\"https://colab.research.google.com/assets/colab-badge.svg\" alt=\"Open In Colab\"/></a>"
      ]
    },
    {
      "attachments": {},
      "cell_type": "markdown",
      "metadata": {
        "colab_type": "text",
        "id": "NooAiTdnafkz"
      },
      "source": [
        "\n",
        "\n",
        "## Loading, cleaning, visualizing, and analyzing data\n",
        "look at a dataset of the survival of patients who underwent surgery for breast cancer.\n",
        "\n",
        "http://archive.ics.uci.edu/ml/datasets/Haberman%27s+Survival\n",
        "\n",
        "Data Set Information:\n",
        "The dataset contains cases from a study that was conducted between 1958 and 1970 at the University of Chicago's Billings Hospital on the survival of patients who had undergone surgery for breast cancer.\n",
        "\n",
        "Attribute Information:\n",
        "1. Age of patient at time of operation (numerical)\n",
        "2. Patient's year of operation (year - 1900, numerical)\n",
        "3. Number of positive axillary nodes detected (numerical)\n",
        "4. Survival status (class attribute)\n",
        "-- 1 = the patient survived 5 years or longer\n",
        "-- 2 = the patient died within 5 year\n",
        "\n"
      ]
    },
    {
      "cell_type": "code",
      "execution_count": 6,
      "metadata": {
        "colab": {
          "base_uri": "https://localhost:8080/",
          "height": 124
        },
        "colab_type": "code",
        "id": "KUNkvS4yLCCm",
        "outputId": "45ca5426-11bb-4e5a-e37e-2b5b71921c8f",
        "vscode": {
          "languageId": "python"
        }
      },
      "outputs": [
        {
          "name": "stdout",
          "output_type": "stream",
          "text": [
            "Requirement already satisfied: pandas==0.23.4 in /usr/local/lib/python3.6/dist-packages (0.23.4)\n",
            "Requirement already satisfied: python-dateutil>=2.5.0 in /usr/local/lib/python3.6/dist-packages (from pandas==0.23.4) (2.5.3)\n",
            "Requirement already satisfied: numpy>=1.9.0 in /usr/local/lib/python3.6/dist-packages (from pandas==0.23.4) (1.16.3)\n",
            "Requirement already satisfied: pytz>=2011k in /usr/local/lib/python3.6/dist-packages (from pandas==0.23.4) (2018.9)\n",
            "Requirement already satisfied: six>=1.5 in /usr/local/lib/python3.6/dist-packages (from python-dateutil>=2.5.0->pandas==0.23.4) (1.12.0)\n"
          ]
        }
      ],
      "source": [
        "\n",
        "!pip install pandas==0.23.4\n"
      ]
    },
    {
      "cell_type": "code",
      "execution_count": null,
      "metadata": {
        "colab": {},
        "colab_type": "code",
        "id": "i6hbLdIwT4iO",
        "vscode": {
          "languageId": "python"
        }
      },
      "outputs": [],
      "source": [
        "import pandas as pd\n",
        "import matplotlib.pyplot as plt\n",
        "import numpy as np\n",
        "import seaborn as sns\n",
        "pd.set_option('display.max_rows', 500)\n",
        "pd.set_option('display.max_columns', 500)"
      ]
    },
    {
      "cell_type": "code",
      "execution_count": null,
      "metadata": {
        "colab": {},
        "colab_type": "code",
        "id": "_xx6EBPBLHWs",
        "vscode": {
          "languageId": "python"
        }
      },
      "outputs": [],
      "source": [
        "df = pd.read_csv('http://archive.ics.uci.edu/ml/machine-learning-databases/haberman/haberman.data', header=None)"
      ]
    },
    {
      "cell_type": "code",
      "execution_count": 9,
      "metadata": {
        "colab": {
          "base_uri": "https://localhost:8080/",
          "height": 399
        },
        "colab_type": "code",
        "id": "PITyrwnMLaAT",
        "outputId": "8b93e9b1-517e-44fe-8cfd-2af9ae71e78a",
        "vscode": {
          "languageId": "python"
        }
      },
      "outputs": [
        {
          "name": "stdout",
          "output_type": "stream",
          "text": [
            "3    0\n",
            "2    0\n",
            "1    0\n",
            "0    0\n",
            "dtype: int64\n",
            "(306, 4)\n",
            "                0           1           2           3\n",
            "count  306.000000  306.000000  306.000000  306.000000\n",
            "mean    52.457516   62.852941    4.026144    1.264706\n",
            "std     10.803452    3.249405    7.189654    0.441899\n",
            "min     30.000000   58.000000    0.000000    1.000000\n",
            "25%     44.000000   60.000000    0.000000    1.000000\n",
            "50%     52.000000   63.000000    1.000000    1.000000\n",
            "75%     60.750000   65.750000    4.000000    2.000000\n",
            "max     83.000000   69.000000   52.000000    2.000000\n",
            "    0   1  2  3\n",
            "0  30  64  1  1\n",
            "1  30  62  3  1\n",
            "2  30  65  0  1\n",
            "3  31  59  2  1\n",
            "4  31  65  4  1\n",
            "Int64Index([0, 1, 2, 3], dtype='int64')\n"
          ]
        }
      ],
      "source": [
        "print(df.isna().sum().sort_values(ascending=False))\n",
        "print(df.shape)\n",
        "print(df.describe())\n",
        "print(df.head())\n",
        "print(df.keys())\n"
      ]
    },
    {
      "cell_type": "code",
      "execution_count": 10,
      "metadata": {
        "colab": {
          "base_uri": "https://localhost:8080/",
          "height": 641
        },
        "colab_type": "code",
        "id": "2KETg6hGLthD",
        "outputId": "4062d380-4f3e-4f47-f4e4-dba8c58befa7",
        "vscode": {
          "languageId": "python"
        }
      },
      "outputs": [
        {
          "name": "stdout",
          "output_type": "stream",
          "text": [
            "1. Title: Haberman's Survival Data\n",
            "\n",
            "2. Sources:\n",
            "   (a) Donor:   Tjen-Sien Lim (limt@stat.wisc.edu)\n",
            "   (b) Date:    March 4, 1999\n",
            "\n",
            "3. Past Usage:\n",
            "   1. Haberman, S. J. (1976). Generalized Residuals for Log-Linear\n",
            "      Models, Proceedings of the 9th International Biometrics\n",
            "      Conference, Boston, pp. 104-122.\n",
            "   2. Landwehr, J. M., Pregibon, D., and Shoemaker, A. C. (1984),\n",
            "      Graphical Models for Assessing Logistic Regression Models (with\n",
            "      discussion), Journal of the American Statistical Association 79:\n",
            "      61-83.\n",
            "   3. Lo, W.-D. (1993). Logistic Regression Trees, PhD thesis,\n",
            "      Department of Statistics, University of Wisconsin, Madison, WI.\n",
            "\n",
            "4. Relevant Information:\n",
            "   The dataset contains cases from a study that was conducted between\n",
            "   1958 and 1970 at the University of Chicago's Billings Hospital on\n",
            "   the survival of patients who had undergone surgery for breast\n",
            "   cancer.\n",
            "\n",
            "5. Number of Instances: 306\n",
            "\n",
            "6. Number of Attributes: 4 (including the class attribute)\n",
            "\n",
            "7. Attribute Information:\n",
            "   1. Age of patient at time of operation (numerical)\n",
            "   2. Patient's year of operation (year - 1900, numerical)\n",
            "   3. Number of positive axillary nodes detected (numerical)\n",
            "   4. Survival status (class attribute)\n",
            "         1 = the patient survived 5 years or longer\n",
            "         2 = the patient died within 5 year\n",
            "\n",
            "8. Missing Attribute Values: None\n"
          ]
        }
      ],
      "source": [
        "!curl http://archive.ics.uci.edu/ml/machine-learning-databases/haberman/haberman.names"
      ]
    },
    {
      "cell_type": "code",
      "execution_count": null,
      "metadata": {
        "colab": {},
        "colab_type": "code",
        "id": "S97bL5yDMtL_",
        "vscode": {
          "languageId": "python"
        }
      },
      "outputs": [],
      "source": [
        "df.columns = ['patient_age', 'op_yr', 'pos_aux_nodes', 'survival']"
      ]
    },
    {
      "cell_type": "code",
      "execution_count": null,
      "metadata": {
        "colab": {},
        "colab_type": "code",
        "id": "FZ5MY9o0NMg0",
        "vscode": {
          "languageId": "python"
        }
      },
      "outputs": [],
      "source": [
        "status = {1: 1, 2: 0}\n",
        "df['survival'] = df['survival'].map(status)"
      ]
    },
    {
      "cell_type": "code",
      "execution_count": 13,
      "metadata": {
        "colab": {
          "base_uri": "https://localhost:8080/",
          "height": 69
        },
        "colab_type": "code",
        "id": "qzY1-wjRN0DK",
        "outputId": "7b520a1a-91ce-4855-9e75-05ce74d00be6",
        "vscode": {
          "languageId": "python"
        }
      },
      "outputs": [
        {
          "data": {
            "text/plain": [
              "1    225\n",
              "0     81\n",
              "Name: survival, dtype: int64"
            ]
          },
          "execution_count": 13,
          "metadata": {
            "tags": []
          },
          "output_type": "execute_result"
        }
      ],
      "source": [
        "df['survival'].value_counts()"
      ]
    },
    {
      "cell_type": "code",
      "execution_count": 14,
      "metadata": {
        "colab": {
          "base_uri": "https://localhost:8080/",
          "height": 202
        },
        "colab_type": "code",
        "id": "rolqfi6tN7OD",
        "outputId": "7ee091a1-0373-4054-c049-ffe436c47fe0",
        "vscode": {
          "languageId": "python"
        }
      },
      "outputs": [
        {
          "data": {
            "text/html": [
              "<div>\n",
              "<style scoped>\n",
              "    .dataframe tbody tr th:only-of-type {\n",
              "        vertical-align: middle;\n",
              "    }\n",
              "\n",
              "    .dataframe tbody tr th {\n",
              "        vertical-align: top;\n",
              "    }\n",
              "\n",
              "    .dataframe thead th {\n",
              "        text-align: right;\n",
              "    }\n",
              "</style>\n",
              "<table border=\"1\" class=\"dataframe\">\n",
              "  <thead>\n",
              "    <tr style=\"text-align: right;\">\n",
              "      <th></th>\n",
              "      <th>patient_age</th>\n",
              "      <th>op_yr</th>\n",
              "      <th>pos_aux_nodes</th>\n",
              "      <th>survival</th>\n",
              "    </tr>\n",
              "  </thead>\n",
              "  <tbody>\n",
              "    <tr>\n",
              "      <th>0</th>\n",
              "      <td>30</td>\n",
              "      <td>64</td>\n",
              "      <td>1</td>\n",
              "      <td>1</td>\n",
              "    </tr>\n",
              "    <tr>\n",
              "      <th>1</th>\n",
              "      <td>30</td>\n",
              "      <td>62</td>\n",
              "      <td>3</td>\n",
              "      <td>1</td>\n",
              "    </tr>\n",
              "    <tr>\n",
              "      <th>2</th>\n",
              "      <td>30</td>\n",
              "      <td>65</td>\n",
              "      <td>0</td>\n",
              "      <td>1</td>\n",
              "    </tr>\n",
              "    <tr>\n",
              "      <th>3</th>\n",
              "      <td>31</td>\n",
              "      <td>59</td>\n",
              "      <td>2</td>\n",
              "      <td>1</td>\n",
              "    </tr>\n",
              "    <tr>\n",
              "      <th>4</th>\n",
              "      <td>31</td>\n",
              "      <td>65</td>\n",
              "      <td>4</td>\n",
              "      <td>1</td>\n",
              "    </tr>\n",
              "  </tbody>\n",
              "</table>\n",
              "</div>"
            ],
            "text/plain": [
              "   patient_age  op_yr  pos_aux_nodes  survival\n",
              "0           30     64              1         1\n",
              "1           30     62              3         1\n",
              "2           30     65              0         1\n",
              "3           31     59              2         1\n",
              "4           31     65              4         1"
            ]
          },
          "execution_count": 14,
          "metadata": {
            "tags": []
          },
          "output_type": "execute_result"
        }
      ],
      "source": [
        "df.head()"
      ]
    },
    {
      "attachments": {},
      "cell_type": "markdown",
      "metadata": {
        "colab_type": "text",
        "id": "G7rLytbrO38L"
      },
      "source": [
        " Examine the distribution and relationships of the features"
      ]
    },
    {
      "cell_type": "code",
      "execution_count": null,
      "metadata": {
        "colab": {},
        "colab_type": "code",
        "id": "-sLD758VP3qu",
        "vscode": {
          "languageId": "python"
        }
      },
      "outputs": [],
      "source": [
        "df['op_yr'].value_counts()"
      ]
    },
    {
      "cell_type": "code",
      "execution_count": null,
      "metadata": {
        "colab": {},
        "colab_type": "code",
        "id": "mvdezVN4P-ld",
        "vscode": {
          "languageId": "python"
        }
      },
      "outputs": [],
      "source": [
        "df['pos_aux_nodes'].value_counts()"
      ]
    },
    {
      "cell_type": "code",
      "execution_count": null,
      "metadata": {
        "colab": {},
        "colab_type": "code",
        "id": "LzlC6EqPTZEq",
        "vscode": {
          "languageId": "python"
        }
      },
      "outputs": [],
      "source": [
        "df['patient_age'].dtype"
      ]
    },
    {
      "cell_type": "code",
      "execution_count": null,
      "metadata": {
        "colab": {},
        "colab_type": "code",
        "id": "KkOvYAgBQKHr",
        "vscode": {
          "languageId": "python"
        }
      },
      "outputs": [],
      "source": [
        "age_bin = pd.cut(df['patient_age'], 5)\n",
        "df['age_bin']= age_bin\n",
        "node_bin = pd.cut(df['pos_aux_nodes'], 5)\n",
        "op_bin = pd.cut(df['op_yr'], 5)"
      ]
    },
    {
      "cell_type": "code",
      "execution_count": null,
      "metadata": {
        "colab": {},
        "colab_type": "code",
        "id": "oSlWPQRlNB96",
        "vscode": {
          "languageId": "python"
        }
      },
      "outputs": [],
      "source": [
        "pd.crosstab(df['op_yr'],age_bin)\n",
        "pd.crosstab(df['op_yr'],age_bin, normalize='columns')"
      ]
    },
    {
      "cell_type": "code",
      "execution_count": 60,
      "metadata": {
        "colab": {
          "base_uri": "https://localhost:8080/",
          "height": 209
        },
        "colab_type": "code",
        "id": "u9gH2br8Pddy",
        "outputId": "0fe829d2-9c0d-4070-bbed-6cfca201238a",
        "vscode": {
          "languageId": "python"
        }
      },
      "outputs": [
        {
          "data": {
            "text/html": [
              "<div>\n",
              "<style scoped>\n",
              "    .dataframe tbody tr th:only-of-type {\n",
              "        vertical-align: middle;\n",
              "    }\n",
              "\n",
              "    .dataframe tbody tr th {\n",
              "        vertical-align: top;\n",
              "    }\n",
              "\n",
              "    .dataframe thead tr th {\n",
              "        text-align: left;\n",
              "    }\n",
              "\n",
              "    .dataframe thead tr:last-of-type th {\n",
              "        text-align: right;\n",
              "    }\n",
              "</style>\n",
              "<table border=\"1\" class=\"dataframe\">\n",
              "  <thead>\n",
              "    <tr>\n",
              "      <th>pos_aux_nodes</th>\n",
              "      <th colspan=\"5\" halign=\"left\">0</th>\n",
              "      <th colspan=\"5\" halign=\"left\">1</th>\n",
              "      <th colspan=\"5\" halign=\"left\">2</th>\n",
              "      <th colspan=\"5\" halign=\"left\">3</th>\n",
              "      <th colspan=\"4\" halign=\"left\">4</th>\n",
              "      <th colspan=\"3\" halign=\"left\">5</th>\n",
              "      <th colspan=\"4\" halign=\"left\">6</th>\n",
              "      <th colspan=\"3\" halign=\"left\">7</th>\n",
              "      <th colspan=\"3\" halign=\"left\">8</th>\n",
              "      <th colspan=\"4\" halign=\"left\">9</th>\n",
              "      <th colspan=\"2\" halign=\"left\">10</th>\n",
              "      <th colspan=\"3\" halign=\"left\">11</th>\n",
              "      <th colspan=\"2\" halign=\"left\">12</th>\n",
              "      <th colspan=\"3\" halign=\"left\">13</th>\n",
              "      <th colspan=\"3\" halign=\"left\">14</th>\n",
              "      <th colspan=\"3\" halign=\"left\">15</th>\n",
              "      <th>16</th>\n",
              "      <th>17</th>\n",
              "      <th>18</th>\n",
              "      <th colspan=\"3\" halign=\"left\">19</th>\n",
              "      <th>20</th>\n",
              "      <th>21</th>\n",
              "      <th colspan=\"2\" halign=\"left\">22</th>\n",
              "      <th colspan=\"2\" halign=\"left\">23</th>\n",
              "      <th>24</th>\n",
              "      <th>25</th>\n",
              "      <th>28</th>\n",
              "      <th>30</th>\n",
              "      <th>35</th>\n",
              "      <th>46</th>\n",
              "      <th>52</th>\n",
              "    </tr>\n",
              "    <tr>\n",
              "      <th>patient_age</th>\n",
              "      <th>(29.947, 40.6]</th>\n",
              "      <th>(40.6, 51.2]</th>\n",
              "      <th>(51.2, 61.8]</th>\n",
              "      <th>(61.8, 72.4]</th>\n",
              "      <th>(72.4, 83.0]</th>\n",
              "      <th>(29.947, 40.6]</th>\n",
              "      <th>(40.6, 51.2]</th>\n",
              "      <th>(51.2, 61.8]</th>\n",
              "      <th>(61.8, 72.4]</th>\n",
              "      <th>(72.4, 83.0]</th>\n",
              "      <th>(29.947, 40.6]</th>\n",
              "      <th>(40.6, 51.2]</th>\n",
              "      <th>(51.2, 61.8]</th>\n",
              "      <th>(61.8, 72.4]</th>\n",
              "      <th>(72.4, 83.0]</th>\n",
              "      <th>(29.947, 40.6]</th>\n",
              "      <th>(40.6, 51.2]</th>\n",
              "      <th>(51.2, 61.8]</th>\n",
              "      <th>(61.8, 72.4]</th>\n",
              "      <th>(72.4, 83.0]</th>\n",
              "      <th>(29.947, 40.6]</th>\n",
              "      <th>(40.6, 51.2]</th>\n",
              "      <th>(51.2, 61.8]</th>\n",
              "      <th>(61.8, 72.4]</th>\n",
              "      <th>(29.947, 40.6]</th>\n",
              "      <th>(40.6, 51.2]</th>\n",
              "      <th>(51.2, 61.8]</th>\n",
              "      <th>(29.947, 40.6]</th>\n",
              "      <th>(40.6, 51.2]</th>\n",
              "      <th>(51.2, 61.8]</th>\n",
              "      <th>(61.8, 72.4]</th>\n",
              "      <th>(29.947, 40.6]</th>\n",
              "      <th>(40.6, 51.2]</th>\n",
              "      <th>(51.2, 61.8]</th>\n",
              "      <th>(40.6, 51.2]</th>\n",
              "      <th>(51.2, 61.8]</th>\n",
              "      <th>(61.8, 72.4]</th>\n",
              "      <th>(29.947, 40.6]</th>\n",
              "      <th>(40.6, 51.2]</th>\n",
              "      <th>(51.2, 61.8]</th>\n",
              "      <th>(61.8, 72.4]</th>\n",
              "      <th>(29.947, 40.6]</th>\n",
              "      <th>(40.6, 51.2]</th>\n",
              "      <th>(29.947, 40.6]</th>\n",
              "      <th>(40.6, 51.2]</th>\n",
              "      <th>(51.2, 61.8]</th>\n",
              "      <th>(40.6, 51.2]</th>\n",
              "      <th>(51.2, 61.8]</th>\n",
              "      <th>(29.947, 40.6]</th>\n",
              "      <th>(40.6, 51.2]</th>\n",
              "      <th>(61.8, 72.4]</th>\n",
              "      <th>(40.6, 51.2]</th>\n",
              "      <th>(51.2, 61.8]</th>\n",
              "      <th>(61.8, 72.4]</th>\n",
              "      <th>(29.947, 40.6]</th>\n",
              "      <th>(51.2, 61.8]</th>\n",
              "      <th>(61.8, 72.4]</th>\n",
              "      <th>(40.6, 51.2]</th>\n",
              "      <th>(51.2, 61.8]</th>\n",
              "      <th>(51.2, 61.8]</th>\n",
              "      <th>(40.6, 51.2]</th>\n",
              "      <th>(51.2, 61.8]</th>\n",
              "      <th>(61.8, 72.4]</th>\n",
              "      <th>(40.6, 51.2]</th>\n",
              "      <th>(29.947, 40.6]</th>\n",
              "      <th>(51.2, 61.8]</th>\n",
              "      <th>(61.8, 72.4]</th>\n",
              "      <th>(40.6, 51.2]</th>\n",
              "      <th>(51.2, 61.8]</th>\n",
              "      <th>(51.2, 61.8]</th>\n",
              "      <th>(51.2, 61.8]</th>\n",
              "      <th>(61.8, 72.4]</th>\n",
              "      <th>(29.947, 40.6]</th>\n",
              "      <th>(51.2, 61.8]</th>\n",
              "      <th>(51.2, 61.8]</th>\n",
              "      <th>(40.6, 51.2]</th>\n",
              "    </tr>\n",
              "    <tr>\n",
              "      <th>survival</th>\n",
              "      <th></th>\n",
              "      <th></th>\n",
              "      <th></th>\n",
              "      <th></th>\n",
              "      <th></th>\n",
              "      <th></th>\n",
              "      <th></th>\n",
              "      <th></th>\n",
              "      <th></th>\n",
              "      <th></th>\n",
              "      <th></th>\n",
              "      <th></th>\n",
              "      <th></th>\n",
              "      <th></th>\n",
              "      <th></th>\n",
              "      <th></th>\n",
              "      <th></th>\n",
              "      <th></th>\n",
              "      <th></th>\n",
              "      <th></th>\n",
              "      <th></th>\n",
              "      <th></th>\n",
              "      <th></th>\n",
              "      <th></th>\n",
              "      <th></th>\n",
              "      <th></th>\n",
              "      <th></th>\n",
              "      <th></th>\n",
              "      <th></th>\n",
              "      <th></th>\n",
              "      <th></th>\n",
              "      <th></th>\n",
              "      <th></th>\n",
              "      <th></th>\n",
              "      <th></th>\n",
              "      <th></th>\n",
              "      <th></th>\n",
              "      <th></th>\n",
              "      <th></th>\n",
              "      <th></th>\n",
              "      <th></th>\n",
              "      <th></th>\n",
              "      <th></th>\n",
              "      <th></th>\n",
              "      <th></th>\n",
              "      <th></th>\n",
              "      <th></th>\n",
              "      <th></th>\n",
              "      <th></th>\n",
              "      <th></th>\n",
              "      <th></th>\n",
              "      <th></th>\n",
              "      <th></th>\n",
              "      <th></th>\n",
              "      <th></th>\n",
              "      <th></th>\n",
              "      <th></th>\n",
              "      <th></th>\n",
              "      <th></th>\n",
              "      <th></th>\n",
              "      <th></th>\n",
              "      <th></th>\n",
              "      <th></th>\n",
              "      <th></th>\n",
              "      <th></th>\n",
              "      <th></th>\n",
              "      <th></th>\n",
              "      <th></th>\n",
              "      <th></th>\n",
              "      <th></th>\n",
              "      <th></th>\n",
              "      <th></th>\n",
              "      <th></th>\n",
              "      <th></th>\n",
              "      <th></th>\n",
              "      <th></th>\n",
              "    </tr>\n",
              "  </thead>\n",
              "  <tbody>\n",
              "    <tr>\n",
              "      <th>0</th>\n",
              "      <td>2</td>\n",
              "      <td>10</td>\n",
              "      <td>2</td>\n",
              "      <td>5</td>\n",
              "      <td>0</td>\n",
              "      <td>0</td>\n",
              "      <td>2</td>\n",
              "      <td>3</td>\n",
              "      <td>2</td>\n",
              "      <td>1</td>\n",
              "      <td>0</td>\n",
              "      <td>2</td>\n",
              "      <td>1</td>\n",
              "      <td>1</td>\n",
              "      <td>1</td>\n",
              "      <td>0</td>\n",
              "      <td>2</td>\n",
              "      <td>4</td>\n",
              "      <td>0</td>\n",
              "      <td>1</td>\n",
              "      <td>0</td>\n",
              "      <td>0</td>\n",
              "      <td>2</td>\n",
              "      <td>1</td>\n",
              "      <td>0</td>\n",
              "      <td>1</td>\n",
              "      <td>3</td>\n",
              "      <td>0</td>\n",
              "      <td>2</td>\n",
              "      <td>1</td>\n",
              "      <td>0</td>\n",
              "      <td>0</td>\n",
              "      <td>1</td>\n",
              "      <td>1</td>\n",
              "      <td>0</td>\n",
              "      <td>0</td>\n",
              "      <td>2</td>\n",
              "      <td>1</td>\n",
              "      <td>1</td>\n",
              "      <td>2</td>\n",
              "      <td>0</td>\n",
              "      <td>0</td>\n",
              "      <td>1</td>\n",
              "      <td>0</td>\n",
              "      <td>2</td>\n",
              "      <td>1</td>\n",
              "      <td>0</td>\n",
              "      <td>1</td>\n",
              "      <td>0</td>\n",
              "      <td>2</td>\n",
              "      <td>2</td>\n",
              "      <td>0</td>\n",
              "      <td>1</td>\n",
              "      <td>0</td>\n",
              "      <td>0</td>\n",
              "      <td>1</td>\n",
              "      <td>1</td>\n",
              "      <td>0</td>\n",
              "      <td>1</td>\n",
              "      <td>0</td>\n",
              "      <td>1</td>\n",
              "      <td>0</td>\n",
              "      <td>1</td>\n",
              "      <td>1</td>\n",
              "      <td>1</td>\n",
              "      <td>0</td>\n",
              "      <td>1</td>\n",
              "      <td>2</td>\n",
              "      <td>1</td>\n",
              "      <td>1</td>\n",
              "      <td>0</td>\n",
              "      <td>0</td>\n",
              "      <td>0</td>\n",
              "      <td>1</td>\n",
              "      <td>0</td>\n",
              "      <td>1</td>\n",
              "    </tr>\n",
              "    <tr>\n",
              "      <th>1</th>\n",
              "      <td>17</td>\n",
              "      <td>30</td>\n",
              "      <td>34</td>\n",
              "      <td>32</td>\n",
              "      <td>4</td>\n",
              "      <td>5</td>\n",
              "      <td>13</td>\n",
              "      <td>12</td>\n",
              "      <td>2</td>\n",
              "      <td>1</td>\n",
              "      <td>4</td>\n",
              "      <td>5</td>\n",
              "      <td>4</td>\n",
              "      <td>2</td>\n",
              "      <td>0</td>\n",
              "      <td>2</td>\n",
              "      <td>4</td>\n",
              "      <td>5</td>\n",
              "      <td>1</td>\n",
              "      <td>1</td>\n",
              "      <td>2</td>\n",
              "      <td>5</td>\n",
              "      <td>3</td>\n",
              "      <td>0</td>\n",
              "      <td>1</td>\n",
              "      <td>0</td>\n",
              "      <td>1</td>\n",
              "      <td>1</td>\n",
              "      <td>2</td>\n",
              "      <td>0</td>\n",
              "      <td>1</td>\n",
              "      <td>1</td>\n",
              "      <td>1</td>\n",
              "      <td>3</td>\n",
              "      <td>3</td>\n",
              "      <td>1</td>\n",
              "      <td>1</td>\n",
              "      <td>0</td>\n",
              "      <td>0</td>\n",
              "      <td>1</td>\n",
              "      <td>1</td>\n",
              "      <td>2</td>\n",
              "      <td>0</td>\n",
              "      <td>1</td>\n",
              "      <td>0</td>\n",
              "      <td>0</td>\n",
              "      <td>1</td>\n",
              "      <td>0</td>\n",
              "      <td>1</td>\n",
              "      <td>0</td>\n",
              "      <td>0</td>\n",
              "      <td>2</td>\n",
              "      <td>0</td>\n",
              "      <td>1</td>\n",
              "      <td>1</td>\n",
              "      <td>0</td>\n",
              "      <td>0</td>\n",
              "      <td>1</td>\n",
              "      <td>0</td>\n",
              "      <td>1</td>\n",
              "      <td>0</td>\n",
              "      <td>1</td>\n",
              "      <td>0</td>\n",
              "      <td>1</td>\n",
              "      <td>0</td>\n",
              "      <td>1</td>\n",
              "      <td>1</td>\n",
              "      <td>0</td>\n",
              "      <td>0</td>\n",
              "      <td>0</td>\n",
              "      <td>1</td>\n",
              "      <td>1</td>\n",
              "      <td>1</td>\n",
              "      <td>0</td>\n",
              "      <td>1</td>\n",
              "      <td>0</td>\n",
              "    </tr>\n",
              "  </tbody>\n",
              "</table>\n",
              "</div>"
            ],
            "text/plain": [
              "pos_aux_nodes             0                                          \\\n",
              "patient_age   (29.947, 40.6] (40.6, 51.2] (51.2, 61.8] (61.8, 72.4]   \n",
              "survival                                                              \n",
              "0                          2           10            2            5   \n",
              "1                         17           30           34           32   \n",
              "\n",
              "pos_aux_nodes                          1                             \\\n",
              "patient_age   (72.4, 83.0] (29.947, 40.6] (40.6, 51.2] (51.2, 61.8]   \n",
              "survival                                                              \n",
              "0                        0              0            2            3   \n",
              "1                        4              5           13           12   \n",
              "\n",
              "pos_aux_nodes                                       2                \\\n",
              "patient_age   (61.8, 72.4] (72.4, 83.0] (29.947, 40.6] (40.6, 51.2]   \n",
              "survival                                                              \n",
              "0                        2            1              0            2   \n",
              "1                        2            1              4            5   \n",
              "\n",
              "pos_aux_nodes                                                    3   \\\n",
              "patient_age   (51.2, 61.8] (61.8, 72.4] (72.4, 83.0] (29.947, 40.6]   \n",
              "survival                                                              \n",
              "0                        1            1            1              0   \n",
              "1                        4            2            0              2   \n",
              "\n",
              "pos_aux_nodes                                                      \\\n",
              "patient_age   (40.6, 51.2] (51.2, 61.8] (61.8, 72.4] (72.4, 83.0]   \n",
              "survival                                                            \n",
              "0                        2            4            0            1   \n",
              "1                        4            5            1            1   \n",
              "\n",
              "pos_aux_nodes             4                                          \\\n",
              "patient_age   (29.947, 40.6] (40.6, 51.2] (51.2, 61.8] (61.8, 72.4]   \n",
              "survival                                                              \n",
              "0                          0            0            2            1   \n",
              "1                          2            5            3            0   \n",
              "\n",
              "pos_aux_nodes             5                                        6   \\\n",
              "patient_age   (29.947, 40.6] (40.6, 51.2] (51.2, 61.8] (29.947, 40.6]   \n",
              "survival                                                                \n",
              "0                          0            1            3              0   \n",
              "1                          1            0            1              1   \n",
              "\n",
              "pos_aux_nodes                                                    7   \\\n",
              "patient_age   (40.6, 51.2] (51.2, 61.8] (61.8, 72.4] (29.947, 40.6]   \n",
              "survival                                                              \n",
              "0                        2            1            0              0   \n",
              "1                        2            0            1              1   \n",
              "\n",
              "pos_aux_nodes                                     8                \\\n",
              "patient_age   (40.6, 51.2] (51.2, 61.8] (40.6, 51.2] (51.2, 61.8]   \n",
              "survival                                                            \n",
              "0                        1            1            0            0   \n",
              "1                        1            3            3            1   \n",
              "\n",
              "pos_aux_nodes                          9                             \\\n",
              "patient_age   (61.8, 72.4] (29.947, 40.6] (40.6, 51.2] (51.2, 61.8]   \n",
              "survival                                                              \n",
              "0                        2              1            1            2   \n",
              "1                        1              0            0            1   \n",
              "\n",
              "pos_aux_nodes                          10                          11  \\\n",
              "patient_age   (61.8, 72.4] (29.947, 40.6] (40.6, 51.2] (29.947, 40.6]   \n",
              "survival                                                                \n",
              "0                        0              0            1              0   \n",
              "1                        1              2            0              1   \n",
              "\n",
              "pos_aux_nodes                                     12               \\\n",
              "patient_age   (40.6, 51.2] (51.2, 61.8] (40.6, 51.2] (51.2, 61.8]   \n",
              "survival                                                            \n",
              "0                        2            1            0            1   \n",
              "1                        0            0            1            0   \n",
              "\n",
              "pos_aux_nodes             13                                     14  \\\n",
              "patient_age   (29.947, 40.6] (40.6, 51.2] (61.8, 72.4] (40.6, 51.2]   \n",
              "survival                                                              \n",
              "0                          0            2            2            0   \n",
              "1                          1            0            0            2   \n",
              "\n",
              "pos_aux_nodes                                       15               \\\n",
              "patient_age   (51.2, 61.8] (61.8, 72.4] (29.947, 40.6] (51.2, 61.8]   \n",
              "survival                                                              \n",
              "0                        1            0              0            1   \n",
              "1                        0            1              1            0   \n",
              "\n",
              "pos_aux_nodes                        16           17           18  \\\n",
              "patient_age   (61.8, 72.4] (40.6, 51.2] (51.2, 61.8] (51.2, 61.8]   \n",
              "survival                                                            \n",
              "0                        1            0            1            0   \n",
              "1                        0            1            0            1   \n",
              "\n",
              "pos_aux_nodes           19                                     20  \\\n",
              "patient_age   (40.6, 51.2] (51.2, 61.8] (61.8, 72.4] (40.6, 51.2]   \n",
              "survival                                                            \n",
              "0                        1            0            1            1   \n",
              "1                        0            1            0            1   \n",
              "\n",
              "pos_aux_nodes             21           22                        23  \\\n",
              "patient_age   (29.947, 40.6] (51.2, 61.8] (61.8, 72.4] (40.6, 51.2]   \n",
              "survival                                                              \n",
              "0                          1            0            1            2   \n",
              "1                          0            1            1            0   \n",
              "\n",
              "pos_aux_nodes                        24           25           28  \\\n",
              "patient_age   (51.2, 61.8] (51.2, 61.8] (51.2, 61.8] (61.8, 72.4]   \n",
              "survival                                                            \n",
              "0                        1            1            0            0   \n",
              "1                        0            0            1            1   \n",
              "\n",
              "pos_aux_nodes             30           35           46           52  \n",
              "patient_age   (29.947, 40.6] (51.2, 61.8] (51.2, 61.8] (40.6, 51.2]  \n",
              "survival                                                             \n",
              "0                          0            1            0            1  \n",
              "1                          1            0            1            0  "
            ]
          },
          "execution_count": 60,
          "metadata": {
            "tags": []
          },
          "output_type": "execute_result"
        }
      ],
      "source": [
        "pd.crosstab(df['survival'],[df['pos_aux_nodes'], age_bin])"
      ]
    },
    {
      "cell_type": "code",
      "execution_count": 25,
      "metadata": {
        "colab": {
          "base_uri": "https://localhost:8080/",
          "height": 729
        },
        "colab_type": "code",
        "id": "P8py9L0zRA5H",
        "outputId": "d614e7e4-1af5-43c3-d191-d5fe4eaed1b8",
        "vscode": {
          "languageId": "python"
        }
      },
      "outputs": [
        {
          "data": {
            "image/png": "[encoded data removed]",
            "text/plain": [
              "<Figure size 720x720 with 20 Axes>"
            ]
          },
          "metadata": {
            "tags": []
          },
          "output_type": "display_data"
        }
      ],
      "source": [
        "sns.pairplot(df);"
      ]
    },
    {
      "cell_type": "code",
      "execution_count": 41,
      "metadata": {
        "colab": {
          "base_uri": "https://localhost:8080/",
          "height": 281
        },
        "colab_type": "code",
        "id": "QVzEugqJRgH1",
        "outputId": "61e7c157-890a-4f1b-ff8e-733e01464508",
        "vscode": {
          "languageId": "python"
        }
      },
      "outputs": [
        {
          "data": {
            "image/png": "[encoded data removed]",
            "text/plain": [
              "<Figure size 432x288 with 4 Axes>"
            ]
          },
          "metadata": {
            "tags": []
          },
          "output_type": "display_data"
        }
      ],
      "source": [
        "df.hist();"
      ]
    },
    {
      "cell_type": "code",
      "execution_count": 53,
      "metadata": {
        "colab": {
          "base_uri": "https://localhost:8080/",
          "height": 269
        },
        "colab_type": "code",
        "id": "LdBjIBePXue-",
        "outputId": "8d15c18f-8fea-42ad-83e1-9c29b88709e2",
        "vscode": {
          "languageId": "python"
        }
      },
      "outputs": [
        {
          "data": {
            "image/png": "[encoded data removed]",
            "text/plain": [
              "<Figure size 432x288 with 1 Axes>"
            ]
          },
          "metadata": {
            "tags": []
          },
          "output_type": "display_data"
        }
      ],
      "source": [
        "plt.bar(df['survival'], df['patient_age']);"
      ]
    },
    {
      "cell_type": "code",
      "execution_count": null,
      "metadata": {
        "colab": {},
        "colab_type": "code",
        "id": "gU_xxClaOlJ2",
        "vscode": {
          "languageId": "python"
        }
      },
      "outputs": [],
      "source": [
        "from scipy.stats import norm"
      ]
    },
    {
      "cell_type": "code",
      "execution_count": 28,
      "metadata": {
        "colab": {
          "base_uri": "https://localhost:8080/",
          "height": 285
        },
        "colab_type": "code",
        "id": "K_dsN1k1VEiM",
        "outputId": "5dd22d60-f753-4e43-a4cf-b25896d9b78f",
        "vscode": {
          "languageId": "python"
        }
      },
      "outputs": [
        {
          "data": {
            "image/png": "[encoded data removed]",
            "text/plain": [
              "<Figure size 432x288 with 1 Axes>"
            ]
          },
          "metadata": {
            "tags": []
          },
          "output_type": "display_data"
        }
      ],
      "source": [
        "sns.set_color_codes()\n",
        "ax = sns.distplot(df['patient_age'], color=\"red\",fit=norm, kde=False);"
      ]
    },
    {
      "cell_type": "code",
      "execution_count": 29,
      "metadata": {
        "colab": {
          "base_uri": "https://localhost:8080/",
          "height": 285
        },
        "colab_type": "code",
        "id": "IAkllgCIFVj0",
        "outputId": "7957d17a-624f-4ee9-ceb1-d9fc1c95916a",
        "vscode": {
          "languageId": "python"
        }
      },
      "outputs": [
        {
          "data": {
            "image/png": "[encoded data removed]",
            "text/plain": [
              "<Figure size 432x288 with 1 Axes>"
            ]
          },
          "metadata": {
            "tags": []
          },
          "output_type": "display_data"
        }
      ],
      "source": [
        "sns.set_color_codes()\n",
        "ax = sns.distplot(df['pos_aux_nodes'], color=\"red\",fit=norm, kde=False);"
      ]
    },
    {
      "cell_type": "code",
      "execution_count": 68,
      "metadata": {
        "colab": {
          "base_uri": "https://localhost:8080/",
          "height": 345
        },
        "colab_type": "code",
        "id": "LrYfMkNidCZH",
        "outputId": "1f01a885-561a-48cf-b8c4-d0ede322f727",
        "vscode": {
          "languageId": "python"
        }
      },
      "outputs": [
        {
          "data": {
            "image/png": "[encoded data removed]",
            "text/plain": [
              "<Figure size 432x288 with 1 Axes>"
            ]
          },
          "metadata": {
            "tags": []
          },
          "output_type": "display_data"
        }
      ],
      "source": [
        "ct = pd.crosstab(age_bin,[node_bin, df['survival']])\n",
        "ct.plot(kind='bar', stacked=True);\n"
      ]
    },
    {
      "cell_type": "code",
      "execution_count": 87,
      "metadata": {
        "colab": {
          "base_uri": "https://localhost:8080/",
          "height": 369
        },
        "colab_type": "code",
        "id": "WxIQhNjeXHI-",
        "outputId": "9dcf2cc7-25f5-4ac0-fa8e-e22b7ad751ae",
        "vscode": {
          "languageId": "python"
        }
      },
      "outputs": [
        {
          "data": {
            "image/png": "[encoded data removed]",
            "text/plain": [
              "<Figure size 407.375x360 with 1 Axes>"
            ]
          },
          "metadata": {
            "tags": []
          },
          "output_type": "display_data"
        }
      ],
      "source": [
        "sns.lmplot(\n",
        "    x='pos_aux_nodes', y='patient_age', data=df, \n",
        "    hue='survival', fit_reg=True, legend=True, \n",
        "    palette='plasma', robust=True,markers='o');\n"
      ]
    },
    {
      "cell_type": "markdown",
      "metadata": {
        "colab_type": "text",
        "id": "irzjf7vvhCUq"
      },
      "source": []
    },
    {
      "cell_type": "code",
      "execution_count": null,
      "metadata": {
        "colab": {},
        "colab_type": "code",
        "id": "AMbpM75CcfS0",
        "vscode": {
          "languageId": "python"
        }
      },
      "outputs": [],
      "source": []
    },
    {
      "attachments": {},
      "cell_type": "markdown",
      "metadata": {
        "colab_type": "text",
        "id": "TtUfdXSrhA5F"
      },
      "source": [
        " Analysis and Interpretation\n",
        "\n",
        "\n",
        "- What is at least one feature that looks to have a positive relationship with survival?\n",
        "- What is at least one feature that looks to have a negative relationship with survival?\n",
        "- How are those two features related with each other, and what might that mean?\n"
      ]
    },
    {
      "cell_type": "markdown",
      "metadata": {
        "colab_type": "text",
        "id": "Tgw5H6prmfHH"
      },
      "source": [
        "There is a postive relationship between the patients age and the number of positive auxillary nodes present towards the center denisty of the age range (fig1), however this trend negates as we pass the near median(fig2). This peak and reversal signals a resulting negative relationship.  \n",
        "bold text"
      ]
    },
    {
      "cell_type": "code",
      "execution_count": 69,
      "metadata": {
        "colab": {
          "base_uri": "https://localhost:8080/",
          "height": 345
        },
        "colab_type": "code",
        "id": "riYckqQXaFX2",
        "outputId": "1c8b5315-d930-49bd-c16c-268a600bc800",
        "vscode": {
          "languageId": "python"
        }
      },
      "outputs": [
        {
          "data": {
            "image/png": "[encoded data removed]",
            "text/plain": [
              "<Figure size 432x288 with 1 Axes>"
            ]
          },
          "metadata": {
            "tags": []
          },
          "output_type": "display_data"
        }
      ],
      "source": [
        "ct.plot(kind='bar', stacked=True);\n"
      ]
    },
    {
      "cell_type": "markdown",
      "metadata": {
        "colab_type": "text",
        "id": "6_1scu6aVfEi"
      },
      "source": [
        "\n",
        "Additonally it would appear from the information that the greatest chance of survival is correlated with median range. This appears to be a false correlation possibly due to instances of inforamation available for each age reported. While breast cancer tends to be considered a female mality this information lacks clarification on sex of the patient which could further confound the issue.\n",
        "\n",
        "One reason there maybe a greater incidence of positive aux nodes present in testing of the median age group is due to lack of testing itself. By the time the test was performed on a patient they could have accumulated a greater number of positive markers because they did not get tested sooner."
      ]
    },
    {
      "cell_type": "code",
      "execution_count": 90,
      "metadata": {
        "colab": {
          "base_uri": "https://localhost:8080/",
          "height": 369
        },
        "colab_type": "code",
        "id": "_r8GJKPgf4d6",
        "outputId": "c30be92b-d68d-4e7b-828a-327b000e3fe8",
        "vscode": {
          "languageId": "python"
        }
      },
      "outputs": [
        {
          "data": {
            "image/png": "[encoded data removed]",
            "text/plain": [
              "<Figure size 407.375x360 with 1 Axes>"
            ]
          },
          "metadata": {
            "tags": []
          },
          "output_type": "display_data"
        }
      ],
      "source": [
        "sns.lmplot(\n",
        "    x='patient_age', y='pos_aux_nodes', data=df, \n",
        "    hue='survival',  legend=True, \n",
        "    palette='plasma', robust=True,markers='o');"
      ]
    },
    {
      "cell_type": "code",
      "execution_count": null,
      "metadata": {
        "colab": {},
        "colab_type": "code",
        "id": "7NXkk7qgitiy",
        "vscode": {
          "languageId": "python"
        }
      },
      "outputs": [],
      "source": []
    }
  ],
  "metadata": {
    "colab": {
      "collapsed_sections": [],
      "include_colab_link": true,
      "name": "DS_Unit_1_Sprint_Challenge_1.ipynb",
      "provenance": [],
      "version": "0.3.2"
    },
    "kernelspec": {
      "display_name": "Python 3",
      "name": "python3"
    }
  },
  "nbformat": 4,
  "nbformat_minor": 0
}
